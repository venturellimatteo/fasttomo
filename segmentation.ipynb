{
 "cells": [
  {
   "cell_type": "code",
   "execution_count": 11,
   "metadata": {},
   "outputs": [],
   "source": [
    "import numpy as np                  # type: ignore\n",
    "import napari                       # type: ignore     \n",
    "import myfunctions as mf            # type: ignore"
   ]
  },
  {
   "cell_type": "markdown",
   "metadata": {},
   "source": [
    "##### Reading 4D sequence"
   ]
  },
  {
   "cell_type": "code",
   "execution_count": 2,
   "metadata": {},
   "outputs": [
    {
     "name": "stdout",
     "output_type": "stream",
     "text": [
      "Collecting sequence for experiment P28A_FT_H_Exp1...\n",
      "Sequence collected in 0.19 s\n",
      "\n",
      "Finding threshold...\n",
      "Threshold=1.94 found in 0.36 s\n",
      "\n"
     ]
    },
    {
     "name": "stderr",
     "output_type": "stream",
     "text": [
      "Volume segmentation and forward propagation: 100%|██████████| 53/53 [00:20<00:00,  2.53it/s]\n",
      "Backward propagation: 100%|██████████| 53/53 [00:03<00:00, 16.44it/s]\n"
     ]
    },
    {
     "name": "stdout",
     "output_type": "stream",
     "text": [
      "Filtering...\n"
     ]
    },
    {
     "name": "stderr",
     "output_type": "stream",
     "text": [
      "Inconsistent agglomerates removal: 100%|██████████| 44/44 [00:07<00:00,  5.92it/s]"
     ]
    },
    {
     "name": "stdout",
     "output_type": "stream",
     "text": [
      "Filtering completed in 8.05 s\n",
      "\n"
     ]
    },
    {
     "name": "stderr",
     "output_type": "stream",
     "text": [
      "\n"
     ]
    }
   ],
   "source": [
    "sequence = mf.read_4Dsequence('P28A_FT_H_Exp1', first_slice=100, last_slice=104+1)\n",
    "\n",
    "threshold = mf.find_threshold(sequence, target=5700)\n",
    "\n",
    "segmented_sequence = mf.segment4D(sequence, threshold, filtering3D=True, filtering4D=True, smallest_3Dvolume=10)"
   ]
  },
  {
   "cell_type": "code",
   "execution_count": 12,
   "metadata": {},
   "outputs": [],
   "source": [
    "viewer = napari.Viewer()\n",
    "\n",
    "images = [viewer.add_image(sequence, name='Volume', opacity=0.4)]\n",
    "\n",
    "labels = [viewer.add_labels(segmented_sequence, name='Labels', blending='additive', opacity=0.8)]\n",
    "\n",
    "settings = napari.settings.get_settings()\n",
    "settings.application.playback_fps = 5\n",
    "viewer.dims.current_step = (0, 0)"
   ]
  },
  {
   "cell_type": "markdown",
   "metadata": {},
   "source": [
    "##### Reading 3D sequence"
   ]
  },
  {
   "cell_type": "code",
   "execution_count": 13,
   "metadata": {},
   "outputs": [
    {
     "name": "stdout",
     "output_type": "stream",
     "text": [
      "Finding threshold...\n",
      "Threshold=2.00 found in 0.19 s\n",
      "\n"
     ]
    }
   ],
   "source": [
    "sequence = mf.read_3Dsequence('P28A_FT_H_Exp1', time=150)\n",
    "\n",
    "threshold = mf.find_threshold(sequence)\n",
    "\n",
    "segmented_sequence = mf.segment3D(sequence, threshold)"
   ]
  },
  {
   "cell_type": "code",
   "execution_count": 17,
   "metadata": {},
   "outputs": [],
   "source": [
    "viewer = napari.Viewer()\n",
    "_ = viewer.add_image(sequence, opacity=0.4)\n",
    "_ = viewer.add_labels(segmented_sequence, blending='additive', opacity=0.8)\n",
    "settings = napari.settings.get_settings()\n",
    "settings.application.playback_fps = 10\n",
    "viewer.dims.current_step = (0, 0)"
   ]
  }
 ],
 "metadata": {
  "kernelspec": {
   "display_name": "Python 3",
   "language": "python",
   "name": "python3"
  },
  "language_info": {
   "codemirror_mode": {
    "name": "ipython",
    "version": 3
   },
   "file_extension": ".py",
   "mimetype": "text/x-python",
   "name": "python",
   "nbconvert_exporter": "python",
   "pygments_lexer": "ipython3",
   "version": "3.8.17"
  }
 },
 "nbformat": 4,
 "nbformat_minor": 2
}
