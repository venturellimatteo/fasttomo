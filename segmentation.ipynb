{
 "cells": [
  {
   "cell_type": "markdown",
   "metadata": {},
   "source": [
    "Segmentation is applied to either 4D or 3D volumes.\n",
    "- Volumes are read from directories and organized in a <code>np.array</code>;\n",
    "- A volume subset is analyzed in order to determine the correct <code>threshold</code>;\n",
    "- The volume is segmented using the newly found <code>threshold</code>;\n",
    "- Results are imported into the <code>napari</code> viewer."
   ]
  },
  {
   "cell_type": "code",
   "execution_count": 2,
   "metadata": {},
   "outputs": [],
   "source": [
    "import numpy as np                  # type: ignore\n",
    "import napari                       # type: ignore     \n",
    "import myfunctions as mf            # type: ignore"
   ]
  },
  {
   "cell_type": "markdown",
   "metadata": {},
   "source": [
    "#### Reading 4D sequence"
   ]
  },
  {
   "cell_type": "code",
   "execution_count": 2,
   "metadata": {},
   "outputs": [],
   "source": [
    "exp = mf.exp_list()[1]\n",
    "first_slice = 100\n",
    "last_slice = 101\n",
    "OS = 'Windows'"
   ]
  },
  {
   "cell_type": "code",
   "execution_count": 3,
   "metadata": {},
   "outputs": [
    {
     "name": "stdout",
     "output_type": "stream",
     "text": [
      "Collecting sequence for experiment P28A_FT_H_Exp2...\n"
     ]
    },
    {
     "name": "stderr",
     "output_type": "stream",
     "text": [
      "Collecting sequence:   0%|          | 0/61 [00:00<?, ?it/s]"
     ]
    },
    {
     "name": "stderr",
     "output_type": "stream",
     "text": [
      "Collecting sequence: 100%|██████████| 61/61 [00:02<00:00, 23.35it/s]\n"
     ]
    },
    {
     "name": "stdout",
     "output_type": "stream",
     "text": [
      "\n",
      "Finding threshold...\n",
      "Threshold=2.00 found in 3.10 s\n",
      "\n",
      "\n",
      "Segmenting and propagating labels...\n"
     ]
    },
    {
     "name": "stderr",
     "output_type": "stream",
     "text": [
      "Volume segmentation and forward propagation: 100%|██████████| 60/60 [00:10<00:00,  5.75it/s]\n",
      "Backward propagation: 100%|██████████| 60/60 [00:02<00:00, 24.64it/s]\n"
     ]
    },
    {
     "name": "stdout",
     "output_type": "stream",
     "text": [
      "\n",
      "Filtering...\n",
      "Small agglomerates removed in 0.35 s\n"
     ]
    },
    {
     "name": "stderr",
     "output_type": "stream",
     "text": [
      "Inconsistent agglomerates removal: 100%|██████████| 51/51 [00:03<00:00, 12.80it/s]"
     ]
    },
    {
     "name": "stdout",
     "output_type": "stream",
     "text": [
      "\n",
      "\n",
      "\n"
     ]
    },
    {
     "name": "stderr",
     "output_type": "stream",
     "text": [
      "\n"
     ]
    }
   ],
   "source": [
    "sequence = mf.read_4Dsequence(exp, first_slice=first_slice, last_slice=last_slice, OS=OS, skip180=False)\n",
    "\n",
    "threshold = mf.find_threshold(sequence, target=5700)\n",
    "\n",
    "segmented_sequence = mf.segment4D(sequence, threshold, smallest_3Dvolume=10, save=False, exp=exp, OS=OS)"
   ]
  },
  {
   "cell_type": "code",
   "execution_count": 4,
   "metadata": {},
   "outputs": [],
   "source": [
    "viewer = napari.Viewer()\n",
    "\n",
    "images = [viewer.add_image(sequence, name='Volume', opacity=0.4)]\n",
    "\n",
    "labels = [viewer.add_labels(segmented_sequence, name='Labels', blending='additive', opacity=0.8)]\n",
    "\n",
    "settings = napari.settings.get_settings()\n",
    "settings.application.playback_fps = 5\n",
    "viewer.dims.current_step = (0, 0)"
   ]
  },
  {
   "cell_type": "markdown",
   "metadata": {},
   "source": [
    "#### Reading 3D sequence"
   ]
  },
  {
   "cell_type": "code",
   "execution_count": 3,
   "metadata": {},
   "outputs": [
    {
     "name": "stdout",
     "output_type": "stream",
     "text": [
      "Collecting sequence for experiment P28A_FT_H_Exp1...\n"
     ]
    },
    {
     "name": "stderr",
     "output_type": "stream",
     "text": [
      "Collecting sequence: 100%|██████████| 3/3 [00:19<00:00,  6.44s/it]\n"
     ]
    },
    {
     "name": "stdout",
     "output_type": "stream",
     "text": [
      "\n",
      "Segmenting and propagating labels...\n"
     ]
    },
    {
     "name": "stderr",
     "output_type": "stream",
     "text": [
      "Volume segmentation and forward propagation: 100%|██████████| 2/2 [04:29<00:00, 134.75s/it]\n",
      "Backward propagation: 100%|██████████| 2/2 [01:58<00:00, 59.02s/it]\n"
     ]
    },
    {
     "name": "stdout",
     "output_type": "stream",
     "text": [
      "\n",
      "Filtering...\n",
      "Small agglomerates removed in 2.63 s\n"
     ]
    },
    {
     "name": "stderr",
     "output_type": "stream",
     "text": [
      "Inconsistent agglomerates removal: 0it [00:00, ?it/s]"
     ]
    },
    {
     "name": "stdout",
     "output_type": "stream",
     "text": [
      "\n",
      "\n",
      "\n"
     ]
    },
    {
     "name": "stderr",
     "output_type": "stream",
     "text": [
      "\n"
     ]
    }
   ],
   "source": [
    "exp = 'P28A_FT_H_Exp1'\n",
    "OS = 'Windows'\n",
    "threshold = 2\n",
    "start_time = 150\n",
    "end_time = 152\n",
    "\n",
    "sequence = mf.read_4Dsequence(exp, start_time=start_time, end_time=end_time, OS=OS, skip180=False)\n",
    "segmented_sequence = mf.segment4D(sequence, threshold, smallest_3Dvolume=50, save=False, exp=exp, OS=OS)"
   ]
  },
  {
   "cell_type": "code",
   "execution_count": 2,
   "metadata": {},
   "outputs": [
    {
     "name": "stdout",
     "output_type": "stream",
     "text": [
      "Sequence 1 read\n",
      "Sequence 1 segmented\n",
      "Sequence 2 read\n",
      "Sequence 2 segmented\n"
     ]
    },
    {
     "name": "stderr",
     "output_type": "stream",
     "text": [
      "Propagating labels: 100%|██████████| 807/807 [00:53<00:00, 15.06it/s]\n"
     ]
    },
    {
     "name": "stdout",
     "output_type": "stream",
     "text": [
      "Labels propagated\n",
      "Sequence 3 read\n",
      "Sequence 3 segmented\n"
     ]
    },
    {
     "name": "stderr",
     "output_type": "stream",
     "text": [
      "Propagating labels: 100%|██████████| 803/803 [00:43<00:00, 18.40it/s]\n"
     ]
    },
    {
     "name": "stdout",
     "output_type": "stream",
     "text": [
      "Labels propagated\n"
     ]
    }
   ],
   "source": [
    "exp = 'P28A_FT_H_Exp1'\n",
    "threshold = 2\n",
    "\n",
    "sequence1 = mf.read_3Dsequence(exp, time=150, OS='Windows')\n",
    "print('Sequence 1 read')\n",
    "segmented_sequence1 = mf.segment3D(sequence1, threshold)\n",
    "print('Sequence 1 segmented')\n",
    "sequence2 = mf.read_3Dsequence(exp, time=151, OS='Windows')\n",
    "print('Sequence 2 read')\n",
    "segmented_sequence2 = mf.segment3D(sequence2, threshold)\n",
    "print('Sequence 2 segmented')\n",
    "segmented_sequence2 = mf.propagate_labels(segmented_sequence1, segmented_sequence2, verbose=True)\n",
    "print('Labels propagated') \n",
    "sequence3 = mf.read_3Dsequence(exp, time=152, OS='Windows')\n",
    "print('Sequence 3 read')\n",
    "segmented_sequence3 = mf.segment3D(sequence3, threshold)\n",
    "print('Sequence 3 segmented')\n",
    "segmented_sequence3 = mf.propagate_labels(segmented_sequence2, segmented_sequence3, verbose=True)\n",
    "print('Labels propagated') \n",
    "\n",
    "# mf.save_segmentation_map(segmented_sequence, exp, OS='MacOS')"
   ]
  },
  {
   "cell_type": "code",
   "execution_count": 3,
   "metadata": {},
   "outputs": [],
   "source": [
    "viewer = napari.Viewer()\n",
    "_ = viewer.add_image(sequence, opacity=0.4)\n",
    "_ = viewer.add_labels(segmented_sequence, blending='additive', opacity=0.8)\n",
    "settings = napari.settings.get_settings()\n",
    "settings.application.playback_fps = 10\n",
    "viewer.dims.current_step = (0, 0)"
   ]
  },
  {
   "cell_type": "markdown",
   "metadata": {},
   "source": [
    "#### 4D segmentation algorithm description"
   ]
  },
  {
   "cell_type": "markdown",
   "metadata": {},
   "source": [
    "4D segmentation is a generalization of the 3D segmentation algorithm. \n",
    "\n",
    "<code>segment3D</code> assigns labels to agglomerates in each 2D $(x,y)$ slice separately using the <code>mask</code> function and exploits label propagation and filtering to settle consistent labels between different slices.\n",
    "- <code>propagate_labels</code> function is used to assign the same labels to overlapping agglomerates in two neighboring slices. For each agglomerate in <code>previous_mask</code>, proceeding in increasing order of agglomerate size, its label is propagated to the agglomerate with largest overlap in <code>previous_mask</code> and to all other agglomerates with overlap > <code>propatation_threshold</code>. The labels of the agglomerates that were not present in <code>previous_mask</code> are redistributed in order to assume the values of the lowest integers possible. The propagation is carried out in two directions (+z and -z) in order to improve consistency.\n",
    "- Filtering consists in two processes:\n",
    "    -  <code>remove_isolated_agglomerates</code> cycles through every slice and removes the agglomerates which are present in neither the previous slice nor in the next slice;\n",
    "    - <code>remove_small_agglomerates</code> removes the agglomerates with volume smaller than <code>smallest_3Dvolume</code>.\n",
    "\n",
    "<code>segment4D</code> exploits 3D segmentation to segment each volume in the time sequence separately and applies in 4D the steps that are applied in 3D by <code>segment3D</code> with some small differences.\n",
    "- Each 3D volume is segmented using <code>segment3D</code> and labels are propagated (this time along the time axis, not the z axis) using <code>propagate_labels</code> function.\n",
    "- Filtering in 4D exploits again the removal of small agglomerates (this time for agglomerates with volume smaller than <code>smallest_4Dvolume</code>) and introduces another filter by means of <code>remove_inconsistent_agglomerates</code>. This function is used to remove the agglomerates that are not appearing consecutively for at least (<code>time_steps</code>) time instants."
   ]
  }
 ],
 "metadata": {
  "kernelspec": {
   "display_name": "Python 3",
   "language": "python",
   "name": "python3"
  },
  "language_info": {
   "codemirror_mode": {
    "name": "ipython",
    "version": 3
   },
   "file_extension": ".py",
   "mimetype": "text/x-python",
   "name": "python",
   "nbconvert_exporter": "python",
   "pygments_lexer": "ipython3",
   "version": "3.8.17"
  }
 },
 "nbformat": 4,
 "nbformat_minor": 2
}
