{
 "cells": [
  {
   "cell_type": "code",
   "execution_count": 1,
   "metadata": {},
   "outputs": [],
   "source": [
    "import numpy as np                  # type: ignore\n",
    "import napari                       # type: ignore     \n",
    "import myfunctions as mf            # type: ignore"
   ]
  },
  {
   "cell_type": "markdown",
   "metadata": {},
   "source": [
    "##### Reading 4D sequence"
   ]
  },
  {
   "cell_type": "code",
   "execution_count": 2,
   "metadata": {},
   "outputs": [
    {
     "name": "stdout",
     "output_type": "stream",
     "text": [
      "Collecting sequence for experiment P28A_FT_H_Exp1...\n",
      "Sequence collected in 0.19 s\n",
      "\n",
      "Finding threshold...\n",
      "Threshold=2.12 found in 0.26 s\n",
      "\n"
     ]
    },
    {
     "name": "stderr",
     "output_type": "stream",
     "text": [
      "Volume segmentation and forward propagation: 100%|██████████| 53/53 [00:12<00:00,  4.39it/s]\n",
      "Backward propagation: 100%|██████████| 53/53 [00:02<00:00, 17.69it/s]\n"
     ]
    },
    {
     "name": "stdout",
     "output_type": "stream",
     "text": [
      "Filtering...\n",
      "Filtering completed in 0.60 s\n",
      "\n"
     ]
    }
   ],
   "source": [
    "sequence = mf.read_4Dsequence('P28A_FT_H_Exp1', first_slice=100, last_slice=104+1)\n",
    "\n",
    "threshold = mf.find_threshold(sequence)\n",
    "\n",
    "threshold = 2\n",
    "\n",
    "segmented_sequence = mf.segment4D(sequence, threshold, filtering3D=True, smallest_4Dvolume=100)"
   ]
  },
  {
   "cell_type": "code",
   "execution_count": 3,
   "metadata": {},
   "outputs": [],
   "source": [
    "viewer = napari.Viewer()\n",
    "\n",
    "images = [viewer.add_image(sequence[:, i, :, :], \n",
    "                           name=f'Slice {100+i}', \n",
    "                           opacity=0.4, \n",
    "                           visible=False) \n",
    "                           for i in range(sequence.shape[1])]\n",
    "\n",
    "labels = [viewer.add_labels(segmented_sequence[:, i, :, :], \n",
    "                            name=f'Label {100+i}', \n",
    "                            blending='additive', \n",
    "                            opacity=0.8, \n",
    "                            visible=False) \n",
    "                            for i in range(sequence.shape[1])]\n",
    "\n",
    "images[0].visible = True\n",
    "labels[0].visible = True"
   ]
  },
  {
   "cell_type": "markdown",
   "metadata": {},
   "source": [
    "##### Reading 3D sequence"
   ]
  },
  {
   "cell_type": "code",
   "execution_count": 4,
   "metadata": {},
   "outputs": [
    {
     "name": "stdout",
     "output_type": "stream",
     "text": [
      "Finding threshold...\n",
      "Threshold=2.00 found in 0.20 s\n",
      "\n"
     ]
    }
   ],
   "source": [
    "sequence = mf.read_3Dsequence('P28A_FT_H_Exp1', time=150)\n",
    "\n",
    "threshold = mf.find_threshold(sequence)\n",
    "\n",
    "segmented_sequence = mf.segment3D(sequence, threshold)"
   ]
  },
  {
   "cell_type": "code",
   "execution_count": 5,
   "metadata": {},
   "outputs": [],
   "source": [
    "viewer = napari.Viewer()\n",
    "_ = viewer.add_image(sequence, opacity=0.4)\n",
    "_ = viewer.add_labels(segmented_sequence, blending='additive', opacity=0.8)"
   ]
  }
 ],
 "metadata": {
  "kernelspec": {
   "display_name": "Python 3",
   "language": "python",
   "name": "python3"
  },
  "language_info": {
   "codemirror_mode": {
    "name": "ipython",
    "version": 3
   },
   "file_extension": ".py",
   "mimetype": "text/x-python",
   "name": "python",
   "nbconvert_exporter": "python",
   "pygments_lexer": "ipython3",
   "version": "3.8.17"
  }
 },
 "nbformat": 4,
 "nbformat_minor": 2
}
