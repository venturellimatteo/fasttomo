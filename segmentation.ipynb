{
 "cells": [
  {
   "cell_type": "markdown",
   "metadata": {},
   "source": [
    "Extract a sequence (either in <code>time</code> or <code>slice</code>) and apply thresholding to segment the agglomerates. \n",
    "\n",
    "An algorithm to assign consistent labeling to neighboring aggolerates is used."
   ]
  },
  {
   "cell_type": "code",
   "execution_count": 1,
   "metadata": {},
   "outputs": [],
   "source": [
    "import numpy as np                  # type: ignore\n",
    "import napari                       # type: ignore     \n",
    "import myfunctions as mf            # type: ignore\n",
    "from skimage.measure import label   # type: ignore\n",
    "from skimage.io import imshow       # type: ignore"
   ]
  },
  {
   "cell_type": "markdown",
   "metadata": {},
   "source": [
    "##### Reading 4D sequence"
   ]
  },
  {
   "cell_type": "code",
   "execution_count": 2,
   "metadata": {},
   "outputs": [],
   "source": [
    "sequence = mf.read_4Dsequence('P28A_FT_H_Exp1', first_slice=100, last_slice=104+1)\n",
    "viewer = napari.Viewer()\n",
    "for i in range(sequence.shape[1]):\n",
    "    _ = viewer.add_image(sequence[:, i, :, :], name=f'Slice {100+i}', opacity=0.4)"
   ]
  },
  {
   "cell_type": "code",
   "execution_count": 3,
   "metadata": {},
   "outputs": [
    {
     "name": "stderr",
     "output_type": "stream",
     "text": [
      "Segmenting Volumes and Propagating Forward: 100%|██████████| 107/107 [00:50<00:00,  2.13it/s]\n",
      "Propagating Backward: 100%|██████████| 107/107 [00:26<00:00,  4.07it/s]\n"
     ]
    }
   ],
   "source": [
    "threshold = 2\n",
    "# threshold = mf.find_threshold(sequence)\n",
    "segmented_sequence = mf.segment4D(sequence, threshold)\n",
    "for i in range(sequence.shape[1]):\n",
    "    _ = viewer.add_labels(segmented_sequence[:, i, :, :], name=f'Label {100+i}', blending='additive', opacity=0.8)"
   ]
  },
  {
   "cell_type": "markdown",
   "metadata": {},
   "source": [
    "##### Reading 3D sequence"
   ]
  },
  {
   "cell_type": "markdown",
   "metadata": {},
   "source": [
    "Import an image sequence into napari.\n",
    "- *<code>default</code>: specify <code>time</code> and look at the whole volume*\n",
    "- *<code>volume=False</code>: specify <code>slice</code> and look at the time evolution*"
   ]
  },
  {
   "cell_type": "code",
   "execution_count": 2,
   "metadata": {},
   "outputs": [],
   "source": [
    "sequence = mf.read_3Dsequence('P28A_FT_H_Exp1', time=150)\n",
    "viewer = napari.Viewer()\n",
    "_ = viewer.add_image(sequence, opacity=0.4)"
   ]
  },
  {
   "cell_type": "code",
   "execution_count": 4,
   "metadata": {},
   "outputs": [],
   "source": [
    "threshold = 2\n",
    "# threshold = mf.find_threshold(sequence)\n",
    "segmented_sequence = mf.segment3D(sequence, threshold)\n",
    "_ = viewer.add_labels(segmented_sequence, blending='additive', opacity=0.8)"
   ]
  }
 ],
 "metadata": {
  "kernelspec": {
   "display_name": "Python 3",
   "language": "python",
   "name": "python3"
  },
  "language_info": {
   "codemirror_mode": {
    "name": "ipython",
    "version": 3
   },
   "file_extension": ".py",
   "mimetype": "text/x-python",
   "name": "python",
   "nbconvert_exporter": "python",
   "pygments_lexer": "ipython3",
   "version": "3.8.17"
  }
 },
 "nbformat": 4,
 "nbformat_minor": 2
}
