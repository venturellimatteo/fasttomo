{
 "cells": [
  {
   "cell_type": "markdown",
   "metadata": {},
   "source": [
    "Segmentation is applied to either 4D or 3D volumes.\n",
    "- Volumes are read from directories and organized in a <code>np.array</code>;\n",
    "- A volume subset is analyzed in order to determine the correct <code>threshold</code>;\n",
    "- The volume is segmented using the newly found <code>threshold</code>;\n",
    "- Results are imported into the <code>napari</code> viewer."
   ]
  },
  {
   "cell_type": "code",
   "execution_count": 1,
   "metadata": {},
   "outputs": [],
   "source": [
    "import numpy as np                  # type: ignore\n",
    "import napari                       # type: ignore     \n",
    "import myfunctions as mf            # type: ignore"
   ]
  },
  {
   "cell_type": "markdown",
   "metadata": {},
   "source": [
    "#### Reading 4D sequence"
   ]
  },
  {
   "cell_type": "code",
   "execution_count": 2,
   "metadata": {},
   "outputs": [],
   "source": [
    "exp = 'P28A_FT_H_Exp1'\n",
    "first_slice = 100\n",
    "last_slice = 104\n",
    "OS = 'MacOS'"
   ]
  },
  {
   "cell_type": "code",
   "execution_count": 3,
   "metadata": {},
   "outputs": [
    {
     "name": "stdout",
     "output_type": "stream",
     "text": [
      "Collecting sequence for experiment P28A_FT_H_Exp1...\n"
     ]
    },
    {
     "name": "stderr",
     "output_type": "stream",
     "text": [
      "Collecting sequence:   0%|          | 0/55 [00:00<?, ?it/s]"
     ]
    },
    {
     "name": "stderr",
     "output_type": "stream",
     "text": [
      "Collecting sequence: 100%|██████████| 55/55 [00:00<00:00, 271.17it/s]\n"
     ]
    },
    {
     "name": "stdout",
     "output_type": "stream",
     "text": [
      "\n",
      "Finding threshold...\n",
      "Threshold=2.00 found in 3.14 s\n",
      "\n",
      "\n",
      "Segmenting and propagating labels...\n"
     ]
    },
    {
     "name": "stderr",
     "output_type": "stream",
     "text": [
      "Volume segmentation and forward propagation: 100%|██████████| 54/54 [00:17<00:00,  3.01it/s]\n",
      "Backward propagation: 100%|██████████| 54/54 [00:05<00:00, 10.24it/s]\n"
     ]
    },
    {
     "name": "stdout",
     "output_type": "stream",
     "text": [
      "\n",
      "Filtering...\n",
      "Small agglomerates removed in 0.64 s\n"
     ]
    },
    {
     "name": "stderr",
     "output_type": "stream",
     "text": [
      "Inconsistent agglomerates removal: 100%|██████████| 45/45 [00:05<00:00,  7.50it/s]"
     ]
    },
    {
     "name": "stdout",
     "output_type": "stream",
     "text": [
      "\n",
      "\n",
      "\n"
     ]
    },
    {
     "name": "stderr",
     "output_type": "stream",
     "text": [
      "\n"
     ]
    }
   ],
   "source": [
    "sequence = mf.read_4Dsequence(exp, first_slice=first_slice, last_slice=last_slice, OS=OS)\n",
    "\n",
    "threshold = mf.find_threshold(sequence, target=5700)\n",
    "\n",
    "segmented_sequence = mf.segment4D(sequence, threshold, smallest_3Dvolume=10)\n",
    "\n",
    "mf.save_segmentation_map(segmented_sequence[0,:,:,:], exp, OS=OS)"
   ]
  },
  {
   "cell_type": "code",
   "execution_count": 4,
   "metadata": {},
   "outputs": [],
   "source": [
    "viewer = napari.Viewer()\n",
    "\n",
    "images = [viewer.add_image(sequence, name='Volume', opacity=0.4)]\n",
    "\n",
    "labels = [viewer.add_labels(segmented_sequence, name='Labels', blending='additive', opacity=0.8)]\n",
    "\n",
    "settings = napari.settings.get_settings()\n",
    "settings.application.playback_fps = 5\n",
    "viewer.dims.current_step = (0, 0)"
   ]
  },
  {
   "cell_type": "markdown",
   "metadata": {},
   "source": [
    "#### Reading 3D sequence"
   ]
  },
  {
   "cell_type": "code",
   "execution_count": null,
   "metadata": {},
   "outputs": [],
   "source": [
    "exp = 'P28A_FT_H_Exp1'\n",
    "\n",
    "sequence = mf.read_3Dsequence(exp, time=150)\n",
    "\n",
    "threshold = mf.find_threshold(sequence)\n",
    "\n",
    "threshold = 2\n",
    "\n",
    "segmented_sequence = mf.segment3D(sequence, threshold)\n",
    "\n",
    "# mf.save_segmentation_map(segmented_sequence, exp, OS='MacOS')"
   ]
  },
  {
   "cell_type": "code",
   "execution_count": 3,
   "metadata": {},
   "outputs": [],
   "source": [
    "viewer = napari.Viewer()\n",
    "_ = viewer.add_image(sequence, opacity=0.4)\n",
    "_ = viewer.add_labels(segmented_sequence, blending='additive', opacity=0.8)\n",
    "settings = napari.settings.get_settings()\n",
    "settings.application.playback_fps = 10\n",
    "viewer.dims.current_step = (0, 0)"
   ]
  },
  {
   "cell_type": "markdown",
   "metadata": {},
   "source": [
    "#### 4D segmentation algorithm description"
   ]
  },
  {
   "cell_type": "markdown",
   "metadata": {},
   "source": [
    "4D segmentation is a generalization of the 3D segmentation algorithm. \n",
    "\n",
    "<code>segment3D</code> assigns labels to agglomerates in each 2D $(x,y)$ slice separately using the <code>mask</code> function and exploits label propagation and filtering to settle consistent labels between different slices.\n",
    "- <code>propagate_labels</code> function is used to assign the same labels to overlapping agglomerates in two neighboring slices. For each agglomerate in <code>previous_mask</code>, proceeding in increasing order of agglomerate size, its label is propagated to the agglomerate with largest overlap in <code>previous_mask</code> and to all other agglomerates with overlap > <code>propatation_threshold</code>. The labels of the agglomerates that were not present in <code>previous_mask</code> are redistributed in order to assume the values of the lowest integers possible. The propagation is carried out in two directions (+z and -z) in order to improve consistency.\n",
    "- Filtering consists in two processes:\n",
    "    -  <code>remove_isolated_agglomerates</code> cycles through every slice and removes the agglomerates which are present in neither the previous slice nor in the next slice;\n",
    "    - <code>remove_small_agglomerates</code> removes the agglomerates with volume smaller than <code>smallest_3Dvolume</code>.\n",
    "\n",
    "<code>segment4D</code> exploits 3D segmentation to segment each volume in the time sequence separately and applies in 4D the steps that are applied in 3D by <code>segment3D</code> with some small differences.\n",
    "- Each 3D volume is segmented using <code>segment3D</code> and labels are propagated (this time along the time axis, not the z axis) using <code>propagate_labels</code> function.\n",
    "- Filtering in 4D exploits again the removal of small agglomerates (this time for agglomerates with volume smaller than <code>smallest_4Dvolume</code>) and introduces another filter by means of <code>remove_inconsistent_agglomerates</code>. This function is used to remove the agglomerates that are not appearing consecutively for at least (<code>time_steps</code>) time instants."
   ]
  }
 ],
 "metadata": {
  "kernelspec": {
   "display_name": "Python 3",
   "language": "python",
   "name": "python3"
  },
  "language_info": {
   "codemirror_mode": {
    "name": "ipython",
    "version": 3
   },
   "file_extension": ".py",
   "mimetype": "text/x-python",
   "name": "python",
   "nbconvert_exporter": "python",
   "pygments_lexer": "ipython3",
   "version": "3.8.17"
  }
 },
 "nbformat": 4,
 "nbformat_minor": 2
}
