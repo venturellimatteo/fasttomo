{
 "cells": [
  {
   "cell_type": "markdown",
   "metadata": {},
   "source": [
    "Extract a sequence (either in <code>time</code> or <code>slice</code>) and apply thresholding to segment the agglomerates. \n",
    "\n",
    "An algorithm to assign consistent labeling to neighboring aggolerates is used."
   ]
  },
  {
   "cell_type": "code",
   "execution_count": 5,
   "metadata": {},
   "outputs": [],
   "source": [
    "import numpy as np                  # type: ignore\n",
    "import napari                       # type: ignore     \n",
    "import myfunctions as mf            # type: ignore\n",
    "from skimage.measure import label   # type: ignore\n",
    "from skimage.io import imshow       # type: ignore"
   ]
  },
  {
   "cell_type": "markdown",
   "metadata": {},
   "source": [
    "Import an image sequence into napari.\n",
    "- *<code>default</code>: specify <code>time</code> and look at the whole volume*\n",
    "- *<code>volume=False</code>: specify <code>slice</code> and look at the time evolution*"
   ]
  },
  {
   "cell_type": "code",
   "execution_count": 6,
   "metadata": {},
   "outputs": [],
   "source": [
    "sequence = mf.read_sequence('P28A_FT_H_Exp1', time=150)\n",
    "viewer = napari.Viewer()\n",
    "_ = viewer.add_image(sequence)"
   ]
  },
  {
   "cell_type": "code",
   "execution_count": 7,
   "metadata": {},
   "outputs": [
    {
     "name": "stderr",
     "output_type": "stream",
     "text": [
      "Segmenting volume: 100%|██████████| 239/239 [00:07<00:00, 34.03it/s]\n",
      "Propagating labels: 100%|██████████| 239/239 [00:06<00:00, 37.24it/s]\n"
     ]
    }
   ],
   "source": [
    "threshold = 2\n",
    "# threshold = mf.find_threshold(sequence)\n",
    "segmented_image = mf.segment(sequence, threshold)\n",
    "_ = viewer.add_labels(segmented_image)"
   ]
  },
  {
   "cell_type": "code",
   "execution_count": 8,
   "metadata": {},
   "outputs": [],
   "source": [
    "# changing the viewer settings\n",
    "background, labels = viewer.layers\n",
    "background.opacity = 0.4\n",
    "labels.blending = 'additive'\n",
    "labels.opacity = 0.8"
   ]
  }
 ],
 "metadata": {
  "kernelspec": {
   "display_name": "Python 3",
   "language": "python",
   "name": "python3"
  },
  "language_info": {
   "codemirror_mode": {
    "name": "ipython",
    "version": 3
   },
   "file_extension": ".py",
   "mimetype": "text/x-python",
   "name": "python",
   "nbconvert_exporter": "python",
   "pygments_lexer": "ipython3",
   "version": "3.8.17"
  }
 },
 "nbformat": 4,
 "nbformat_minor": 2
}
