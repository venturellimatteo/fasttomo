{
 "cells": [
  {
   "cell_type": "code",
   "execution_count": 39,
   "metadata": {},
   "outputs": [],
   "source": [
    "import shutil\n",
    "import os"
   ]
  },
  {
   "cell_type": "code",
   "execution_count": 50,
   "metadata": {},
   "outputs": [],
   "source": [
    "def image_file(time, slice):\n",
    "    image_file = 'entry' + str(time).zfill(4) + '_no_extpag_db0100_vol_' + str(slice).zfill(6) + '.tiff'\n",
    "    return image_file\n",
    "\n",
    "def time_directory(time):\n",
    "    time_dir = 'entry' + str(time).zfill(4) + '_no_extpag_db0100_vol'\n",
    "    return time_dir\n",
    "\n",
    "def src_dir(time, slice):\n",
    "    return os.path.join(time_directory(time), image_file(time, slice))\n",
    "\n",
    "def dst_dir(time, slice):\n",
    "    return os.path.join('slice ' + str(slice), image_file(time, slice))\n",
    "\n",
    "def create_dst_folder(exp, slice):\n",
    "    parent_dir = 'Z:\\\\Reconstructions\\\\' + exp\n",
    "    os.chdir(parent_dir)\n",
    "    dst_dir = os.path.join(parent_dir, 'slice ' + str(slice))\n",
    "    if not os.path.exists(dst_dir):\n",
    "        os.mkdir(dst_dir)"
   ]
  },
  {
   "cell_type": "code",
   "execution_count": 52,
   "metadata": {},
   "outputs": [],
   "source": [
    "max_time = 222\n",
    "slice = 150\n",
    "exp = 'P28A_FT_H_Exp1'\n",
    "\n",
    "create_dst_folder(exp, slice)\n",
    "\n",
    "for time in range(0, max_time + 1, 1):\n",
    "    shutil.copyfile(src_dir(time, slice), dst_dir(time, slice))"
   ]
  }
 ],
 "metadata": {
  "kernelspec": {
   "display_name": "Python 3",
   "language": "python",
   "name": "python3"
  },
  "language_info": {
   "codemirror_mode": {
    "name": "ipython",
    "version": 3
   },
   "file_extension": ".py",
   "mimetype": "text/x-python",
   "name": "python",
   "nbconvert_exporter": "python",
   "pygments_lexer": "ipython3",
   "version": "3.8.18"
  }
 },
 "nbformat": 4,
 "nbformat_minor": 2
}
