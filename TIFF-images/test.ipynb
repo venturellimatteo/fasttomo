{
 "cells": [
  {
   "cell_type": "code",
   "execution_count": 1,
   "metadata": {},
   "outputs": [],
   "source": [
    "import numpy as np                                  # type: ignore\n",
    "from skimage.measure import label, regionprops      # type: ignore\n",
    "from skimage.io import imread, imshow               # type: ignore\n",
    "from skimage.filters import threshold_yen           # type: ignore\n",
    "import glob\n",
    "from dataclasses import dataclass\n",
    "import napari\n",
    "import os\n",
    "import time as clock\n",
    "import myfunctions as mf\n",
    "from tqdm import tqdm"
   ]
  },
  {
   "cell_type": "code",
   "execution_count": 2,
   "metadata": {},
   "outputs": [
    {
     "name": "stdout",
     "output_type": "stream",
     "text": [
      "VCT5A_FT_H_Exp5\n",
      "Collecting sequence for experiment VCT5A_FT_H_Exp5...\n"
     ]
    },
    {
     "name": "stderr",
     "output_type": "stream",
     "text": [
      "Collecting sequence: 100%|██████████| 78/78 [00:03<00:00, 25.88it/s]\n"
     ]
    }
   ],
   "source": [
    "exp = mf.exp_list()[20]\n",
    "print(exp)\n",
    "first_slice = 100\n",
    "last_slice = 100\n",
    "OS = 'Windows'\n",
    "\n",
    "sequence = mf.read_4Dsequence(exp, first_slice=first_slice, last_slice=last_slice, OS=OS, skip180=True)\n",
    "\n",
    "viewer = napari.Viewer()\n",
    "images = [viewer.add_image(sequence, name='Volume')]\n",
    "viewer.dims.current_step = (0, 0)"
   ]
  },
  {
   "cell_type": "code",
   "execution_count": null,
   "metadata": {},
   "outputs": [],
   "source": []
  }
 ],
 "metadata": {
  "kernelspec": {
   "display_name": "Python 3",
   "language": "python",
   "name": "python3"
  },
  "language_info": {
   "codemirror_mode": {
    "name": "ipython",
    "version": 3
   },
   "file_extension": ".py",
   "mimetype": "text/x-python",
   "name": "python",
   "nbconvert_exporter": "python",
   "pygments_lexer": "ipython3",
   "version": "3.8.18"
  }
 },
 "nbformat": 4,
 "nbformat_minor": 2
}
