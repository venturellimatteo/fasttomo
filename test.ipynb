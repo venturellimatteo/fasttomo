{
 "cells": [
  {
   "cell_type": "code",
   "execution_count": 18,
   "metadata": {},
   "outputs": [],
   "source": [
    "import numpy as np                                  # type: ignore\n",
    "from skimage.measure import label, regionprops      # type: ignore\n",
    "from skimage.io import imread, imshow               # type: ignore\n",
    "from skimage.filters import threshold_yen           # type: ignore\n",
    "import glob\n",
    "from dataclasses import dataclass\n",
    "import napari\n",
    "import os\n",
    "import time\n",
    "import myfunctions as mf\n",
    "from tqdm import tqdm"
   ]
  },
  {
   "cell_type": "code",
   "execution_count": 31,
   "metadata": {},
   "outputs": [],
   "source": [
    "def mask(image, threshold):\n",
    "    return np.vectorize(label, signature='(n,m)->(n,m)')(image > threshold)\n",
    "\n",
    "def remove_small_agglomerates(sequence_mask, smallest_volume):\n",
    "    bincount = np.bincount(sequence_mask.flatten())\n",
    "    sequence_mask[np.isin(sequence_mask, np.where(bincount < smallest_volume))] = 0\n",
    "    return sequence_mask\n",
    "\n",
    "def propagate_3Dlabels(previous_mask, current_mask, forward=True):\n",
    "    if forward:\n",
    "        current_mask[current_mask > 0] = current_mask[current_mask > 0] + np.max(previous_mask)\n",
    "    unique_labels, label_counts = np.unique(previous_mask, return_counts=True)\n",
    "    ordered_labels = unique_labels[np.argsort(label_counts)]\n",
    "    for previous_slice_label in ordered_labels:\n",
    "        if previous_slice_label == 0:\n",
    "            continue\n",
    "        bincount = np.bincount(current_mask[previous_mask == previous_slice_label])\n",
    "        if len(bincount) <= 1:\n",
    "            continue\n",
    "        bincount[0] = 0\n",
    "        current_slice_label = np.argmax(bincount)\n",
    "        current_mask[current_mask == current_slice_label] = previous_slice_label\n",
    "    return current_mask\n",
    "\n",
    "def segment3D(sequence, threshold, smallest_volume=100, filtering=True):\n",
    "\n",
    "    sequence_mask = np.zeros_like(sequence).astype(int)\n",
    "    sequence_mask[0,:,:] = mask(sequence[0,:,:], threshold)\n",
    "    # masking of current slice and forward propagation from the first slice\n",
    "    for i in range(1, sequence.shape[0]):\n",
    "        sequence_mask[i,:,:] = mask(sequence[i,:,:], threshold)\n",
    "        sequence_mask[i,:,:] = propagate_3Dlabels(sequence_mask[i-1,:,:], sequence_mask[i,:,:], forward=True)\n",
    "    # backward propagation from the last slice\n",
    "    for i in range(sequence_mask.shape[0]-1, 0, -1):\n",
    "        sequence_mask[i-1,:,:] = propagate_3Dlabels(sequence_mask[i,:,:], sequence_mask[i-1,:,:], forward=False)\n",
    "    # removal of the agglomerates with volume smaller than smallest_volume\n",
    "    if filtering:\n",
    "        sequence_mask = remove_small_agglomerates(sequence_mask, smallest_volume)\n",
    "    return sequence_mask"
   ]
  },
  {
   "cell_type": "code",
   "execution_count": 32,
   "metadata": {},
   "outputs": [],
   "source": [
    "sequence = mf.read_3Dsequence('P28A_FT_H_Exp1', time=150)\n",
    "viewer = napari.Viewer()\n",
    "_ = viewer.add_image(sequence, opacity=0.4)\n",
    "threshold = 2"
   ]
  },
  {
   "cell_type": "code",
   "execution_count": 33,
   "metadata": {},
   "outputs": [],
   "source": [
    "segmented_sequence = mf.segment3D(sequence, threshold)"
   ]
  },
  {
   "cell_type": "code",
   "execution_count": 34,
   "metadata": {},
   "outputs": [],
   "source": [
    "segmented_sequence = segment3D(sequence, threshold)"
   ]
  },
  {
   "cell_type": "code",
   "execution_count": null,
   "metadata": {},
   "outputs": [],
   "source": [
    "_ = viewer.add_labels(segmented_sequence, blending='additive', opacity=0.8)"
   ]
  }
 ],
 "metadata": {
  "kernelspec": {
   "display_name": "Python 3",
   "language": "python",
   "name": "python3"
  },
  "language_info": {
   "codemirror_mode": {
    "name": "ipython",
    "version": 3
   },
   "file_extension": ".py",
   "mimetype": "text/x-python",
   "name": "python",
   "nbconvert_exporter": "python",
   "pygments_lexer": "ipython3",
   "version": "3.8.17"
  }
 },
 "nbformat": 4,
 "nbformat_minor": 2
}
