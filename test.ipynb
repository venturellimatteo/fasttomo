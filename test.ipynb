{
 "cells": [
  {
   "cell_type": "code",
   "execution_count": 1,
   "metadata": {},
   "outputs": [],
   "source": [
    "import numpy as np                                  # type: ignore\n",
    "from skimage.measure import label, regionprops      # type: ignore\n",
    "from skimage.io import imread, imshow               # type: ignore\n",
    "from skimage.filters import threshold_yen           # type: ignore\n",
    "import glob\n",
    "from dataclasses import dataclass\n",
    "import napari\n",
    "import os\n",
    "import time\n",
    "import myfunctions as mf\n",
    "from tqdm import tqdm"
   ]
  },
  {
   "cell_type": "code",
   "execution_count": 2,
   "metadata": {},
   "outputs": [
    {
     "name": "stdout",
     "output_type": "stream",
     "text": [
      "Collecting sequence for experiment P28A_FT_H_Exp1...\n"
     ]
    },
    {
     "name": "stderr",
     "output_type": "stream",
     "text": [
      "Collecting sequence: 100%|██████████| 54/54 [00:05<00:00,  9.38it/s]\n"
     ]
    }
   ],
   "source": [
    "sequence = mf.read_4Dsequence('P28A_FT_H_Exp1', first_slice=100, last_slice=104+1, OS='Windows')"
   ]
  },
  {
   "cell_type": "code",
   "execution_count": 9,
   "metadata": {},
   "outputs": [
    {
     "name": "stdout",
     "output_type": "stream",
     "text": [
      "3276800\n",
      "3276800\n"
     ]
    }
   ],
   "source": [
    "print(sequence[0,0,:,:].nbytes)\n",
    "copy = np.zeros_like(sequence[0,0,:,:], dtype=np.ushort)\n",
    "print(copy.nbytes*4)"
   ]
  },
  {
   "cell_type": "code",
   "execution_count": null,
   "metadata": {},
   "outputs": [],
   "source": []
  }
 ],
 "metadata": {
  "kernelspec": {
   "display_name": "Python 3",
   "language": "python",
   "name": "python3"
  },
  "language_info": {
   "codemirror_mode": {
    "name": "ipython",
    "version": 3
   },
   "file_extension": ".py",
   "mimetype": "text/x-python",
   "name": "python",
   "nbconvert_exporter": "python",
   "pygments_lexer": "ipython3",
   "version": "3.8.18"
  }
 },
 "nbformat": 4,
 "nbformat_minor": 2
}
