{
 "cells": [
  {
   "cell_type": "code",
   "execution_count": 27,
   "metadata": {},
   "outputs": [],
   "source": [
    "import numpy as np                                  # type: ignore\n",
    "from skimage.measure import label, regionprops      # type: ignore\n",
    "from skimage.io import imread, imshow               # type: ignore\n",
    "from skimage.filters import threshold_yen           # type: ignore\n",
    "import glob\n",
    "from dataclasses import dataclass\n",
    "import napari\n",
    "import os\n",
    "import myfunctions as mf\n",
    "import time"
   ]
  }
 ],
 "metadata": {
  "kernelspec": {
   "display_name": "Python 3",
   "language": "python",
   "name": "python3"
  },
  "language_info": {
   "codemirror_mode": {
    "name": "ipython",
    "version": 3
   },
   "file_extension": ".py",
   "mimetype": "text/x-python",
   "name": "python",
   "nbconvert_exporter": "python",
   "pygments_lexer": "ipython3",
   "version": "3.8.17"
  }
 },
 "nbformat": 4,
 "nbformat_minor": 2
}
