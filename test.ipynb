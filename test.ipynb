{
 "cells": [
  {
   "cell_type": "code",
   "execution_count": 2,
   "metadata": {},
   "outputs": [],
   "source": [
    "import numpy as np                                  # type: ignore\n",
    "from skimage.measure import label, regionprops      # type: ignore\n",
    "from skimage.io import imread, imshow               # type: ignore\n",
    "from skimage.filters import threshold_yen           # type: ignore\n",
    "import glob\n",
    "from dataclasses import dataclass\n",
    "import napari\n",
    "import os\n",
    "import time\n",
    "import myfunctions as mf\n",
    "from tqdm import tqdm"
   ]
  },
  {
   "cell_type": "code",
   "execution_count": 3,
   "metadata": {},
   "outputs": [
    {
     "name": "stderr",
     "output_type": "stream",
     "text": [
      "  0%|          | 0/10 [00:00<?, ?it/s]"
     ]
    },
    {
     "name": "stderr",
     "output_type": "stream",
     "text": [
      "100%|██████████| 10/10 [00:01<00:00,  9.52it/s]\n"
     ]
    },
    {
     "name": "stdout",
     "output_type": "stream",
     "text": [
      "done\n"
     ]
    }
   ],
   "source": [
    "verbose = True\n",
    "iterator = range(10)\n",
    "for i in (tqdm(iterator) if verbose else iterator):\n",
    "    time.sleep(0.1)\n",
    "verbose = False\n",
    "for i in (tqdm(iterator) if verbose else iterator):\n",
    "    time.sleep(0.1)\n",
    "print('done')"
   ]
  },
  {
   "cell_type": "code",
   "execution_count": null,
   "metadata": {},
   "outputs": [],
   "source": []
  }
 ],
 "metadata": {
  "kernelspec": {
   "display_name": "Python 3",
   "language": "python",
   "name": "python3"
  },
  "language_info": {
   "codemirror_mode": {
    "name": "ipython",
    "version": 3
   },
   "file_extension": ".py",
   "mimetype": "text/x-python",
   "name": "python",
   "nbconvert_exporter": "python",
   "pygments_lexer": "ipython3",
   "version": "3.8.17"
  }
 },
 "nbformat": 4,
 "nbformat_minor": 2
}
