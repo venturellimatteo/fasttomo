{
 "cells": [
  {
   "cell_type": "code",
   "execution_count": 8,
   "metadata": {},
   "outputs": [],
   "source": [
    "import numpy as np                                  # type: ignore\n",
    "from skimage.measure import label, regionprops      # type: ignore\n",
    "from skimage.io import imread                       # type: ignore\n",
    "from skimage.filters import threshold_yen           # type: ignore\n",
    "import glob\n",
    "from dataclasses import dataclass\n",
    "import napari\n",
    "import os"
   ]
  },
  {
   "cell_type": "code",
   "execution_count": 12,
   "metadata": {},
   "outputs": [],
   "source": [
    "def image_path(exp, time, slice, win=False):\n",
    "    if win:\n",
    "        path = 'Z:/Reconstructions/' + exp\n",
    "    else:\n",
    "        path = '../MasterThesisData/' + exp\n",
    "    folder_name = 'entry' + str(time).zfill(4) + '_no_extpag_db0100_vol'\n",
    "    image_name = 'entry' + str(time).zfill(4) + '_no_extpag_db0100_vol_' + str(slice).zfill(6) + '.tiff'\n",
    "    return os.path.join(path, folder_name, image_name)\n",
    "\n",
    "def read_sequence2(exp, time=0, slice=0, first_time=0, last_time=220, first_slice=20, last_slice=260, volume=True, win=False):\n",
    "\n",
    "    if volume:\n",
    "        test_image = imread(image_path(exp, time, first_slice, win))\n",
    "        sequence = np.zeros((last_slice-first_slice, test_image.shape[0], test_image.shape[1]))\n",
    "        for slice in range(first_slice, last_slice):\n",
    "            image = imread(image_path(exp, time, slice, win))\n",
    "            sequence[slice-first_slice,:,:] = image\n",
    "    else:\n",
    "        test_image = imread(image_path(exp, first_time, slice, win))\n",
    "        sequence = np.zeros((last_time-first_time, test_image.shape[0], test_image.shape[1]))\n",
    "        for time in range(first_time, last_time):\n",
    "            image = imread(image_path(exp, time, slice, win))\n",
    "            sequence[time-first_time,:,:] = image\n",
    "\n",
    "    return sequence"
   ]
  },
  {
   "cell_type": "markdown",
   "metadata": {},
   "source": [
    "Volume check"
   ]
  },
  {
   "cell_type": "code",
   "execution_count": 13,
   "metadata": {},
   "outputs": [],
   "source": [
    "sequence = read_sequence2('P28A_FT_H_Exp1', time=150, win=True)"
   ]
  },
  {
   "cell_type": "markdown",
   "metadata": {},
   "source": [
    "Time evolution check"
   ]
  },
  {
   "cell_type": "code",
   "execution_count": 15,
   "metadata": {},
   "outputs": [],
   "source": [
    "sequence = read_sequence2('P28A_FT_H_Exp1', slice=150, volume=False, win=True)"
   ]
  },
  {
   "cell_type": "code",
   "execution_count": 16,
   "metadata": {},
   "outputs": [],
   "source": [
    "viewer = napari.Viewer()\n",
    "_ = viewer.add_image(sequence)"
   ]
  }
 ],
 "metadata": {
  "kernelspec": {
   "display_name": "Python 3",
   "language": "python",
   "name": "python3"
  },
  "language_info": {
   "codemirror_mode": {
    "name": "ipython",
    "version": 3
   },
   "file_extension": ".py",
   "mimetype": "text/x-python",
   "name": "python",
   "nbconvert_exporter": "python",
   "pygments_lexer": "ipython3",
   "version": "3.8.18"
  }
 },
 "nbformat": 4,
 "nbformat_minor": 2
}
