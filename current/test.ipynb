{
 "cells": [
  {
   "cell_type": "code",
   "execution_count": 8,
   "metadata": {},
   "outputs": [],
   "source": [
    "import cv2\n",
    "import numpy as np\n",
    "from numpy.lib.format import open_memmap  \n",
    "import os\n",
    "from skimage.io import imshow   \n",
    "\n",
    "exp = 'P28A_FT_H_Exp1'\n",
    "parent_dir = f'/Volumes/T7/Thesis/{exp}'\n",
    "hv = open_memmap(os.path.join(parent_dir, 'hypervolume.npy'), mode='r')\n",
    "image = np.copy(hv[0,0])\n",
    "image = (image - np.min(image)) / (np.max(image) - np.min(image)) * 255"
   ]
  },
  {
   "cell_type": "code",
   "execution_count": null,
   "metadata": {},
   "outputs": [],
   "source": []
  }
 ],
 "metadata": {
  "kernelspec": {
   "display_name": "test",
   "language": "python",
   "name": "python3"
  },
  "language_info": {
   "codemirror_mode": {
    "name": "ipython",
    "version": 3
   },
   "file_extension": ".py",
   "mimetype": "text/x-python",
   "name": "python",
   "nbconvert_exporter": "python",
   "pygments_lexer": "ipython3",
   "version": "3.8.17"
  }
 },
 "nbformat": 4,
 "nbformat_minor": 2
}
