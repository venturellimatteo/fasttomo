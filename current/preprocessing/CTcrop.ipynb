{
 "cells": [
  {
   "cell_type": "code",
   "execution_count": 7,
   "metadata": {},
   "outputs": [
    {
     "name": "stderr",
     "output_type": "stream",
     "text": [
      "Copying volumes: 100%|██████████| 41/41 [10:23<00:00, 15.22s/it]\n"
     ]
    }
   ],
   "source": [
    "import numpy as np\n",
    "from numpy.lib.format import open_memmap  \n",
    "from tqdm import tqdm\n",
    "import os\n",
    "\n",
    "exp = 'VCT5_FT_N_Exp1'\n",
    "parent_path = f'/Volumes/T7/Thesis/{exp}'\n",
    "folders = sorted(os.listdir(parent_path))\n",
    "del folders[-1]\n",
    "ct = open_memmap(os.path.join(parent_path, 'hypervolume.npy'), dtype=np.half, mode='w+', shape=(len(folders), 260, 700, 700))\n",
    "progress_bar = tqdm(total=len(folders), desc='Copying volumes')\n",
    "for t, folder in enumerate(folders):\n",
    "    temp = open_memmap(os.path.join(parent_path, folder, 'volume_v2.npy'), mode='r')\n",
    "    ct[t] = temp[15:275, 108:808, 144:844]\n",
    "    progress_bar.update()\n",
    "progress_bar.close()"
   ]
  }
 ],
 "metadata": {
  "kernelspec": {
   "display_name": "test",
   "language": "python",
   "name": "python3"
  },
  "language_info": {
   "codemirror_mode": {
    "name": "ipython",
    "version": 3
   },
   "file_extension": ".py",
   "mimetype": "text/x-python",
   "name": "python",
   "nbconvert_exporter": "python",
   "pygments_lexer": "ipython3",
   "version": "3.8.17"
  }
 },
 "nbformat": 4,
 "nbformat_minor": 2
}
