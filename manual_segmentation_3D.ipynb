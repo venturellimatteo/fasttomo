{
 "cells": [
  {
   "cell_type": "code",
   "execution_count": 151,
   "metadata": {},
   "outputs": [],
   "source": [
    "import numpy as np\n",
    "from skimage.measure import label, regionprops\n",
    "from skimage.io import imread\n",
    "from skimage.filters import threshold_yen\n",
    "import napari\n",
    "import glob"
   ]
  },
  {
   "cell_type": "code",
   "execution_count": 152,
   "metadata": {},
   "outputs": [],
   "source": [
    "def read_sequence(exp, time=0, slice=0, volume=True):\n",
    "    if volume:\n",
    "        path = '../MasterThesisData/' + exp + '/entry' + str(time).zfill(4) + '_no_extpag_db0100_vol/'\n",
    "    else:\n",
    "        path = '../MasterThesisData/slice ' + str(slice) + '/'\n",
    "        \n",
    "    image = imread(path+'entry' + str(time).zfill(4) + '_no_extpag_db0100_vol_' + str(slice).zfill(6) + '.tiff')\n",
    "    files_number = len(glob.glob1(path,\"*.tiff\"))\n",
    "    sequence = np.zeros((files_number,image.shape[0],image.shape[1]))\n",
    "\n",
    "    for i in range(files_number):\n",
    "        if volume:\n",
    "            image = imread(path+'entry'+str(time).zfill(4)+'_no_extpag_db0100_vol_'+str(i).zfill(6)+'.tiff')\n",
    "        else:\n",
    "            image = imread(path+'entry'+str(i).zfill(4)+'_no_extpag_db0100_vol_'+str(slice).zfill(6)+'.tiff')\n",
    "        sequence[i,:,:] = image\n",
    "    return sequence\n",
    "\n",
    "\n",
    "\n",
    "def isAgglomerate(rps, i, smallest_area, eccentricity, volume=False):\n",
    "    # Check if the region is too small\n",
    "    if rps[i].area < smallest_area:\n",
    "        return False\n",
    "    # Check if the region is rounded (axis_major_length vs axis_minor_length) (area vs area_convex) (axis_major_length vs equivalent_diameter_area) (eccentricity vs threshold)\n",
    "    if not volume:\n",
    "        if rps[i].eccentricity > eccentricity:\n",
    "            return False\n",
    "    return True\n",
    "\n",
    "\n",
    "\n",
    "def segment(image, n_agglomerates=50, smallest_area=5, eccentricity=0.99):\n",
    "    \n",
    "    image = (image - np.min(image))/(np.max(image) - np.min(image))\n",
    "\n",
    "    threshold = threshold_yen(image)\n",
    "    mask = image > threshold\n",
    "    mask_labeled = np.vectorize(label, signature='(n,m)->(n,m)')(mask)\n",
    "\n",
    "    rps = regionprops(mask_labeled)\n",
    "    areas = [r.area for r in rps]\n",
    "    idxs = np.argsort(areas)[::-1]\n",
    "    new_mask = np.zeros_like(mask_labeled)\n",
    "    \n",
    "    for j, i in enumerate(idxs[:n_agglomerates]):\n",
    "        if isAgglomerate(rps, i, smallest_area, eccentricity):\n",
    "            new_mask[tuple(rps[i].coords.T)] = j + 1\n",
    "    return new_mask\n",
    "\n",
    "\n",
    "\n",
    "def propagate_labels(mask, start=12, stop=0):\n",
    "    for slice in range(start, mask.shape[0]-stop):\n",
    "        previous_slice = mask[slice-1,:,:]\n",
    "        current_slice = mask[slice,:,:]\n",
    "        current_slice[current_slice > 0] = current_slice[current_slice > 0] + np.max(previous_slice)\n",
    "        flag = False\n",
    "\n",
    "        for previous_slice_label in np.unique(previous_slice):\n",
    "            if previous_slice_label == 0:\n",
    "                continue\n",
    "            previous_slice_region = previous_slice == previous_slice_label\n",
    "            overlap = current_slice * previous_slice_region\n",
    "            unique_labels = np.unique(overlap)\n",
    "            \n",
    "            for _, current_slice_label in enumerate(unique_labels):\n",
    "                if current_slice_label == 0:\n",
    "                    continue\n",
    "                temp = np.array([[previous_slice_label, current_slice_label, len(overlap[overlap == current_slice_label])]]).T\n",
    "                if not flag:\n",
    "                    mapping = temp\n",
    "                    flag = True\n",
    "                else:\n",
    "                    mapping = np.append(mapping, temp, axis=1)\n",
    "        \n",
    "        for current_slice_label in np.unique(mapping[1,:]):\n",
    "            temp = mapping[:,mapping[1,:] == current_slice_label]\n",
    "            previous_slice_label = temp[0, np.argmax(temp[2,:])]\n",
    "            current_slice[current_slice == current_slice_label] = previous_slice_label\n",
    "        \n",
    "        mask[slice,:,:] = current_slice\n",
    "            \n",
    "    return mask"
   ]
  },
  {
   "cell_type": "code",
   "execution_count": 153,
   "metadata": {},
   "outputs": [
    {
     "data": {
      "text/plain": [
       "<Image layer 'sequence' at 0x2ec211040>"
      ]
     },
     "execution_count": 153,
     "metadata": {},
     "output_type": "execute_result"
    }
   ],
   "source": [
    "sequence = read_sequence('P28A_FT_H_Exp1', time=150)\n",
    "viewer = napari.Viewer()\n",
    "viewer.add_image(sequence)"
   ]
  },
  {
   "cell_type": "code",
   "execution_count": 154,
   "metadata": {},
   "outputs": [
    {
     "data": {
      "text/plain": [
       "<Labels layer 'new_segmented_image' at 0x2ec347f70>"
      ]
     },
     "execution_count": 154,
     "metadata": {},
     "output_type": "execute_result"
    }
   ],
   "source": [
    "segmented_image = (np.zeros_like(sequence)).astype(int)\n",
    "for i in range(sequence.shape[0]):\n",
    "    segmented_image[i,:,:] = segment(sequence[i,:,:])\n",
    "\n",
    "new_segmented_image = propagate_labels(segmented_image)\n",
    "viewer.add_labels(new_segmented_image)"
   ]
  },
  {
   "cell_type": "code",
   "execution_count": 155,
   "metadata": {},
   "outputs": [],
   "source": [
    "background, labels = viewer.layers\n",
    "background.opacity = 0.4\n",
    "labels.blending = 'additive'\n",
    "labels.opacity = 0.8"
   ]
  }
 ],
 "metadata": {
  "kernelspec": {
   "display_name": "Python 3",
   "language": "python",
   "name": "python3"
  },
  "language_info": {
   "codemirror_mode": {
    "name": "ipython",
    "version": 3
   },
   "file_extension": ".py",
   "mimetype": "text/x-python",
   "name": "python",
   "nbconvert_exporter": "python",
   "pygments_lexer": "ipython3",
   "version": "3.8.17"
  }
 },
 "nbformat": 4,
 "nbformat_minor": 2
}
