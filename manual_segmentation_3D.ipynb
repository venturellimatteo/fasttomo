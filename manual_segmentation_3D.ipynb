{
 "cells": [
  {
   "cell_type": "code",
   "execution_count": 5,
   "metadata": {},
   "outputs": [],
   "source": [
    "import numpy as np\n",
    "import napari\n",
    "import myfunctions as mf"
   ]
  },
  {
   "cell_type": "markdown",
   "metadata": {},
   "source": [
    "Import an image sequence into napari.\n",
    "- *<code>default</code>: specify <code>time</code> and look at the whole volume*\n",
    "- *<code>volume=False</code>: specify <code>slice</code> and look at the time evolution*"
   ]
  },
  {
   "cell_type": "code",
   "execution_count": 11,
   "metadata": {},
   "outputs": [],
   "source": [
    "sequence = mf.read_sequence('P28A_FT_H_Exp1', time=150)\n",
    "viewer = napari.Viewer()\n",
    "_ = viewer.add_image(sequence)"
   ]
  },
  {
   "cell_type": "markdown",
   "metadata": {},
   "source": [
    "- Segment the image by thresholding using <code>threshold_yen</code>;\n",
    "- Propagate the labels to neighboring slices;\n",
    "- Import the segmented images into napari."
   ]
  },
  {
   "cell_type": "code",
   "execution_count": 12,
   "metadata": {},
   "outputs": [],
   "source": [
    "segmented_image = (np.zeros_like(sequence)).astype(int)\n",
    "for i in range(sequence.shape[0]):\n",
    "    segmented_image[i,:,:] = mf.segment(sequence[i,:,:])\n",
    "\n",
    "new_segmented_image = mf.propagate_labels(segmented_image)\n",
    "_ = viewer.add_labels(new_segmented_image)\n",
    "\n",
    "# changing the viewer settings\n",
    "background, labels = viewer.layers\n",
    "background.opacity = 0.4\n",
    "labels.blending = 'additive'\n",
    "labels.opacity = 0.8"
   ]
  }
 ],
 "metadata": {
  "kernelspec": {
   "display_name": "Python 3",
   "language": "python",
   "name": "python3"
  },
  "language_info": {
   "codemirror_mode": {
    "name": "ipython",
    "version": 3
   },
   "file_extension": ".py",
   "mimetype": "text/x-python",
   "name": "python",
   "nbconvert_exporter": "python",
   "pygments_lexer": "ipython3",
   "version": "3.8.18"
  }
 },
 "nbformat": 4,
 "nbformat_minor": 2
}
