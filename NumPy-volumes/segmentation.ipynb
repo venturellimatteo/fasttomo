{
 "cells": [
  {
   "cell_type": "code",
   "execution_count": 1,
   "metadata": {},
   "outputs": [],
   "source": [
    "import myfunctions as mf\n",
    "from skimage.io import imshow\n",
    "import time as clock\n",
    "import numpy as np\n",
    "import napari \n",
    "from tqdm import tqdm"
   ]
  },
  {
   "cell_type": "markdown",
   "metadata": {},
   "source": [
    "##### The code with either 4D filtering or napari viewer can only be run on the cluster."
   ]
  },
  {
   "cell_type": "code",
   "execution_count": 3,
   "metadata": {},
   "outputs": [],
   "source": [
    "# mf.segment4D(exp=mf.exp_list()[0], filtering4D=False)"
   ]
  },
  {
   "cell_type": "code",
   "execution_count": 3,
   "metadata": {},
   "outputs": [],
   "source": [
    "exp = mf.exp_list()[20]\n",
    "volume = mf.load_volume(exp=exp, time=160, isImage=True, OS='Windows')"
   ]
  },
  {
   "cell_type": "code",
   "execution_count": 4,
   "metadata": {},
   "outputs": [
    {
     "data": {
      "text/plain": [
       "<Image layer 'first volume' at 0x29f299e8730>"
      ]
     },
     "execution_count": 4,
     "metadata": {},
     "output_type": "execute_result"
    }
   ],
   "source": [
    "viewer = napari.Viewer()\n",
    "viewer.add_image(volume, name='first volume')"
   ]
  },
  {
   "cell_type": "markdown",
   "metadata": {},
   "source": [
    "##### Profiling 4D segmentation:"
   ]
  },
  {
   "cell_type": "code",
   "execution_count": 2,
   "metadata": {},
   "outputs": [],
   "source": [
    "def propagate_labels(previous_mask, current_mask, forward=True, biggest=False, propagation_threshold=10, verbose=False):\n",
    "    print('Propagating labels profiling...')\n",
    "    if forward:\n",
    "        t1 = clock.perf_counter(), clock.process_time()\n",
    "        max_label = np.max(previous_mask)\n",
    "        current_mask[current_mask > 0] += max_label\n",
    "        t2 = clock.perf_counter(), clock.process_time()\n",
    "        print(f'Increasing labels:\\nReal time: {t2[0] - t1[0]:.2f} s, CPU time: {t2[1] - t1[1]:.2f} s')\n",
    "    t1 = clock.perf_counter(), clock.process_time()\n",
    "    unique_labels, label_counts = np.unique(previous_mask, return_counts=True)\n",
    "    t2 = clock.perf_counter(), clock.process_time()\n",
    "    print(f'Computing and counting unique labels:\\nReal time: {t2[0] - t1[0]:.2f} s, CPU time: {t2[1] - t1[1]:.2f} s')\n",
    "    t1 = clock.perf_counter(), clock.process_time()\n",
    "    ordered_labels = unique_labels[np.argsort(label_counts)]\n",
    "    t2 = clock.perf_counter(), clock.process_time()\n",
    "    print(f'Ordering labels:\\nReal time: {t2[0] - t1[0]:.2f} s, CPU time: {t2[1] - t1[1]:.2f} s')\n",
    "    for previous_slice_label in tqdm(ordered_labels):\n",
    "        if previous_slice_label == 0:   # the background is not considered\n",
    "            continue\n",
    "        bincount = np.bincount(current_mask[previous_mask == previous_slice_label])\n",
    "        if len(bincount) <= 1:      # if the agglomerate is not present in the current mask (i.e. bincount contains only background), the propagation is skipped\n",
    "            continue\n",
    "        bincount[0] = 0     # the background is not considered\n",
    "        current_slice_label = np.argmax(bincount)\n",
    "        current_mask[current_mask == current_slice_label] = previous_slice_label\n",
    "        if not biggest:\n",
    "            for current_slice_label in np.where(bincount > propagation_threshold)[0]:\n",
    "                current_mask[current_mask == current_slice_label] = previous_slice_label\n",
    "    if forward:\n",
    "        new_labels = np.unique(current_mask[current_mask > np.max(previous_mask)])\n",
    "        label_mapping = {new_label: max_label + i + 1 for i, new_label in enumerate(new_labels)}\n",
    "        current_mask = np.vectorize(label_mapping.get)(current_mask, current_mask)\n",
    "        # for i, new_label in enumerate(new_labels):\n",
    "        #     current_mask[current_mask == new_label] = max_label + i + 1\n",
    "    return current_mask"
   ]
  },
  {
   "cell_type": "code",
   "execution_count": 3,
   "metadata": {},
   "outputs": [
    {
     "name": "stdout",
     "output_type": "stream",
     "text": [
      "Loading previous volume...\n",
      "\n",
      "Finding threshold...\n",
      "Threshold=0.88 found in 0.20 s\n",
      "\n",
      "Segmenting previous volume...\n",
      "Previous volume segmented in 106.10 s\n",
      "Saving previous mask...\n"
     ]
    }
   ],
   "source": [
    "OS = 'Windows'\n",
    "smallest_3Dvolume = 25\n",
    "exp = mf.exp_list()[0]\n",
    "start_time = mf.exp_start_time()[mf.exp_list().index(exp)] + 20\n",
    "skip180 = True\n",
    "filtering3D = True\n",
    "\n",
    "print('Loading previous volume...')\n",
    "previous_volume = mf.load_volume(exp=exp, time=start_time, isImage=True, OS=OS)\n",
    "threshold = mf.find_threshold(previous_volume)\n",
    "print('Segmenting previous volume...')\n",
    "tic = clock.time()\n",
    "previous_mask = mf.segment3D(previous_volume, threshold, smallest_volume=smallest_3Dvolume, filtering=filtering3D)\n",
    "toc = clock.time()\n",
    "print(f'Previous volume segmented in {toc-tic:.2f} s')\n",
    "print('Saving previous mask...')\n",
    "mf.save_volume(volume=previous_mask, exp=exp, time=0, OS=OS)"
   ]
  },
  {
   "cell_type": "code",
   "execution_count": 4,
   "metadata": {},
   "outputs": [
    {
     "name": "stdout",
     "output_type": "stream",
     "text": [
      "Loading current volume...\n",
      "Segmenting current volume...\n",
      "Current volume segmented in 104.81 s\n",
      "Propagating labels profiling...\n",
      "Increasing labels:\n",
      "Real time: 0.17 s, CPU time: 0.16 s\n",
      "Computing and counting unique labels:\n",
      "Real time: 1.00 s, CPU time: 0.81 s\n",
      "Ordering labels:\n",
      "Real time: 0.00 s, CPU time: 0.00 s\n"
     ]
    },
    {
     "name": "stderr",
     "output_type": "stream",
     "text": [
      " 20%|█▉        | 1860/9456 [01:58<09:16, 13.66it/s]"
     ]
    }
   ],
   "source": [
    "print('Loading current volume...')\n",
    "current_volume = mf.load_volume(exp=exp, time=start_time+2, isImage=True, OS=OS)\n",
    "print('Segmenting current volume...')\n",
    "tic = clock.time()\n",
    "current_mask = mf.segment3D(current_volume, threshold, smallest_volume=smallest_3Dvolume, filtering=filtering3D)\n",
    "toc = clock.time()\n",
    "print(f'Current volume segmented in {toc-tic:.2f} s')\n",
    "current_mask = propagate_labels(previous_mask, current_mask, forward=True)\n",
    "print('Saving current mask...')\n",
    "mf.save_volume(volume=current_mask, exp=exp, time=start_time+2, OS=OS)"
   ]
  },
  {
   "cell_type": "code",
   "execution_count": 7,
   "metadata": {},
   "outputs": [
    {
     "data": {
      "text/plain": [
       "<Labels layer 'curr mask' at 0x1dfd12564f0>"
      ]
     },
     "execution_count": 7,
     "metadata": {},
     "output_type": "execute_result"
    }
   ],
   "source": [
    "viewer = napari.Viewer()\n",
    "viewer.add_image(previous_volume, name='prev vol')\n",
    "viewer.add_image(current_volume, name='curr vol')\n",
    "viewer.add_labels([previous_mask], name='prev mask')\n",
    "viewer.add_labels([current_mask], name='curr mask')"
   ]
  },
  {
   "cell_type": "code",
   "execution_count": null,
   "metadata": {},
   "outputs": [],
   "source": []
  }
 ],
 "metadata": {
  "kernelspec": {
   "display_name": "Python 3",
   "language": "python",
   "name": "python3"
  },
  "language_info": {
   "codemirror_mode": {
    "name": "ipython",
    "version": 3
   },
   "file_extension": ".py",
   "mimetype": "text/x-python",
   "name": "python",
   "nbconvert_exporter": "python",
   "pygments_lexer": "ipython3",
   "version": "3.8.18"
  }
 },
 "nbformat": 4,
 "nbformat_minor": 2
}
