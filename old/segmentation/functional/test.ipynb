{
 "cells": [
  {
   "cell_type": "code",
   "execution_count": 5,
   "metadata": {},
   "outputs": [],
   "source": [
    "import numpy as np\n",
    "from numpy.lib.format import open_memmap\n",
    "import myfunctions as mf\n",
    "import myplots as mp\n",
    "import os\n",
    "import pandas as pd\n",
    "from tqdm import tqdm\n",
    "import napari"
   ]
  },
  {
   "cell_type": "code",
   "execution_count": 26,
   "metadata": {},
   "outputs": [],
   "source": [
    "def take(hypervolume_mask, lookup_table):\n",
    "    hypervolume_mask = np.take(lookup_table, hypervolume_mask)\n",
    "    return None"
   ]
  },
  {
   "cell_type": "code",
   "execution_count": 33,
   "metadata": {},
   "outputs": [],
   "source": [
    "def take2(hypervolume_mask, lookup_table):\n",
    "    hypervolume_mask[0,0] = 3\n",
    "    print(np.take(lookup_table, hypervolume_mask))\n",
    "    hypervolume_mask[:] = np.take(lookup_table, hypervolume_mask)\n",
    "    return None"
   ]
  },
  {
   "cell_type": "code",
   "execution_count": 34,
   "metadata": {},
   "outputs": [
    {
     "name": "stdout",
     "output_type": "stream",
     "text": [
      "[[0 1]\n",
      " [2 3]]\n",
      "take\n",
      "[[0 1]\n",
      " [0 3]]\n",
      "take fun\n",
      "[[0 1]\n",
      " [2 3]]\n",
      "[[3 1]\n",
      " [0 3]]\n",
      "take2 fun\n",
      "[[3 1]\n",
      " [0 3]]\n"
     ]
    }
   ],
   "source": [
    "exp='P28A_FT_H_Exp2'\n",
    "OS='MacOS_SSD'\n",
    "hypervolume_mask = open_memmap(os.path.join(mf.OS_path(exp, OS), 'hypervolume_mask_test.npy'), mode='w+', dtype='float32', shape=(2, 2))\n",
    "hypervolume_mask = np.array([[0, 1], [2, 3]])\n",
    "print(hypervolume_mask)\n",
    "lookup_table = np.array([[0, 1], [0, 3]])\n",
    "hypervolume_mask = np.take(lookup_table, hypervolume_mask)\n",
    "print('take')\n",
    "print(hypervolume_mask)\n",
    "hypervolume_mask = np.array([[0, 1], [2, 3]])\n",
    "take(hypervolume_mask, lookup_table)\n",
    "print('take fun')\n",
    "print(hypervolume_mask)\n",
    "hypervolume_mask = np.array([[0, 1], [2, 3]])\n",
    "take2(hypervolume_mask, lookup_table)\n",
    "print('take2 fun')\n",
    "print(hypervolume_mask)"
   ]
  },
  {
   "cell_type": "code",
   "execution_count": null,
   "metadata": {},
   "outputs": [],
   "source": []
  },
  {
   "cell_type": "code",
   "execution_count": 7,
   "metadata": {},
   "outputs": [
    {
     "name": "stdout",
     "output_type": "stream",
     "text": [
      "[ 2  8 12 34 51 53 68 71 86]\n"
     ]
    }
   ],
   "source": [
    "exp='P28A_FT_H_Exp2'\n",
    "OS='MacOS_SSD'\n",
    "hypervolume_mask = open_memmap(os.path.join(mf.OS_path(exp, OS), 'hypervolume_mask.npy'), mode='r+')\n",
    "max_label = np.max(hypervolume_mask)\n",
    "start_TR = mf.exp_start_TR_list()[mf.exp_list().index(exp)]\n",
    "labels_to_remove = np.union1d(np.setdiff1d(np.unique(hypervolume_mask[:start_TR]), np.array([0, 1])),\n",
    "                                np.array(mf.labels_to_remove_list()[mf.exp_list().index(exp)])).astype(np.ushort)\n",
    "print(labels_to_remove)"
   ]
  },
  {
   "cell_type": "code",
   "execution_count": 9,
   "metadata": {},
   "outputs": [
    {
     "name": "stdout",
     "output_type": "stream",
     "text": [
      "[ 0  1  0  3  4  5  6  7  0  9 10 11]\n"
     ]
    }
   ],
   "source": [
    "lookup_table = np.arange(max_label+1)\n",
    "lookup_table[labels_to_remove] = 0\n",
    "print(lookup_table[:12])"
   ]
  },
  {
   "cell_type": "code",
   "execution_count": 13,
   "metadata": {},
   "outputs": [],
   "source": []
  },
  {
   "cell_type": "code",
   "execution_count": 14,
   "metadata": {},
   "outputs": [],
   "source": [
    "take(hypervolume_mask, lookup_table)"
   ]
  },
  {
   "cell_type": "code",
   "execution_count": 4,
   "metadata": {},
   "outputs": [],
   "source": [
    "hypervolume_mask = np.take(lookup_table, hypervolume_mask)"
   ]
  },
  {
   "cell_type": "code",
   "execution_count": 6,
   "metadata": {},
   "outputs": [],
   "source": [
    "hypervolume = open_memmap(os.path.join(mf.OS_path(exp, OS), 'hypervolume.npy'), mode='r')\n",
    "viewer = napari.Viewer()\n",
    "\n",
    "images = [viewer.add_image(hypervolume, name='Volume', opacity=0.4)] \n",
    "labels = [viewer.add_labels(hypervolume_mask, name='Mask', opacity=0.8)]\n",
    "\n",
    "settings = napari.settings.get_settings()\n",
    "settings.application.playback_fps = 5\n",
    "viewer.dims.current_step = (0, 0)"
   ]
  },
  {
   "cell_type": "code",
   "execution_count": 15,
   "metadata": {},
   "outputs": [],
   "source": [
    "exp='P28A_FT_H_Exp1'\n",
    "OS='MacOS_SSD'\n",
    "df = pd.read_csv(os.path.join(mf.OS_path(exp, OS), 'motion_properties.csv'))\n",
    "c = df.copy()"
   ]
  },
  {
   "cell_type": "code",
   "execution_count": 18,
   "metadata": {},
   "outputs": [
    {
     "data": {
      "text/html": [
       "<div>\n",
       "<style scoped>\n",
       "    .dataframe tbody tr th:only-of-type {\n",
       "        vertical-align: middle;\n",
       "    }\n",
       "\n",
       "    .dataframe tbody tr th {\n",
       "        vertical-align: top;\n",
       "    }\n",
       "\n",
       "    .dataframe thead th {\n",
       "        text-align: right;\n",
       "    }\n",
       "</style>\n",
       "<table border=\"1\" class=\"dataframe\">\n",
       "  <thead>\n",
       "    <tr style=\"text-align: right;\">\n",
       "      <th></th>\n",
       "      <th>t</th>\n",
       "      <th>label</th>\n",
       "      <th>x</th>\n",
       "      <th>y</th>\n",
       "      <th>z</th>\n",
       "      <th>r</th>\n",
       "      <th>vx</th>\n",
       "      <th>vy</th>\n",
       "      <th>vxy</th>\n",
       "      <th>vz</th>\n",
       "      <th>v</th>\n",
       "      <th>V</th>\n",
       "      <th>dVdt</th>\n",
       "      <th>r_sect</th>\n",
       "      <th>z_sect</th>\n",
       "    </tr>\n",
       "  </thead>\n",
       "  <tbody>\n",
       "    <tr>\n",
       "      <th>0</th>\n",
       "      <td>0.00</td>\n",
       "      <td>2</td>\n",
       "      <td>1.152986</td>\n",
       "      <td>0.394468</td>\n",
       "      <td>5.142758</td>\n",
       "      <td>1.218598</td>\n",
       "      <td>0.000000</td>\n",
       "      <td>0.000000</td>\n",
       "      <td>0.000000</td>\n",
       "      <td>0.000000</td>\n",
       "      <td>0.000000</td>\n",
       "      <td>3.132352</td>\n",
       "      <td>62.64704</td>\n",
       "      <td>Core</td>\n",
       "      <td>Middle</td>\n",
       "    </tr>\n",
       "    <tr>\n",
       "      <th>1</th>\n",
       "      <td>0.00</td>\n",
       "      <td>10</td>\n",
       "      <td>-0.373433</td>\n",
       "      <td>-0.214925</td>\n",
       "      <td>10.252537</td>\n",
       "      <td>0.430865</td>\n",
       "      <td>0.000000</td>\n",
       "      <td>0.000000</td>\n",
       "      <td>0.000000</td>\n",
       "      <td>0.000000</td>\n",
       "      <td>0.000000</td>\n",
       "      <td>0.008576</td>\n",
       "      <td>0.17152</td>\n",
       "      <td>Core</td>\n",
       "      <td>Top</td>\n",
       "    </tr>\n",
       "    <tr>\n",
       "      <th>2</th>\n",
       "      <td>0.05</td>\n",
       "      <td>1</td>\n",
       "      <td>1.414619</td>\n",
       "      <td>0.496106</td>\n",
       "      <td>5.279259</td>\n",
       "      <td>1.499089</td>\n",
       "      <td>5.232664</td>\n",
       "      <td>2.032752</td>\n",
       "      <td>5.613631</td>\n",
       "      <td>2.730027</td>\n",
       "      <td>6.242267</td>\n",
       "      <td>3.252160</td>\n",
       "      <td>2.39616</td>\n",
       "      <td>Core</td>\n",
       "      <td>Middle</td>\n",
       "    </tr>\n",
       "    <tr>\n",
       "      <th>3</th>\n",
       "      <td>0.05</td>\n",
       "      <td>5</td>\n",
       "      <td>-0.373178</td>\n",
       "      <td>-0.162326</td>\n",
       "      <td>10.212093</td>\n",
       "      <td>0.406954</td>\n",
       "      <td>0.005091</td>\n",
       "      <td>1.051996</td>\n",
       "      <td>1.052008</td>\n",
       "      <td>-0.808886</td>\n",
       "      <td>1.327033</td>\n",
       "      <td>0.008256</td>\n",
       "      <td>-0.00640</td>\n",
       "      <td>Core</td>\n",
       "      <td>Top</td>\n",
       "    </tr>\n",
       "    <tr>\n",
       "      <th>4</th>\n",
       "      <td>0.05</td>\n",
       "      <td>27</td>\n",
       "      <td>-7.414432</td>\n",
       "      <td>5.061026</td>\n",
       "      <td>3.302564</td>\n",
       "      <td>8.977070</td>\n",
       "      <td>0.000000</td>\n",
       "      <td>0.000000</td>\n",
       "      <td>0.000000</td>\n",
       "      <td>0.000000</td>\n",
       "      <td>0.000000</td>\n",
       "      <td>0.017472</td>\n",
       "      <td>0.34944</td>\n",
       "      <td>External</td>\n",
       "      <td>Bottom</td>\n",
       "    </tr>\n",
       "  </tbody>\n",
       "</table>\n",
       "</div>"
      ],
      "text/plain": [
       "      t  label         x         y          z         r        vx        vy  \\\n",
       "0  0.00      2  1.152986  0.394468   5.142758  1.218598  0.000000  0.000000   \n",
       "1  0.00     10 -0.373433 -0.214925  10.252537  0.430865  0.000000  0.000000   \n",
       "2  0.05      1  1.414619  0.496106   5.279259  1.499089  5.232664  2.032752   \n",
       "3  0.05      5 -0.373178 -0.162326  10.212093  0.406954  0.005091  1.051996   \n",
       "4  0.05     27 -7.414432  5.061026   3.302564  8.977070  0.000000  0.000000   \n",
       "\n",
       "        vxy        vz         v         V      dVdt    r_sect  z_sect  \n",
       "0  0.000000  0.000000  0.000000  3.132352  62.64704      Core  Middle  \n",
       "1  0.000000  0.000000  0.000000  0.008576   0.17152      Core     Top  \n",
       "2  5.613631  2.730027  6.242267  3.252160   2.39616      Core  Middle  \n",
       "3  1.052008 -0.808886  1.327033  0.008256  -0.00640      Core     Top  \n",
       "4  0.000000  0.000000  0.000000  0.017472   0.34944  External  Bottom  "
      ]
     },
     "execution_count": 18,
     "metadata": {},
     "output_type": "execute_result"
    }
   ],
   "source": [
    "c.head()"
   ]
  },
  {
   "cell_type": "code",
   "execution_count": 17,
   "metadata": {},
   "outputs": [],
   "source": [
    "# temp = c.loc[c['t'] == 0.05, 'label']\n",
    "c.loc[c['t'] == 0.05, 'label'] = c.loc[c['t'] == 0.05, 'label'] / 2"
   ]
  },
  {
   "cell_type": "code",
   "execution_count": 3,
   "metadata": {},
   "outputs": [],
   "source": [
    "exp_list = ['P28A_FT_H_Exp4_2', 'P28B_ISC_FT_H_Exp2', 'VCT5_FT_N_Exp1']\n",
    "crop_list = [100, 50, 100]\n",
    "parent_dir = '/Volumes/T7/Thesis/'"
   ]
  },
  {
   "cell_type": "code",
   "execution_count": 4,
   "metadata": {},
   "outputs": [
    {
     "name": "stderr",
     "output_type": "stream",
     "text": [
      "P28A_FT_H_Exp4_2: 100%|██████████| 69/69 [04:12<00:00,  3.66s/it]\n",
      "P28B_ISC_FT_H_Exp2: 100%|██████████| 61/61 [04:56<00:00,  4.87s/it]\n",
      "VCT5_FT_N_Exp1: 100%|██████████| 33/33 [02:05<00:00,  3.81s/it]\n"
     ]
    }
   ],
   "source": [
    "for exp, crop in zip(exp_list, crop_list):\n",
    "    exp_dir = os.path.join(parent_dir, exp)\n",
    "    v1 = open_memmap(os.path.join(exp_dir, 'hypervolume.npy'), mode='r')\n",
    "    t = v1.shape[0]\n",
    "    z = v1.shape[1]\n",
    "    xy = v1.shape[2]\n",
    "    v2 = open_memmap(os.path.join(exp_dir, 'v2.npy'), mode='w+', dtype=np.half, shape=(t, z, xy-(2*crop), xy-(2*crop)))\n",
    "    for time in tqdm(range(t), desc=exp):\n",
    "        v2[time] = v1[time, :, crop:v1.shape[2]-crop, crop:v1.shape[2]-crop]"
   ]
  },
  {
   "cell_type": "code",
   "execution_count": null,
   "metadata": {},
   "outputs": [],
   "source": []
  }
 ],
 "metadata": {
  "kernelspec": {
   "display_name": "test",
   "language": "python",
   "name": "python3"
  },
  "language_info": {
   "codemirror_mode": {
    "name": "ipython",
    "version": 3
   },
   "file_extension": ".py",
   "mimetype": "text/x-python",
   "name": "python",
   "nbconvert_exporter": "python",
   "pygments_lexer": "ipython3",
   "version": "3.8.17"
  }
 },
 "nbformat": 4,
 "nbformat_minor": 2
}
