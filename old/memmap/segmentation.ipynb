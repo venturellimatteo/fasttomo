{
 "cells": [
  {
   "cell_type": "markdown",
   "metadata": {},
   "source": [
    "- C'e un problema nel filtering: probabilmente quando la shell esterna si divide in due viene filtrata prima che si possa propagare la label. Questo per colpa di remove long agglomerates. Una soluzione potrebbe essere effettuare quel filtering dopo la label propagation.\n",
    "- C'è da sistemare la funzione remove long agglomerates perché alcuni agglomerati rimangono per oltre 100 time steps e non vanno rimossi. Devo trovare un modo intelligente per rimuovere gli artefatti di ricostruzione e la parte interna della batteria."
   ]
  },
  {
   "cell_type": "code",
   "execution_count": 1,
   "metadata": {},
   "outputs": [],
   "source": [
    "import myfunctions as mf\n",
    "from skimage.io import imshow\n",
    "import time as clock\n",
    "import numpy as np\n",
    "import napari \n",
    "from tqdm import tqdm\n",
    "from numpy.lib.format import open_memmap\n",
    "from skimage.measure import label, regionprops\n",
    "import os"
   ]
  },
  {
   "cell_type": "code",
   "execution_count": 2,
   "metadata": {},
   "outputs": [],
   "source": [
    "def segment4D(exp, end_time=220, skip180=True, smallest_3Dvolume=20, filtering3D=True, OS='Windows'):\n",
    "    print(f'\\nExp {exp} segmentation started\\n')\n",
    "    # defining the time steps for the current experiment\n",
    "    start_time = mf.exp_start_time()[mf.exp_list().index(exp)]\n",
    "    time_steps = range(start_time, end_time+1, 2) if skip180 else range(start_time, end_time+1)\n",
    "    time_index = range(len(time_steps))\n",
    "    shape = (len(time_steps), 270, 500, 500)\n",
    "    hypervolume = open_memmap(os.path.join(mf.OS_path(exp, OS), 'hypervolume.npy'), mode='r')\n",
    "    hypervolume_mask = open_memmap(os.path.join(mf.OS_path(exp, OS), 'hypervolume_mask.npy'), dtype=np.ushort, mode='w+', shape=shape)\n",
    "\n",
    "    # dealing with the first volume\n",
    "    previous_volume = hypervolume[0]\n",
    "    # evaluating the threshold on the first volume\n",
    "    threshold = mf.find_threshold(previous_volume)  \n",
    "    # segmenting the first volume\n",
    "    print('Segmenting first volume...')\n",
    "    previous_mask = mf.segment3D(previous_volume, threshold, smallest_volume=smallest_3Dvolume, filtering=filtering3D)\n",
    "    print('First volume segmentation completed\\n')\n",
    "    # reassigning the labels after the filtering\n",
    "    labels = [rp.label for rp in regionprops(previous_mask)]\n",
    "    for new_label, old_label in mf.iterator(enumerate(labels), verbose=True, desc='Renaming labels', leave=False, custom_length=len(labels)):\n",
    "        previous_mask[previous_mask == old_label] = new_label + 1\n",
    "    # writing the first mask in the hypervolume_mask memmap\n",
    "    hypervolume_mask[0] = previous_mask\n",
    "\n",
    "    # segmenting the remaining volumes and propagating the labels from previous volumes\n",
    "    for time in tqdm(time_index[1:], desc='Volume segmentation and forward propagation'):\n",
    "        current_volume = hypervolume[time]\n",
    "        current_mask = mf.segment3D(current_volume, threshold, smallest_volume=smallest_3Dvolume, filtering=filtering3D)\n",
    "        current_mask = mf.propagate_labels(previous_mask, current_mask, forward=True, verbose=True)\n",
    "        # current_mask = mf.remove_long_agglomerates(current_mask)\n",
    "        hypervolume_mask[time] = current_mask\n",
    "        previous_mask = current_mask\n",
    "            \n",
    "    print(f'\\nExp {exp} segmentation completed!\\n')\n",
    "    return hypervolume_mask"
   ]
  },
  {
   "cell_type": "code",
   "execution_count": 3,
   "metadata": {},
   "outputs": [
    {
     "name": "stdout",
     "output_type": "stream",
     "text": [
      "\n",
      "Exp P28A_FT_H_Exp1 segmentation started\n",
      "\n",
      "\n",
      "Finding threshold...\n",
      "Threshold=1.81 found in 3.26 s\n",
      "\n",
      "Segmenting first volume...\n"
     ]
    },
    {
     "name": "stderr",
     "output_type": "stream",
     "text": [
      "                                                                                          \r"
     ]
    },
    {
     "name": "stdout",
     "output_type": "stream",
     "text": [
      "First volume segmentation completed\n",
      "\n"
     ]
    },
    {
     "name": "stderr",
     "output_type": "stream",
     "text": [
      "Volume segmentation and forward propagation: 100%|██████████| 54/54 [38:35<00:00, 42.89s/it]\n"
     ]
    },
    {
     "name": "stdout",
     "output_type": "stream",
     "text": [
      "\n",
      "Exp P28A_FT_H_Exp1 segmentation completed!\n",
      "\n",
      "\n",
      "4D filtering started\n",
      "\n"
     ]
    },
    {
     "name": "stderr",
     "output_type": "stream",
     "text": [
      "Removing inconsistent agglomerates: 100%|██████████| 55/55 [05:35<00:00,  6.10s/it]\n",
      "Removing small agglomerates: 100%|██████████| 55/55 [02:45<00:00,  3.01s/it]\n",
      "Renaming labels: 100%|██████████| 55/55 [10:21<00:00, 11.30s/it]"
     ]
    },
    {
     "name": "stdout",
     "output_type": "stream",
     "text": [
      "\n",
      "4D filtering completed!\n",
      "\n"
     ]
    },
    {
     "name": "stderr",
     "output_type": "stream",
     "text": [
      "\n"
     ]
    }
   ],
   "source": [
    "exp = mf.exp_list()[0]\n",
    "OS = 'MacOS'\n",
    "\n",
    "hypervolume_mask = segment4D(exp=exp, OS=OS)\n",
    "mf.filtering4D(hypervolume_mask)\n",
    "\n",
    "# df = mf.motion_df(hypervolume_mask, exp=exp)\n",
    "# print('Saving properties...')\n",
    "# df.to_csv(os.path.join(mf.OS_path(exp, OS), 'motion_properties.csv'), index=False)\n",
    "# print('Done!')"
   ]
  },
  {
   "cell_type": "code",
   "execution_count": 4,
   "metadata": {},
   "outputs": [],
   "source": [
    "hypervolume = open_memmap(os.path.join(mf.OS_path(exp, OS), 'hypervolume.npy'), mode='r')\n",
    "# hypervolume_mask = open_memmap(os.path.join(mf.OS_path(exp, OS), 'hypervolume_mask.npy'), mode='r')"
   ]
  },
  {
   "cell_type": "code",
   "execution_count": 5,
   "metadata": {},
   "outputs": [
    {
     "name": "stdout",
     "output_type": "stream",
     "text": [
      "(55, 270, 500, 500)\n",
      "(55, 270, 500, 500)\n"
     ]
    }
   ],
   "source": [
    "print(hypervolume_mask.shape)\n",
    "print(hypervolume.shape)"
   ]
  },
  {
   "cell_type": "code",
   "execution_count": 6,
   "metadata": {},
   "outputs": [],
   "source": [
    "viewer = napari.Viewer()\n",
    "\n",
    "images = [viewer.add_image(hypervolume, name='Volume', opacity=0.4)]\n",
    "labels = [viewer.add_labels(hypervolume_mask, name='Labels', blending='additive', opacity=0.8)]\n",
    "\n",
    "settings = napari.settings.get_settings()\n",
    "settings.application.playback_fps = 5\n",
    "viewer.dims.current_step = (0, 0)"
   ]
  },
  {
   "cell_type": "code",
   "execution_count": 50,
   "metadata": {},
   "outputs": [
    {
     "name": "stdout",
     "output_type": "stream",
     "text": [
      "np.unique: 0.577486s\n",
      "regionprops: 0.149048s\n"
     ]
    }
   ],
   "source": [
    "tic = clock.perf_counter()\n",
    "unique_labels = np.unique(hypervolume_mask[0])\n",
    "print(f'np.unique: {clock.perf_counter()-tic:.6f}s')\n",
    "tic = clock.perf_counter()\n",
    "labels = [rp.label for rp in regionprops(hypervolume_mask[0])]\n",
    "print(f'regionprops: {clock.perf_counter()-tic:.6f}s')"
   ]
  },
  {
   "cell_type": "code",
   "execution_count": 52,
   "metadata": {},
   "outputs": [
    {
     "name": "stdout",
     "output_type": "stream",
     "text": [
      "np.unique: 0.378467s\n",
      "regionprops: 0.230809s\n"
     ]
    }
   ],
   "source": [
    "sequence_mask = hypervolume_mask[0]\n",
    "slices = range(sequence_mask.shape[0])\n",
    "tic = clock.perf_counter()\n",
    "labels = [np.unique(sequence_mask[z]) for z in slices]\n",
    "print(f'np.unique: {clock.perf_counter()-tic:.6f}s')\n",
    "tic = clock.perf_counter()\n",
    "labels = [[rp.label for rp in regionprops(sequence_mask[z])] for z in slices]\n",
    "print(f'regionprops: {clock.perf_counter()-tic:.6f}s')"
   ]
  },
  {
   "cell_type": "code",
   "execution_count": null,
   "metadata": {},
   "outputs": [],
   "source": []
  }
 ],
 "metadata": {
  "kernelspec": {
   "display_name": "Python 3",
   "language": "python",
   "name": "python3"
  },
  "language_info": {
   "codemirror_mode": {
    "name": "ipython",
    "version": 3
   },
   "file_extension": ".py",
   "mimetype": "text/x-python",
   "name": "python",
   "nbconvert_exporter": "python",
   "pygments_lexer": "ipython3",
   "version": "3.8.17"
  }
 },
 "nbformat": 4,
 "nbformat_minor": 2
}
