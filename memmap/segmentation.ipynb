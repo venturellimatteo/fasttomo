{
 "cells": [
  {
   "cell_type": "code",
   "execution_count": 2,
   "metadata": {},
   "outputs": [],
   "source": [
    "import myfunctions as mf\n",
    "from skimage.io import imshow\n",
    "import time as clock\n",
    "import numpy as np\n",
    "import napari \n",
    "from tqdm import tqdm\n",
    "from numpy.lib.format import open_memmap\n",
    "import os"
   ]
  },
  {
   "cell_type": "code",
   "execution_count": 4,
   "metadata": {},
   "outputs": [
    {
     "name": "stdout",
     "output_type": "stream",
     "text": [
      "[[[0 0]\n",
      "  [0 0]]\n",
      "\n",
      " [[0 0]\n",
      "  [0 0]]]\n",
      "[[[1 2]\n",
      "  [3 4]]\n",
      "\n",
      " [[0 0]\n",
      "  [0 0]]]\n"
     ]
    }
   ],
   "source": [
    "OS = 'Windows'\n",
    "exp = mf.exp_list()[0]\n",
    "end_time = 220\n",
    "skip180 = True\n",
    "\n",
    "# start_time = mf.exp_start_time()[mf.exp_list().index(exp)]\n",
    "# time_steps = range(start_time, end_time+1, 2) if skip180 else range(start_time, end_time+1)\n",
    "# volume = mf.load_volume(exp=exp, time=start_time, isImage=True, OS=OS)\n",
    "# volume = open_memmap(mf.volume_path(exp=exp, time=start_time, OS=OS, isImage=True), mode='r', dtype=np.half)\n",
    "# hypervolume = open_memmap(os.path.join(mf.OS_path(exp, OS), 'hypervolume.npy'), dtype=np.half, mode='w+', shape=(2, volume.shape[0], volume.shape[1], volume.shape[2]))\n",
    "# print(volume.dtype)\n",
    "# print(hypervolume.dtype)\n",
    "\n",
    "hypervolume = open_memmap('hypervolume.npy', dtype=np.ushort, mode='w+', shape=(2, 2, 2))\n",
    "print(hypervolume)\n",
    "a = np.array([[1,2],[3,4]], dtype=np.ushort)\n",
    "hypervolume[0] = a\n",
    "print(hypervolume)"
   ]
  },
  {
   "cell_type": "code",
   "execution_count": 10,
   "metadata": {},
   "outputs": [
    {
     "name": "stdout",
     "output_type": "stream",
     "text": [
      "2\n",
      "1\n",
      "0\n"
     ]
    }
   ],
   "source": [
    "b = [1, 3, 5, 7]\n",
    "c = range(len(b))\n",
    "for i in c[:-1][::-1]:\n",
    "    print(i)"
   ]
  },
  {
   "cell_type": "code",
   "execution_count": null,
   "metadata": {},
   "outputs": [],
   "source": []
  }
 ],
 "metadata": {
  "kernelspec": {
   "display_name": "Python 3",
   "language": "python",
   "name": "python3"
  },
  "language_info": {
   "codemirror_mode": {
    "name": "ipython",
    "version": 3
   },
   "file_extension": ".py",
   "mimetype": "text/x-python",
   "name": "python",
   "nbconvert_exporter": "python",
   "pygments_lexer": "ipython3",
   "version": "3.8.18"
  }
 },
 "nbformat": 4,
 "nbformat_minor": 2
}
