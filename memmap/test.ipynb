{
 "cells": [
  {
   "cell_type": "code",
   "execution_count": 22,
   "metadata": {},
   "outputs": [],
   "source": [
    "import napari\n",
    "import numpy as np\n",
    "from numpy.lib.format import open_memmap\n",
    "import myfunctions as mf\n",
    "import os\n",
    "import matplotlib.pyplot as plt\n",
    "from skimage.io import imshow\n",
    "from skimage.measure import regionprops, label\n",
    "import seaborn as sns\n",
    "import pandas as pd\n",
    "import time as clock\n",
    "from tqdm import tqdm"
   ]
  },
  {
   "cell_type": "code",
   "execution_count": 23,
   "metadata": {},
   "outputs": [],
   "source": [
    "# function used to compute the ratio between pixels and physical units in millimeters\n",
    "# and the ratio between time steps and physical units in seconds\n",
    "def find_geometry(hypervolume_mask, exp):\n",
    "    if 'P28A' in exp:\n",
    "        m_diameter = 18.6 # [mm]\n",
    "    elif 'P28B' in exp:\n",
    "        m_diameter = 18.6 # [mm]\n",
    "    elif 'VCT5A' in exp:\n",
    "        m_diameter = 18.35 # [mm]\n",
    "    elif 'VCT5' in exp:\n",
    "        m_diameter = 18.2 # [mm]\n",
    "    else:\n",
    "        raise ValueError('Experiment not recognized')\n",
    "    # here I find the pixel width of the external shell\n",
    "    rps = regionprops(hypervolume_mask[0,135])\n",
    "    shell_index = np.argmax([rp.area for rp in rps])\n",
    "    pixel_diameter = np.sqrt(rps[shell_index].area_bbox)\n",
    "    m_z = 12 # total field of view in z direction [mm]\n",
    "    pixel_z = 280 # total field of view in z direction in pixels\n",
    "    fps = 20 # frames per second\n",
    "    # computing the actual quantities\n",
    "    xy_ratio = m_diameter/pixel_diameter\n",
    "    z_ratio = m_z/pixel_z\n",
    "    V_ratio = xy_ratio * xy_ratio * z_ratio\n",
    "    t_ratio = 1/fps\n",
    "    radius = pixel_diameter/2\n",
    "    return xy_ratio, z_ratio, V_ratio, t_ratio, radius\n",
    "\n",
    "\n",
    "\n",
    "# function used to update the dataframe containing the motion properties of the agglomerates\n",
    "def update_df(df, hypervolume_mask, time, index, label, counts, slices, radii, center, rescale,\n",
    "              z_sect_str, r_sect_str, V_ratio, t_ratio, t, prev_labels):\n",
    "    # evaluating the position of the centroid of the agglomerate\n",
    "    z, y, x = (np.mean(np.where(hypervolume_mask[time] == label), axis=1) - center) * rescale\n",
    "    # evaluating the distance of the agglomerate from the central axis of the battery\n",
    "    r = np.linalg.norm([x, y])\n",
    "    # assigning the agglomerate to a section of the battery\n",
    "    for i in range(3):\n",
    "        if slices[i] <= z and z < slices[i+1]:\n",
    "            z_sect = z_sect_str[i]\n",
    "        if radii[i] <= r and r < radii[i+1]:\n",
    "            r_sect = r_sect_str[i]\n",
    "    # evaluating the volume of the agglomerate\n",
    "    V = counts[index] * V_ratio\n",
    "    # evaluating the velocity and volume expansion rate of the agglomerate if it was present in the previous time instant\n",
    "    # otherwise set these values to 0\n",
    "    if label in prev_labels:\n",
    "        x0, y0, z0 = (df.iloc[prev_labels[label]][['x', 'y', 'z']]).values\n",
    "        vx, vy, vz = (x-x0)/t_ratio, (y-y0)/t_ratio, (z-z0)/t_ratio\n",
    "        v = np.linalg.norm([vx, vy, vz])\n",
    "        dVdt = (V - (df.iloc[prev_labels[label]]['V']))/t_ratio\n",
    "    else:\n",
    "        vx, vy, vz, v, dVdt = 0, 0, 0, 0, V/t_ratio\n",
    "    # adding the row to the dataframe\n",
    "    df = pd.concat([df, pd.DataFrame([[t, label, x, y, z, r, vx, vy, vz, v, V, dVdt, r_sect, z_sect]],\n",
    "                                     columns=['t', 'label', 'x', 'y', 'z', 'r', 'vx', 'vy', 'vz', 'v', 'V', 'dVdt', 'r_sect', 'z_sect'])])\n",
    "    return df\n",
    "\n",
    "\n",
    "\n",
    "# function returning the dataframe containing the motion properties of the agglomerates\n",
    "def motion_df(hypervolume_mask, exp):\n",
    "    print('\\nComputing motion matrix...')\n",
    "    df = pd.DataFrame(columns=['t', 'label', 'x', 'y', 'z', 'r', 'vx', 'vy', 'vz', 'v', 'V', 'dVdt', 'r_sect', 'z_sect'])\n",
    "    # max_label = np.max(hypervolume_mask)\n",
    "    n_time_instants = hypervolume_mask.shape[0]\n",
    "    n_slices = hypervolume_mask.shape[1]\n",
    "    # the ratios between pixels and physical units are computed\n",
    "    xy_ratio, z_ratio, V_ratio, t_ratio, radius = find_geometry(hypervolume_mask, exp)\n",
    "    center = np.array([0, 249.5, 249.5])\n",
    "    rescale = np.array([z_ratio, xy_ratio, xy_ratio])\n",
    "    # radii and slices are the values used to divide the volume in <steps> regions\n",
    "    radii = np.linspace(0, radius*xy_ratio, 4)\n",
    "    radii[3] = np.inf    # the last value is set to inf in order to avoid going out of bounds\n",
    "    slices = np.linspace(0, n_slices*z_ratio, 4)\n",
    "    slices[3] = np.inf   # the last value is set to inf in order to avoid going out of bounds\n",
    "    r_sect_str = ['Core', 'Intermediate', 'External']\n",
    "    z_sect_str = ['Top', 'Middle', 'Bottom'] # HERE I HAVE TO DOUBLE CHECK THE ORDER OF THE SECTIONS!!!\n",
    "    current_labels = dict()\n",
    "    # computing the actual quantities\n",
    "    for time in tqdm(range(n_time_instants), desc='Computing motion dataframe'):\n",
    "        prev_labels = current_labels\n",
    "        current_labels = dict()\n",
    "        rps = regionprops(hypervolume_mask[time])\n",
    "        labels = [rp.label for rp in rps]\n",
    "        counts = [rp.area for rp in rps]\n",
    "        # converting the time index into seconds\n",
    "        t = time * t_ratio\n",
    "        for index, label in enumerate(labels):\n",
    "            if label > 1:\n",
    "                current_labels[label] = len(df)\n",
    "                df = update_df(df, hypervolume_mask, time, index, label, counts, slices, radii, center, rescale,\n",
    "                            z_sect_str, r_sect_str, V_ratio, t_ratio, t, prev_labels)  \n",
    "    return df"
   ]
  },
  {
   "cell_type": "code",
   "execution_count": 25,
   "metadata": {},
   "outputs": [],
   "source": [
    "exp = mf.exp_list()[0]\n",
    "OS = 'MacOS'\n",
    "hypervolume_mask = open_memmap(os.path.join(mf.OS_path(exp, OS), 'hypervolume_mask.npy'), mode='r')\n",
    "center = np.array([0, 249.5, 249.5])\n",
    "m_diameter = 18.6\n",
    "rps = regionprops(hypervolume_mask[0,135])\n",
    "shell_index = np.argmax([rp.area for rp in rps])\n",
    "pixel_diameter = np.sqrt(rps[shell_index].area_bbox)\n",
    "m_z = 12\n",
    "pixel_z = 280\n",
    "xy_ratio = m_diameter/pixel_diameter\n",
    "z_ratio = m_z/pixel_z\n",
    "rescale = np.array([z_ratio, xy_ratio, xy_ratio])"
   ]
  },
  {
   "cell_type": "code",
   "execution_count": 28,
   "metadata": {},
   "outputs": [
    {
     "name": "stdout",
     "output_type": "stream",
     "text": [
      "[0.04285714 0.04034707 0.04034707]\n",
      "[  0.  249.5 249.5]\n"
     ]
    }
   ],
   "source": [
    "print(rescale)\n",
    "print(center)"
   ]
  },
  {
   "cell_type": "code",
   "execution_count": 35,
   "metadata": {},
   "outputs": [
    {
     "name": "stdout",
     "output_type": "stream",
     "text": [
      "time elapsed: 0.14121983399991223\n"
     ]
    }
   ],
   "source": [
    "tic = clock.perf_counter()\n",
    "z, y, x = (np.mean(np.where(hypervolume_mask[15] == 405), axis=1) - center) * rescale\n",
    "print(f'time elapsed: {clock.perf_counter() - tic}')"
   ]
  },
  {
   "cell_type": "code",
   "execution_count": 4,
   "metadata": {},
   "outputs": [],
   "source": [
    "df = pd.read_csv('/Users/matteoventurelli/Documents/VS Code/MasterThesisData/P28A_FT_H_Exp2/motion_properties.csv')"
   ]
  },
  {
   "cell_type": "code",
   "execution_count": 8,
   "metadata": {},
   "outputs": [],
   "source": [
    "d = dict()\n",
    "d[13] = 0"
   ]
  },
  {
   "cell_type": "code",
   "execution_count": 20,
   "metadata": {},
   "outputs": [
    {
     "data": {
      "text/plain": [
       "1.225798297580004e-10"
      ]
     },
     "execution_count": 20,
     "metadata": {},
     "output_type": "execute_result"
    }
   ],
   "source": [
    "(df.iloc[0]['V'])"
   ]
  },
  {
   "cell_type": "code",
   "execution_count": 12,
   "metadata": {},
   "outputs": [],
   "source": [
    "def OS_path(exp, OS, isrec=False):\n",
    "    if OS=='Windows':\n",
    "        if isrec:\n",
    "            return 'Z:/rot_datasets/selected_vol/' + exp\n",
    "        else:\n",
    "            return 'Z:/rot_datasets/' + exp\n",
    "    elif OS=='MacOS':\n",
    "        return '../../MasterThesisData/' + exp\n",
    "    elif OS=='Linux':\n",
    "        return '/data/projects/whaitiri/Data/Data_Processing_July2022/rot_datasets/' + exp\n",
    "    elif OS=='Tyrex':\n",
    "        return 'U:/whaitiri/Data/Data_Processing_July2022/rot_datasets/' + exp\n",
    "    else:\n",
    "        raise ValueError('OS not recognized')"
   ]
  },
  {
   "cell_type": "code",
   "execution_count": 9,
   "metadata": {},
   "outputs": [],
   "source": [
    "def volume_path(exp, time, isrec, isImage=True, OS='Windows'):\n",
    "    flag = mf.exp_flag()[mf.exp_list().index(exp)]\n",
    "    vol = '0050' if flag else '0100'\n",
    "    folder_name = 'entry' + str(time).zfill(4) + '_no_extpag_db' + vol + '_vol'\n",
    "    volume_name = 'volume_v2.npy' if isImage else 'segmented.npy'\n",
    "    return os.path.join(OS_path(exp, OS, isrec), folder_name, volume_name)"
   ]
  },
  {
   "cell_type": "code",
   "execution_count": 10,
   "metadata": {},
   "outputs": [],
   "source": [
    "exp = mf.exp_list()[0]\n",
    "start_time = mf.exp_start_time()[mf.exp_list().index(exp)]\n",
    "end_time = 220\n",
    "skip180=True\n",
    "OS = 'Windows'\n",
    "rec = range(123,147)"
   ]
  },
  {
   "cell_type": "code",
   "execution_count": 13,
   "metadata": {},
   "outputs": [
    {
     "name": "stderr",
     "output_type": "stream",
     "text": [
      "Loading hypervolume memmap:   7%|▋         | 4/55 [01:00<12:44, 15.00s/it]"
     ]
    }
   ],
   "source": [
    "time_steps = range(start_time, end_time+1, 2) if skip180 else range(start_time, end_time+1)\n",
    "shape = (len(time_steps), 270, 500, 500)\n",
    "hypervolume = open_memmap(os.path.join(OS_path(exp, OS), 'hypervolume.npy'), dtype=np.half, mode='w+', shape=shape)\n",
    "for t, time in tqdm(enumerate(time_steps), desc='Loading hypervolume memmap', total=len(time_steps)):\n",
    "    volume = open_memmap(volume_path(exp=exp, time=time, OS=OS, isImage=True, isrec=(time in rec)), mode='r')\n",
    "    hypervolume[t,:,:,:] = volume[10:,208:708,244:744]"
   ]
  },
  {
   "cell_type": "code",
   "execution_count": null,
   "metadata": {},
   "outputs": [],
   "source": [
    "viewer = napari.Viewer()\n",
    "images = [viewer.add_image(hypervolume, name='Volume')]"
   ]
  }
 ],
 "metadata": {
  "kernelspec": {
   "display_name": "Python 3",
   "language": "python",
   "name": "python3"
  },
  "language_info": {
   "codemirror_mode": {
    "name": "ipython",
    "version": 3
   },
   "file_extension": ".py",
   "mimetype": "text/x-python",
   "name": "python",
   "nbconvert_exporter": "python",
   "pygments_lexer": "ipython3",
   "version": "3.8.17"
  }
 },
 "nbformat": 4,
 "nbformat_minor": 2
}
