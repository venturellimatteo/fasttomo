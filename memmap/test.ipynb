{
 "cells": [
  {
   "cell_type": "code",
   "execution_count": 7,
   "metadata": {},
   "outputs": [],
   "source": [
    "import napari\n",
    "import numpy as np\n",
    "from numpy.lib.format import open_memmap\n",
    "import myfunctions as mf\n",
    "import os\n",
    "import matplotlib.pyplot as plt\n",
    "from skimage.io import imshow\n",
    "from skimage.measure import regionprops, label\n",
    "import seaborn as sns\n",
    "import pandas as pd\n",
    "import time as clock\n",
    "from tqdm import tqdm"
   ]
  },
  {
   "cell_type": "code",
   "execution_count": 12,
   "metadata": {},
   "outputs": [],
   "source": [
    "def OS_path(exp, OS, isrec=False):\n",
    "    if OS=='Windows':\n",
    "        if isrec:\n",
    "            return 'Z:/rot_datasets/selected_vol/' + exp\n",
    "        else:\n",
    "            return 'Z:/rot_datasets/' + exp\n",
    "    elif OS=='MacOS':\n",
    "        return '../../MasterThesisData/' + exp\n",
    "    elif OS=='Linux':\n",
    "        return '/data/projects/whaitiri/Data/Data_Processing_July2022/rot_datasets/' + exp\n",
    "    elif OS=='Tyrex':\n",
    "        return 'U:/whaitiri/Data/Data_Processing_July2022/rot_datasets/' + exp\n",
    "    else:\n",
    "        raise ValueError('OS not recognized')"
   ]
  },
  {
   "cell_type": "code",
   "execution_count": 9,
   "metadata": {},
   "outputs": [],
   "source": [
    "def volume_path(exp, time, isrec, isImage=True, OS='Windows'):\n",
    "    flag = mf.exp_flag()[mf.exp_list().index(exp)]\n",
    "    vol = '0050' if flag else '0100'\n",
    "    folder_name = 'entry' + str(time).zfill(4) + '_no_extpag_db' + vol + '_vol'\n",
    "    volume_name = 'volume_v2.npy' if isImage else 'segmented.npy'\n",
    "    return os.path.join(OS_path(exp, OS, isrec), folder_name, volume_name)"
   ]
  },
  {
   "cell_type": "code",
   "execution_count": 10,
   "metadata": {},
   "outputs": [],
   "source": [
    "exp = mf.exp_list()[0]\n",
    "start_time = mf.exp_start_time()[mf.exp_list().index(exp)]\n",
    "end_time = 220\n",
    "skip180=True\n",
    "OS = 'Windows'\n",
    "rec = range(123,147)"
   ]
  },
  {
   "cell_type": "code",
   "execution_count": 13,
   "metadata": {},
   "outputs": [
    {
     "name": "stderr",
     "output_type": "stream",
     "text": [
      "Loading hypervolume memmap:   7%|▋         | 4/55 [01:00<12:44, 15.00s/it]"
     ]
    }
   ],
   "source": [
    "time_steps = range(start_time, end_time+1, 2) if skip180 else range(start_time, end_time+1)\n",
    "shape = (len(time_steps), 270, 500, 500)\n",
    "hypervolume = open_memmap(os.path.join(OS_path(exp, OS), 'hypervolume.npy'), dtype=np.half, mode='w+', shape=shape)\n",
    "for t, time in tqdm(enumerate(time_steps), desc='Loading hypervolume memmap', total=len(time_steps)):\n",
    "    volume = open_memmap(volume_path(exp=exp, time=time, OS=OS, isImage=True, isrec=(time in rec)), mode='r')\n",
    "    hypervolume[t,:,:,:] = volume[10:,208:708,244:744]"
   ]
  },
  {
   "cell_type": "code",
   "execution_count": null,
   "metadata": {},
   "outputs": [],
   "source": [
    "viewer = napari.Viewer()\n",
    "images = [viewer.add_image(hypervolume, name='Volume')]"
   ]
  }
 ],
 "metadata": {
  "kernelspec": {
   "display_name": "Python 3",
   "language": "python",
   "name": "python3"
  },
  "language_info": {
   "codemirror_mode": {
    "name": "ipython",
    "version": 3
   },
   "file_extension": ".py",
   "mimetype": "text/x-python",
   "name": "python",
   "nbconvert_exporter": "python",
   "pygments_lexer": "ipython3",
   "version": "3.8.18"
  }
 },
 "nbformat": 4,
 "nbformat_minor": 2
}
