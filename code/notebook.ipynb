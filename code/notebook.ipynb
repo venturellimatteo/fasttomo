{
 "cells": [
  {
   "cell_type": "code",
   "execution_count": 2,
   "metadata": {},
   "outputs": [
    {
     "name": "stdout",
     "output_type": "stream",
     "text": [
      "P28A_FT_H_Exp1\n",
      "P28A_FT_H_Exp2\n"
     ]
    }
   ],
   "source": [
    "import FT\n",
    "# exp_list = ['P28B_ISC_FT_H_Exp3', 'P28B_ISC_FT_H_Exp4', 'P28B_ISC_FT_H_Exp4_2', 'P28B_ISC_FT_H_Exp5', 'VCT5A_FT_H_Exp1', 'VCT5A_FT_H_Exp4'] # non segmented exps\n",
    "exp_list = ['P28A_FT_H_Exp1', 'P28A_FT_H_Exp2', 'P28A_FT_H_Exp3_3', 'P28A_FT_H_Exp4_2', 'P28B_ISC_FT_H_Exp2', 'VCT5_FT_N_Exp1', \n",
    "            'VCT5_FT_N_Exp3', 'VCT5_FT_N_Exp4', 'VCT5_FT_N_Exp5', 'VCT5A_FT_H_Exp2', 'VCT5A_FT_H_Exp5']\n",
    "\n",
    "exp = exp_list[0]\n",
    "print(exp)\n",
    "data = FT.FT_data(exp)\n",
    "data.view(mask=True)\n",
    "exp = exp_list[1]\n",
    "print(exp)\n",
    "data = FT.FT_data(exp)\n",
    "data.view(mask=True)"
   ]
  },
  {
   "cell_type": "markdown",
   "metadata": {},
   "source": []
  },
  {
   "cell_type": "code",
   "execution_count": 2,
   "metadata": {},
   "outputs": [
    {
     "name": "stderr",
     "output_type": "stream",
     "text": [
      "Creating stl files: 100%|██████████| 41/41 [06:09<00:00,  9.00s/it]                             \n",
      "Creating stl files: 100%|██████████| 3/3 [00:24<00:00,  8.24s/it]\n",
      "Creating binary stl files: 100%|██████████| 3/3 [07:09<00:00, 143.15s/it]\n"
     ]
    }
   ],
   "source": [
    "data.segment()\n",
    "data.view(mask=True)\n",
    "data.binary_mask(0.9)\n",
    "data.view(binary_mask=True)\n",
    "data.create_stls()\n",
    "data.create_stls(True, [7, 8, 9])"
   ]
  }
 ],
 "metadata": {
  "kernelspec": {
   "display_name": "test",
   "language": "python",
   "name": "python3"
  },
  "language_info": {
   "codemirror_mode": {
    "name": "ipython",
    "version": 3
   },
   "file_extension": ".py",
   "mimetype": "text/x-python",
   "name": "python",
   "nbconvert_exporter": "python",
   "pygments_lexer": "ipython3",
   "version": "3.8.17"
  }
 },
 "nbformat": 4,
 "nbformat_minor": 2
}
