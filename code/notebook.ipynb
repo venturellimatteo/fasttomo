{
 "cells": [
  {
   "cell_type": "code",
   "execution_count": 4,
   "metadata": {},
   "outputs": [
    {
     "name": "stdout",
     "output_type": "stream",
     "text": [
      "VCT5_FT_N_Exp3\n"
     ]
    },
    {
     "name": "stderr",
     "output_type": "stream",
     "text": [
      "VCT5_FT_N_Exp3:  74%|███████▎  | 56/76 [25:39<10:35, 31.80s/it, Segmentation #57]"
     ]
    }
   ],
   "source": [
    "import FT\n",
    "import os\n",
    "# exp_list = ['P28B_ISC_FT_H_Exp3', 'P28B_ISC_FT_H_Exp4', 'P28B_ISC_FT_H_Exp4_2', 'P28B_ISC_FT_H_Exp5', 'VCT5A_FT_H_Exp1', 'VCT5A_FT_H_Exp4'] # non segmented exps\n",
    "exp_list = ['P28A_FT_H_Exp1', 'P28A_FT_H_Exp2', 'P28A_FT_H_Exp3_3', 'P28A_FT_H_Exp4_2', 'P28B_ISC_FT_H_Exp2', 'VCT5_FT_N_Exp1', \n",
    "            'VCT5_FT_N_Exp3', 'VCT5_FT_N_Exp4', 'VCT5_FT_N_Exp5', 'VCT5A_FT_H_Exp2', 'VCT5A_FT_H_Exp5']\n",
    "\n",
    "for exp in exp_list[6:]:\n",
    "    print(exp)\n",
    "    data = FT.FT_data(exp)\n",
    "    data.segment()\n",
    "    data.create_dataframe()\n",
    "    data.plots()"
   ]
  }
 ],
 "metadata": {
  "kernelspec": {
   "display_name": "test",
   "language": "python",
   "name": "python3"
  },
  "language_info": {
   "codemirror_mode": {
    "name": "ipython",
    "version": 3
   },
   "file_extension": ".py",
   "mimetype": "text/x-python",
   "name": "python",
   "nbconvert_exporter": "python",
   "pygments_lexer": "ipython3",
   "version": "3.8.17"
  }
 },
 "nbformat": 4,
 "nbformat_minor": 2
}
