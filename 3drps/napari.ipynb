{
 "cells": [
  {
   "cell_type": "code",
   "execution_count": 1,
   "metadata": {},
   "outputs": [],
   "source": [
    "import napari\n",
    "import numpy as np\n",
    "from numpy.lib.format import open_memmap\n",
    "import myfunctions as mf\n",
    "import pandas as pd\n",
    "import os"
   ]
  },
  {
   "cell_type": "code",
   "execution_count": 28,
   "metadata": {},
   "outputs": [
    {
     "name": "stdout",
     "output_type": "stream",
     "text": [
      "P28A_FT_H_Exp1\n"
     ]
    }
   ],
   "source": [
    "exp = mf.exp_list()[0]\n",
    "OS = 'MacOS_SSD'\n",
    "print(exp)"
   ]
  },
  {
   "cell_type": "markdown",
   "metadata": {},
   "source": [
    "#### Labels"
   ]
  },
  {
   "cell_type": "code",
   "execution_count": 30,
   "metadata": {},
   "outputs": [],
   "source": [
    "hypervolume = open_memmap(os.path.join(mf.OS_path(exp, OS), 'hypervolume.npy'), mode='r')\n",
    "hypervolume_mask = open_memmap(os.path.join(mf.OS_path(exp, OS), 'hypervolume_mask.npy'), mode='r')\n",
    "\n",
    "viewer = napari.Viewer()\n",
    "\n",
    "images = [viewer.add_image(hypervolume, name='Volume', opacity=0.4)] \n",
    "labels = [viewer.add_labels(hypervolume_mask, name='Mask', opacity=0.8)]\n",
    "\n",
    "settings = napari.settings.get_settings()\n",
    "settings.application.playback_fps = 5\n",
    "viewer.dims.current_step = (0, 0)"
   ]
  },
  {
   "cell_type": "markdown",
   "metadata": {},
   "source": [
    "#### No Labels"
   ]
  },
  {
   "cell_type": "code",
   "execution_count": 26,
   "metadata": {},
   "outputs": [],
   "source": [
    "hypervolume = open_memmap(os.path.join(mf.OS_path(exp, OS), 'hypervolume.npy'), mode='r')\n",
    "\n",
    "viewer = napari.Viewer()\n",
    "\n",
    "images = [viewer.add_image(hypervolume, name='Volume')] \n",
    "\n",
    "settings = napari.settings.get_settings()\n",
    "settings.application.playback_fps = 5\n",
    "viewer.dims.current_step = (0, 0)"
   ]
  }
 ],
 "metadata": {
  "kernelspec": {
   "display_name": "test",
   "language": "python",
   "name": "python3"
  },
  "language_info": {
   "codemirror_mode": {
    "name": "ipython",
    "version": 3
   },
   "file_extension": ".py",
   "mimetype": "text/x-python",
   "name": "python",
   "nbconvert_exporter": "python",
   "pygments_lexer": "ipython3",
   "version": "3.8.17"
  }
 },
 "nbformat": 4,
 "nbformat_minor": 2
}
