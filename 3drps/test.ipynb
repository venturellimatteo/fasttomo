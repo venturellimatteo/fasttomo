{
 "cells": [
  {
   "cell_type": "code",
   "execution_count": 2,
   "metadata": {},
   "outputs": [],
   "source": [
    "import numpy as np\n",
    "from numpy.lib.format import open_memmap\n",
    "import myfunctions as mf\n",
    "import os\n",
    "from tqdm import tqdm"
   ]
  },
  {
   "cell_type": "code",
   "execution_count": 3,
   "metadata": {},
   "outputs": [],
   "source": [
    "exp_list = ['P28A_FT_H_Exp4_2', 'P28B_ISC_FT_H_Exp2', 'VCT5_FT_N_Exp1']\n",
    "crop_list = [100, 50, 100]\n",
    "parent_dir = '/Volumes/T7/Thesis/'"
   ]
  },
  {
   "cell_type": "code",
   "execution_count": 4,
   "metadata": {},
   "outputs": [
    {
     "name": "stderr",
     "output_type": "stream",
     "text": [
      "P28A_FT_H_Exp4_2: 100%|██████████| 69/69 [04:12<00:00,  3.66s/it]\n",
      "P28B_ISC_FT_H_Exp2: 100%|██████████| 61/61 [04:56<00:00,  4.87s/it]\n",
      "VCT5_FT_N_Exp1: 100%|██████████| 33/33 [02:05<00:00,  3.81s/it]\n"
     ]
    }
   ],
   "source": [
    "for exp, crop in zip(exp_list, crop_list):\n",
    "    exp_dir = os.path.join(parent_dir, exp)\n",
    "    v1 = open_memmap(os.path.join(exp_dir, 'hypervolume.npy'), mode='r')\n",
    "    t = v1.shape[0]\n",
    "    z = v1.shape[1]\n",
    "    xy = v1.shape[2]\n",
    "    v2 = open_memmap(os.path.join(exp_dir, 'v2.npy'), mode='w+', dtype=np.half, shape=(t, z, xy-(2*crop), xy-(2*crop)))\n",
    "    for time in tqdm(range(t), desc=exp):\n",
    "        v2[time] = v1[time, :, crop:v1.shape[2]-crop, crop:v1.shape[2]-crop]"
   ]
  },
  {
   "cell_type": "code",
   "execution_count": null,
   "metadata": {},
   "outputs": [],
   "source": []
  }
 ],
 "metadata": {
  "kernelspec": {
   "display_name": "test",
   "language": "python",
   "name": "python3"
  },
  "language_info": {
   "codemirror_mode": {
    "name": "ipython",
    "version": 3
   },
   "file_extension": ".py",
   "mimetype": "text/x-python",
   "name": "python",
   "nbconvert_exporter": "python",
   "pygments_lexer": "ipython3",
   "version": "3.8.17"
  }
 },
 "nbformat": 4,
 "nbformat_minor": 2
}
