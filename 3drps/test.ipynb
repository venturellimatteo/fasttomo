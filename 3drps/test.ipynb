{
 "cells": [
  {
   "cell_type": "code",
   "execution_count": 1,
   "metadata": {},
   "outputs": [],
   "source": [
    "import napari\n",
    "import numpy as np\n",
    "from numpy.lib.format import open_memmap\n",
    "import myfunctions as mf\n",
    "import os\n",
    "from skimage.io import imshow\n",
    "from skimage.measure import regionprops, label\n",
    "import seaborn as sns\n",
    "import pandas as pd\n",
    "import time as clock\n",
    "from tqdm import tqdm"
   ]
  },
  {
   "cell_type": "code",
   "execution_count": null,
   "metadata": {},
   "outputs": [],
   "source": [
    "exp = mf.exp_list()[0]\n",
    "OS = 'MacOS'\n",
    "hypervolume_mask = mf.segment4D(exp, OS)\n",
    "mf.filtering4D(hypervolume_mask, exp)\n",
    "df = mf.motion_df(hypervolume_mask, exp)"
   ]
  },
  {
   "cell_type": "code",
   "execution_count": 3,
   "metadata": {},
   "outputs": [],
   "source": [
    "viewer = napari.Viewer()\n",
    "\n",
    "hypervolume = open_memmap(os.path.join(exp, 'hypervolume.npy'), mode='r')\n",
    "images = [viewer.add_image(hypervolume, name='Volume', opacity=0.4)]\n",
    "labels = [viewer.add_labels(hypervolume_mask, name='Mask', opacity=0.8)]\n",
    "\n",
    "settings = napari.settings.get_settings()\n",
    "settings.application.playback_fps = 5\n",
    "viewer.dims.current_step = (0, 0)"
   ]
  }
 ],
 "metadata": {
  "kernelspec": {
   "display_name": "test",
   "language": "python",
   "name": "python3"
  },
  "language_info": {
   "codemirror_mode": {
    "name": "ipython",
    "version": 3
   },
   "file_extension": ".py",
   "mimetype": "text/x-python",
   "name": "python",
   "nbconvert_exporter": "python",
   "pygments_lexer": "ipython3",
   "version": "3.8.17"
  }
 },
 "nbformat": 4,
 "nbformat_minor": 2
}
