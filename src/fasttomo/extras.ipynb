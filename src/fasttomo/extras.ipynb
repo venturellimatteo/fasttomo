{
 "cells": [
  {
   "cell_type": "markdown",
   "metadata": {},
   "source": [
    "Rename `hypervolume.npy` into `ct.npy` and `hypervolume_mask.npy` into `mask.npy`"
   ]
  },
  {
   "cell_type": "code",
   "execution_count": null,
   "metadata": {},
   "outputs": [],
   "source": [
    "import os\n",
    "path = '/Volumes/T7/Thesis/'\n",
    "for folder in os.listdir(path):\n",
    "    if folder == '.DS_Store':\n",
    "        continue\n",
    "    if os.path.exists(os.path.join(path, folder, 'hypervolume.npy')):\n",
    "        os.rename(os.path.join(path, folder, 'hypervolume.npy'), os.path.join(path, folder, 'ct.npy'))\n",
    "    if os.path.exists(os.path.join(path, folder, 'hypervolume_mask.npy')):\n",
    "        os.rename(os.path.join(path, folder, 'hypervolume_mask.npy'), os.path.join(path, folder, 'mask.npy'))"
   ]
  },
  {
   "cell_type": "markdown",
   "metadata": {},
   "source": [
    "Threshold for `P28B_ISC_FT_H_Exp2` should be 0.7, threshold for `VCT5_FT_N_Exp1` should be 1"
   ]
  },
  {
   "cell_type": "code",
   "execution_count": null,
   "metadata": {},
   "outputs": [],
   "source": [
    "import fasttomo\n",
    "# from skimage.io import imshow\n",
    "import matplotlib.pyplot as plt\n",
    "fig, axs = plt.subplots(1, 2, figsize=(12, 7))\n",
    "data1 = fasttomo.Data('P28B_ISC_FT_H_Exp2')\n",
    "ct1 = data1.ct\n",
    "axs[0].imshow(ct1[20,20]>0.7, cmap='gray')\n",
    "axs[0].set_title('P28B_ISC_FT_H_Exp2')\n",
    "data2 = fasttomo.Data('VCT5A_FT_H_Exp4')\n",
    "ct2 = data2.ct\n",
    "axs[1].imshow(ct2[5,20]>0.8, cmap='gray')\n",
    "_ = axs[1].set_title('VCT5A_FT_H_Exp4')"
   ]
  },
  {
   "cell_type": "markdown",
   "metadata": {},
   "source": [
    "Merging and cropping the original files `volume_v2` obtained by Matilda's code"
   ]
  },
  {
   "cell_type": "code",
   "execution_count": null,
   "metadata": {},
   "outputs": [],
   "source": [
    "import numpy as np\n",
    "from numpy.lib.format import open_memmap  \n",
    "from tqdm import tqdm\n",
    "import os\n",
    "\n",
    "exp = 'VCT5_FT_N_Exp1'\n",
    "parent_path = f'/Volumes/T7/Thesis/{exp}'\n",
    "folders = sorted(os.listdir(parent_path))\n",
    "del folders[-1]\n",
    "ct = open_memmap(os.path.join(parent_path, 'hypervolume.npy'), dtype=np.half, mode='w+', shape=(len(folders), 260, 700, 700))\n",
    "progress_bar = tqdm(total=len(folders), desc='Copying volumes')\n",
    "for t, folder in enumerate(folders):\n",
    "    temp = open_memmap(os.path.join(parent_path, folder, 'volume_v2.npy'), mode='r')\n",
    "    ct[t] = temp[15:275, 108:808, 144:844]\n",
    "    progress_bar.update()\n",
    "progress_bar.close()"
   ]
  },
  {
   "cell_type": "markdown",
   "metadata": {},
   "source": [
    "Convert `.stl` mesh into `.obj`"
   ]
  },
  {
   "cell_type": "code",
   "execution_count": 7,
   "metadata": {},
   "outputs": [],
   "source": [
    "from stl_to_obj import stl_to_obj\n",
    "import os\n",
    "\n",
    "exp = 'P28B_ISC_FT_H_Exp2'\n",
    "parent_path = f'/Volumes/T7/Thesis/{exp}/sidewall_stls'\n",
    "stl_to_obj.stl_to_obj(os.path.join(parent_path, '000', '00000.stl'), os.path.join(parent_path, '000', '00000.obj'))"
   ]
  },
  {
   "cell_type": "markdown",
   "metadata": {},
   "source": [
    "Save colored segmentation slice"
   ]
  },
  {
   "cell_type": "code",
   "execution_count": null,
   "metadata": {},
   "outputs": [],
   "source": [
    "from napari.utils.colormaps import label_colormap\n",
    "import matplotlib.pyplot as plt\n",
    "import numpy as np\n",
    "from skimage.color import label2rgb\n",
    "import fasttomo\n",
    "\n",
    "exp = \"P28B_ISC_FT_H_Exp2\"\n",
    "data = fasttomo.Data(exp)\n",
    "mask_slice = data.mask[107,145]\n",
    "ct_slice = np.ones(mask_slice.shape)\n",
    "plt.figure(figsize=(8, 8))\n",
    "cmap = np.array([(213,  62,  79,  1),(102,  194,  165,  1), (50,  136,  189,  1), (158,  1,  66,  1),  (244,  109,  67,  1), (253,  174,  97,  1), (254,  224,  139,  1), (230,  245,  152,  1), (171,  221,  164,  1),  (94,  79,  162,  1)])/255\n",
    "cmap = list(cmap)\n",
    "plt.imsave(\"/Users/matteoventurelli/Downloads/Segmented-2.png\", label2rgb(mask_slice[70:-70,70:-70], alpha=1, bg_color='white', colors=cmap))"
   ]
  }
 ],
 "metadata": {
  "kernelspec": {
   "display_name": "test",
   "language": "python",
   "name": "python3"
  },
  "language_info": {
   "codemirror_mode": {
    "name": "ipython",
    "version": 3
   },
   "file_extension": ".py",
   "mimetype": "text/x-python",
   "name": "python",
   "nbconvert_exporter": "python",
   "pygments_lexer": "ipython3",
   "version": "3.8.17"
  }
 },
 "nbformat": 4,
 "nbformat_minor": 2
}
