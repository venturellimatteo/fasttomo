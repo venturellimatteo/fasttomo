{
 "cells": [
  {
   "cell_type": "markdown",
   "metadata": {},
   "source": [
    "# Statistical Analysis"
   ]
  },
  {
   "cell_type": "code",
   "execution_count": 86,
   "metadata": {},
   "outputs": [],
   "source": [
    "import numpy as np\n",
    "import pandas as pd\n",
    "import matplotlib.pyplot as plt\n",
    "import seaborn as sns\n",
    "from scipy import stats\n",
    "import os"
   ]
  },
  {
   "cell_type": "markdown",
   "metadata": {},
   "source": [
    "Printing the steady state total agglomerate volume, steady state average agglomerate volume and steady state agglomerate density for each of the experiments."
   ]
  },
  {
   "cell_type": "code",
   "execution_count": null,
   "metadata": {},
   "outputs": [],
   "source": [
    "bv = np.pi * (0.5 * 1.86) ** 2 * (260 * 0.04)\n",
    "df = pd.DataFrame(columns=['exp', 'type', 'total_volume', 'average_volume', 'std_volume', 'density'])\n",
    "for i, exp in enumerate(['P28A_FT_H_Exp1', 'P28A_FT_H_Exp2', 'P28A_FT_H_Exp3_3', 'P28A_FT_H_Exp4_2', 'P28A_FT_H_Exp5_3', 'VCT5_FT_N_Exp4', 'VCT5_FT_N_Exp5', 'VCT5A_FT_H_Exp2', 'VCT5A_FT_H_Exp5', 'VCT5_FT_N_Exp3']):\n",
    "    temp = pd.read_csv(os.path.join(\"/Volumes/T7/Thesis\", exp, \"dataframe.csv\"))\n",
    "    unique_t = np.unique(temp['t'])\n",
    "    filt = temp['t'] == unique_t[-1]\n",
    "    if exp == 'VCT5_FT_N_Exp3':\n",
    "        filt = temp['t'] == 3\n",
    "        continue\n",
    "    V = temp.loc[filt]['V'].values\n",
    "    # print(exp)\n",
    "    # print(f'Total volume: {np.sum(V):.1f}')\n",
    "    # print(f'Average volume: {np.mean(V):.4f}, std: {np.std(V):.4f}')\n",
    "    # print(f'Density: {len(V)/bv:.1f}\\n')\n",
    "    ty = 'N' if 'N' in exp else 'H'\n",
    "    exp_name = 'P28A' if 'P28A' in exp else 'VCT5A'\n",
    "    df.loc[i] = [exp_name, ty, np.sum(V), np.mean(V),  np.std(V), len(V)/bv]\n",
    "df"
   ]
  },
  {
   "cell_type": "markdown",
   "metadata": {},
   "source": [
    "Plotting graphs for comparing the different features between the two battery types."
   ]
  },
  {
   "cell_type": "code",
   "execution_count": null,
   "metadata": {},
   "outputs": [],
   "source": [
    "plt.style.use('seaborn-v0_8-muted')\n",
    "plt.rcParams['text.usetex'] = True\n",
    "palette = [\"#9DD4EE\", \"#006787\"]\n",
    "fig, axs = plt.subplots(1, 3, figsize=(12, 4), dpi=300)\n",
    "sns.boxplot(ax=axs[0], data=df, x='exp', y='total_volume', hue='exp', width=0.5, palette=palette)\n",
    "sns.boxplot(ax=axs[1], data=df, x='exp', y='average_volume', hue='exp', width=0.5, palette=palette)\n",
    "sns.boxplot(ax=axs[2], data=df, x='exp', y='density', hue='exp', width=0.5, palette=palette)\n",
    "for i, ax in enumerate(axs):\n",
    "    ax.set_xlabel('')\n",
    "    ax.set_ylabel('')\n",
    "    ax.set_title(['Total volume [mm$^3$]', 'Average volume [mm$^3$]', 'Density [cm$^{-3}$]'][i])"
   ]
  },
  {
   "cell_type": "markdown",
   "metadata": {},
   "source": [
    "Oneway ANOVA test makes the following assumptions about the probability distributions of the responses:\n",
    "- Independence of observations;\n",
    "- Normality\n",
    "- Homoscedasticity (equality of variances)\n",
    "\n",
    "In our case the second and third assumptions are not valid:\n",
    "\n",
    "- Shapiro wilk p-value for both VCT5A and P28A is equal to zero (data is not normally distributed for both experiments)\n",
    "- `VCT5A_std > 2*P28A_std` (we cannot assume same variances)\n",
    "This means that Oneway ANOVA test validity is not guaranteed.\n",
    "\n",
    "Welch's t-test, or unequal variances t-test, is used to test the (null) hypothesis that two populations have equal means. It is designed for unequal population variances, but the assumption of normality is maintained. Yet, Welch's t-test is considered robust to violations of this assumption, especially when sample sizes are large. p-value is in the order of $10^{-17}$ in this case, so we can state that the mean of the two populations is different with statistical certainty."
   ]
  },
  {
   "cell_type": "code",
   "execution_count": 89,
   "metadata": {},
   "outputs": [
    {
     "name": "stderr",
     "output_type": "stream",
     "text": [
      "/Users/matteoventurelli/miniconda3/envs/test/lib/python3.8/site-packages/scipy/stats/_morestats.py:1800: UserWarning: p-value may not be accurate for N > 5000.\n",
      "  warnings.warn(\"p-value may not be accurate for N > 5000.\")\n"
     ]
    }
   ],
   "source": [
    "P28A_V, VCT5A_V = [], []\n",
    "for exp in ['P28A_FT_H_Exp1', 'P28A_FT_H_Exp2', 'P28A_FT_H_Exp3_3', 'P28A_FT_H_Exp4_2', 'P28A_FT_H_Exp5_3', 'VCT5A_FT_H_Exp2', 'VCT5A_FT_H_Exp5']:\n",
    "    df = pd.read_csv(os.path.join(\"/Volumes/T7/Thesis\", exp, \"dataframe.csv\"))\n",
    "    unique_t = np.unique(df['t'])\n",
    "    filt = df['t'] == unique_t[-1]\n",
    "    V = df.loc[filt]['V'].values\n",
    "    if 'P28A' in exp:\n",
    "        P28A_V.append(V)\n",
    "    else:\n",
    "        VCT5A_V.append(V)\n",
    "\n",
    "P28A_V = np.concatenate(P28A_V)\n",
    "VCT5A_V = np.concatenate(VCT5A_V)\n",
    "\n",
    "P28A_shapiro_stat, P28A_shapiro_pvalue = stats.shapiro(P28A_V)\n",
    "VCT5A_shapiro_stat, VCT5A_shapiro_pvalue = stats.shapiro(VCT5A_V)\n",
    "anova_fstat, anova_pvalue = stats.f_oneway(P28A_V, VCT5A_V)\n",
    "welch_tstat, welch_pvalue = stats.ttest_ind(P28A_V, VCT5A_V, equal_var=False)\n"
   ]
  },
  {
   "cell_type": "code",
   "execution_count": 90,
   "metadata": {},
   "outputs": [
    {
     "name": "stdout",
     "output_type": "stream",
     "text": [
      "P28A mean: 0.025, std: 0.061\n",
      "VCT5A mean: 0.057, std: 0.127\n",
      "P28A_shapiro_stat: 2.457016e-01\n",
      "P28A_shapiro_pvalue: 0.000000e+00\n",
      "VCT5A_shapiro_stat: 4.264061e-01\n",
      "VCT5A_shapiro_pvalue: 0.000000e+00\n",
      "anova_fstat: 2.715079e+02, anova_pvalue: 3.603044e-60\n",
      "welch_tstat: -1.135236e+01, welch_pvalue: 4.094604e-29\n"
     ]
    }
   ],
   "source": [
    "print(f'P28A mean: {np.mean(P28A_V):.3f}, std: {np.std(P28A_V):.3f}')\n",
    "print(f'VCT5A mean: {np.mean(VCT5A_V):.3f}, std: {np.std(VCT5A_V):.3f}')\n",
    "print(f'P28A_shapiro_stat: {P28A_shapiro_stat:e}')\n",
    "print(f'P28A_shapiro_pvalue: {P28A_shapiro_pvalue:e}')\n",
    "print(f'VCT5A_shapiro_stat: {VCT5A_shapiro_stat:e}')\n",
    "print(f'VCT5A_shapiro_pvalue: {VCT5A_shapiro_pvalue:e}')\n",
    "print(f'anova_fstat: {anova_fstat:e}, anova_pvalue: {anova_pvalue:e}')\n",
    "print(f'welch_tstat: {welch_tstat:e}, welch_pvalue: {welch_pvalue:e}')"
   ]
  },
  {
   "cell_type": "code",
   "execution_count": 91,
   "metadata": {},
   "outputs": [],
   "source": [
    "df = pd.DataFrame(columns = ['Battery type', 'V'])\n",
    "for j, el in enumerate(VCT5A_V):\n",
    "    df.loc[j] = ['VCT5A', el]\n",
    "for i, el in enumerate(P28A_V):\n",
    "    df.loc[i+j] = ['P28A', el]\n",
    "\n",
    "df2 = pd.DataFrame(columns = ['Battery type', 'V'])\n",
    "for i, el in enumerate(P28A_V):\n",
    "    df2.loc[i] = ['P28A', el]\n",
    "for j, el in enumerate(VCT5A_V):\n",
    "    df2.loc[i+j] = ['VCT5A', el]\n",
    "    \n",
    "a = np.arange(0, 7452, 3)\n",
    "b = np.arange(7452, 7452+2078)\n",
    "c = np.concatenate([a, b])\n",
    "df2 = df2.iloc[c]"
   ]
  },
  {
   "cell_type": "code",
   "execution_count": null,
   "metadata": {},
   "outputs": [],
   "source": [
    "x_min = 0.0032\n",
    "x_max = 2\n",
    "palette = [\"#9DD4EE\", \"#006787\"] #7cc5e8  B5DEF2\n",
    "fig, (ax1, ax2) = plt.subplots(1, 2, figsize=(10.5, 4), width_ratios=[3, 2], dpi=300)\n",
    "plt.subplots_adjust(wspace=0.5)\n",
    "df.columns = ['Battery type', 'V']\n",
    "sns.histplot(ax=ax1, data=df, x='V', hue='Battery type', palette=palette[::-1], kde=True, log_scale=True, fill=True, alpha=0.5, bins=20, element='step', stat='density') # bins=np.logspace(np.log10(x_min), np.log10(x_max), 50)\n",
    "ax1.set_xlim(x_min, x_max)\n",
    "ax1.set_xlabel('Volume [mm$^{-3}$]')\n",
    "\n",
    "# palette = [\"#D7EDF8\", \"#96C4D5\"]\n",
    "# palette = [\"#7cc5e8\", \"#006787\"]\n",
    "# sns.boxplot(ax=ax2, data=df, x='Battery type', y='V', hue='Battery type', width=0.5, palette=palette, log_scale=True)\n",
    "# ax2.set_xlabel('')\n",
    "# ax2.set_ylabel('Volume [mm$^{-3}$]')\n",
    "# ax2.set_ylim(0.002, 3)\n",
    "\n",
    "sns.stripplot(\n",
    "    ax=ax2, data=df2,  y=\"V\", hue=\"Battery type\",\n",
    "    dodge=True, alpha=.2, legend=False, log_scale=True, palette=palette, jitter=0.25\n",
    ")\n",
    "sns.pointplot(\n",
    "    ax=ax2, data=df2,  y=\"V\", hue=\"Battery type\",\n",
    "    dodge=.4, linestyle=\"none\", errorbar=None,\n",
    "    marker=\"_\", markersize=70, legend=False, markeredgewidth=3, log_scale=True, palette=palette\n",
    ")\n",
    "\n",
    "ax2.set_ylabel('Volume [mm$^{-3}$]')\n",
    "ax2.set_xticks([-0.2, 0.2], ['P28A', 'VCT5A'])"
   ]
  },
  {
   "cell_type": "code",
   "execution_count": null,
   "metadata": {},
   "outputs": [],
   "source": [
    "# xlim = 0.2\n",
    "# kde_factor = 23\n",
    "# bins = np.linspace(0, xlim, 50)\n",
    "# xx = np.linspace(0, xlim, 100)\n",
    "# fig, ax = plt.subplots(figsize=(10, 6), dpi=150)\n",
    "\n",
    "# ax.hist(P28A_V, bins=bins, alpha=0.5, label='P28A')\n",
    "# kde_P28A = stats.gaussian_kde(P28A_V)\n",
    "# ax.plot(xx, kde_P28A(xx)*kde_factor, label='P28A kde', color=sns.color_palette()[0])\n",
    "\n",
    "# ax.hist(VCT5A_V, bins=bins, alpha=0.5, label='VCT5A')\n",
    "# kde_VCT5A = stats.gaussian_kde(VCT5A_V)\n",
    "# ax.plot(xx, kde_VCT5A(xx)*kde_factor, label='VCT5A kde', color=sns.color_palette()[1])\n",
    "\n",
    "# # ax.plot(xx, norm.pdf(xx, 0.02, 0.05)*20, label='Gaussian', color=sns.color_palette()[2], linestyle='--')\n",
    "# #ax.plot(xx, stats.cauchy.pdf((xx-0.01)*70)*2300, label='Cauchy 1', color=sns.color_palette()[3], linestyle='--')\n",
    "# #ax.plot(xx, stats.cauchy.pdf((xx-0.017)*19)*630, label='Cauchy 2', color=sns.color_palette()[4], linestyle='--')\n",
    "\n",
    "# ax.set_xlim(0, xlim)\n",
    "# ax.set_xlabel('Volume [$mm^{-3}$]')\n",
    "# _ = ax.legend()"
   ]
  },
  {
   "cell_type": "markdown",
   "metadata": {},
   "source": [
    "# Miscellaneous"
   ]
  },
  {
   "cell_type": "markdown",
   "metadata": {},
   "source": [
    "Rename `hypervolume.npy` into `ct.npy` and `hypervolume_mask.npy` into `mask.npy`"
   ]
  },
  {
   "cell_type": "code",
   "execution_count": null,
   "metadata": {},
   "outputs": [],
   "source": [
    "import os\n",
    "path = '/Volumes/T7/Thesis/'\n",
    "for folder in os.listdir(path):\n",
    "    if folder == '.DS_Store':\n",
    "        continue\n",
    "    if os.path.exists(os.path.join(path, folder, 'hypervolume.npy')):\n",
    "        os.rename(os.path.join(path, folder, 'hypervolume.npy'), os.path.join(path, folder, 'ct.npy'))\n",
    "    if os.path.exists(os.path.join(path, folder, 'hypervolume_mask.npy')):\n",
    "        os.rename(os.path.join(path, folder, 'hypervolume_mask.npy'), os.path.join(path, folder, 'mask.npy'))"
   ]
  },
  {
   "cell_type": "markdown",
   "metadata": {},
   "source": [
    "Threshold for `P28B_ISC_FT_H_Exp2` should be 0.7, threshold for `VCT5_FT_N_Exp1` should be 1"
   ]
  },
  {
   "cell_type": "code",
   "execution_count": null,
   "metadata": {},
   "outputs": [],
   "source": [
    "import fasttomo\n",
    "# from skimage.io import imshow\n",
    "import matplotlib.pyplot as plt\n",
    "fig, axs = plt.subplots(1, 2, figsize=(12, 7))\n",
    "data1 = fasttomo.Data('P28B_ISC_FT_H_Exp2')\n",
    "ct1 = data1.ct\n",
    "axs[0].imshow(ct1[20,20]>0.7, cmap='gray')\n",
    "axs[0].set_title('P28B_ISC_FT_H_Exp2')\n",
    "data2 = fasttomo.Data('VCT5A_FT_H_Exp4')\n",
    "ct2 = data2.ct\n",
    "axs[1].imshow(ct2[5,20]>0.8, cmap='gray')\n",
    "_ = axs[1].set_title('VCT5A_FT_H_Exp4')"
   ]
  },
  {
   "cell_type": "markdown",
   "metadata": {},
   "source": [
    "Merging and cropping the original files `volume_v2` obtained by Matilda's code"
   ]
  },
  {
   "cell_type": "code",
   "execution_count": null,
   "metadata": {},
   "outputs": [],
   "source": [
    "import numpy as np\n",
    "from numpy.lib.format import open_memmap  \n",
    "from tqdm import tqdm\n",
    "import os\n",
    "\n",
    "exp = 'VCT5_FT_N_Exp1'\n",
    "parent_path = f'/Volumes/T7/Thesis/{exp}'\n",
    "folders = sorted(os.listdir(parent_path))\n",
    "del folders[-1]\n",
    "ct = open_memmap(os.path.join(parent_path, 'hypervolume.npy'), dtype=np.half, mode='w+', shape=(len(folders), 260, 700, 700))\n",
    "progress_bar = tqdm(total=len(folders), desc='Copying volumes')\n",
    "for t, folder in enumerate(folders):\n",
    "    temp = open_memmap(os.path.join(parent_path, folder, 'volume_v2.npy'), mode='r')\n",
    "    ct[t] = temp[15:275, 108:808, 144:844]\n",
    "    progress_bar.update()\n",
    "progress_bar.close()"
   ]
  },
  {
   "cell_type": "markdown",
   "metadata": {},
   "source": [
    "Convert `.stl` mesh into `.obj`"
   ]
  },
  {
   "cell_type": "code",
   "execution_count": 7,
   "metadata": {},
   "outputs": [],
   "source": [
    "from stl_to_obj import stl_to_obj\n",
    "import os\n",
    "\n",
    "exp = 'P28B_ISC_FT_H_Exp2'\n",
    "parent_path = f'/Volumes/T7/Thesis/{exp}/sidewall_stls'\n",
    "stl_to_obj.stl_to_obj(os.path.join(parent_path, '000', '00000.stl'), os.path.join(parent_path, '000', '00000.obj'))"
   ]
  },
  {
   "cell_type": "markdown",
   "metadata": {},
   "source": [
    "Save slice"
   ]
  },
  {
   "cell_type": "code",
   "execution_count": 12,
   "metadata": {},
   "outputs": [],
   "source": [
    "import fasttomo\n",
    "from skimage.io import imsave\n",
    "from PIL import Image\n",
    "import os\n",
    "\n",
    "time = 13\n",
    "z = 245\n",
    "exp = 'P28B_ISC_FT_H_Exp4'\n",
    "contrast_limits = [0.1, 3.5]\n",
    "\n",
    "data = fasttomo.Data(exp)\n",
    "image = np.copy(data.ct[time, z])\n",
    "image[image < contrast_limits[0]] = contrast_limits[0]\n",
    "image[image > contrast_limits[1]] = contrast_limits[1]\n",
    "image = 255 * (image - contrast_limits[0]) / (contrast_limits[1] - contrast_limits[0])\n",
    "image = image.astype(np.uint8)\n",
    "image = 255 - image\n",
    "# image = Image.fromarray(image)\n",
    "imsave(os.path.join('/Volumes/T7/Thesis',\n",
    "                    exp, \n",
    "                    str(time).zfill(3) + \"-\" + str(z).zfill(3) + \".png\"), image)"
   ]
  },
  {
   "cell_type": "markdown",
   "metadata": {},
   "source": [
    "Save colored segmentation slice"
   ]
  },
  {
   "cell_type": "code",
   "execution_count": null,
   "metadata": {},
   "outputs": [],
   "source": [
    "from napari.utils.colormaps import label_colormap\n",
    "import matplotlib.pyplot as plt\n",
    "import numpy as np\n",
    "from skimage.color import label2rgb\n",
    "import fasttomo\n",
    "\n",
    "exp = \"P28B_ISC_FT_H_Exp2\"\n",
    "data = fasttomo.Data(exp)\n",
    "mask_slice = data.mask[107,145]\n",
    "ct_slice = np.ones(mask_slice.shape)\n",
    "plt.figure(figsize=(8, 8))\n",
    "cmap = np.array([(213,  62,  79,  1),(102,  194,  165,  1), (50,  136,  189,  1), (158,  1,  66,  1),  (244,  109,  67,  1), (253,  174,  97,  1), (254,  224,  139,  1), (230,  245,  152,  1), (171,  221,  164,  1),  (94,  79,  162,  1)])/255\n",
    "cmap = list(cmap)\n",
    "plt.imsave(\"/Users/matteoventurelli/Downloads/Segmented-2.png\", label2rgb(mask_slice[70:-70,70:-70], alpha=1, bg_color='white', colors=cmap))"
   ]
  },
  {
   "cell_type": "markdown",
   "metadata": {},
   "source": [
    "# Agglomerate plots"
   ]
  },
  {
   "cell_type": "markdown",
   "metadata": {},
   "source": [
    "`P28A_FT_H_Exp4_2`"
   ]
  },
  {
   "cell_type": "code",
   "execution_count": null,
   "metadata": {},
   "outputs": [],
   "source": [
    "import fasttomo\n",
    "import pandas as pd\n",
    "import numpy as np\n",
    "import matplotlib.pyplot as plt\n",
    "import seaborn as sns\n",
    "import os\n",
    "\n",
    "data = fasttomo.Data('P28A_FT_H_Exp4_2')\n",
    "try:\n",
    "    data.df = pd.read_csv(os.path.join(data.path, \"dataframe.csv\"))\n",
    "except FileNotFoundError:\n",
    "    print(\"Dataframe not found, run Data.create_dataframe() first!\")\n",
    "    pass\n",
    "data._R_SECTIONS_STRING = [\"Core\", \"Intermediate\", \"External\"]\n",
    "data._Z_SECTIONS_STRING = [\"Top\", \"Middle\", \"Bottom\"]\n",
    "test_t = data.df[\"t\"][0]\n",
    "data.df[\"t\"] = data.df[\"t\"] - data.df[\"t\"][0]\n",
    "df_tot, df_r, df_z = data._load_df_tot(), data._load_df_r(), data._load_df_z()\n",
    "time_axis = np.arange(len(np.unique(data.df[\"t\"]))) / 20\n",
    "plt.style.use(\"seaborn-v0_8-paper\")\n",
    "palette1 = [\"#3cb44b\", \"#bfef45\"]\n",
    "palette2 = [\"#e6194B\", \"#f58231\", \"#ffe119\"]\n",
    "palette3 = [\"#000075\", \"#4363d8\", \"#42d4f4\"]\n",
    "palettes = [palette1, palette2, palette3]\n",
    "sns.set_palette(sns.color_palette(palette1))\n",
    "battery_volume = np.pi * (0.5 * 1.86) ** 2 * (260 * 0.04)\n",
    "df_r.loc[df_r[\"r_section\"] == \"Core\", \"N\"] = df_r.loc[\n",
    "    df_r[\"r_section\"] == \"Core\", \"N\"\n",
    "] / (battery_volume / 9)\n",
    "df_r.loc[df_r[\"r_section\"] == \"Intermediate\", \"N\"] = df_r.loc[\n",
    "    df_r[\"r_section\"] == \"Intermediate\", \"N\"\n",
    "] / (battery_volume * 3 / 9)\n",
    "df_r.loc[df_r[\"r_section\"] == \"External\", \"N\"] = df_r.loc[\n",
    "    df_r[\"r_section\"] == \"External\", \"N\"\n",
    "] / (battery_volume * 5 / 9)\n",
    "fig, ax = plt.subplots(figsize=(6,4), dpi=300)\n",
    "sns.lineplot(\n",
    "    data=df_r,\n",
    "    x=\"t\",\n",
    "    y=\"N\",\n",
    "    hue=\"r_section\",\n",
    "    hue_order=data._R_SECTIONS_STRING,\n",
    "    palette=palettes[1],\n",
    ")\n",
    "ax.set_xlim(time_axis[0], time_axis[-1])\n",
    "ax.set_ylim(-10, 100)\n",
    "ax.set_xlabel(\"Time [$s$]\")\n",
    "ax.set_ylabel('Agglomerate density [cm$^{-3}$]')\n",
    "ax.legend(loc=\"upper left\")\n",
    "ax.set_title(\"$r$ sections\")\n",
    "color = '#608CA5'\n",
    "ax.vlines([0.5, 1.4, 2.3], -10, 100, color=color, linestyle=(0, (5, 5)), alpha=0.4) # 1.4\n",
    "ax.text(0.42, 66, '$($a$)$', fontsize=12, color=color, backgroundcolor='white')\n",
    "ax.text(1.32, 80, '$($b$)$', fontsize=12, color=color, backgroundcolor='white')\n",
    "ax.text(2.22, 73.5, '$($c$)$', fontsize=12, color=color, backgroundcolor='white')"
   ]
  },
  {
   "cell_type": "markdown",
   "metadata": {},
   "source": [
    "`VCT5_FT_N_Exp4`"
   ]
  },
  {
   "cell_type": "code",
   "execution_count": null,
   "metadata": {},
   "outputs": [],
   "source": [
    "import fasttomo\n",
    "import pandas as pd\n",
    "import numpy as np\n",
    "import matplotlib.pyplot as plt\n",
    "import seaborn as sns\n",
    "import os\n",
    "\n",
    "data = fasttomo.Data('VCT5_FT_N_Exp4')\n",
    "try:\n",
    "    data.df = pd.read_csv(os.path.join(data.path, \"dataframe.csv\"))\n",
    "except FileNotFoundError:\n",
    "    print(\"Dataframe not found, run Data.create_dataframe() first!\")\n",
    "    pass\n",
    "data._R_SECTIONS_STRING = [\"Core\", \"Intermediate\", \"External\"]\n",
    "data._Z_SECTIONS_STRING = [\"Top\", \"Middle\", \"Bottom\"]\n",
    "test_t = data.df[\"t\"][0]\n",
    "data.df[\"t\"] = data.df[\"t\"] - data.df[\"t\"][0]\n",
    "df_tot, df_r, df_z = data._load_df_tot(), data._load_df_r(), data._load_df_z()\n",
    "time_axis = np.arange(len(np.unique(data.df[\"t\"]))) / 20\n",
    "plt.style.use(\"seaborn-v0_8-paper\")\n",
    "palette1 = [\"#3cb44b\", \"#bfef45\"]\n",
    "palette2 = [\"#e6194B\", \"#f58231\", \"#ffe119\"]\n",
    "palette3 = [\"#000075\", \"#4363d8\", \"#42d4f4\"]\n",
    "palettes = [palette1, palette2, palette3]\n",
    "sns.set_palette(sns.color_palette(palette1))\n",
    "battery_volume = np.pi * (0.5 * 1.86) ** 2 * (260 * 0.04)\n",
    "df_r.loc[df_r[\"r_section\"] == \"Core\", \"N\"] = df_r.loc[\n",
    "    df_r[\"r_section\"] == \"Core\", \"N\"\n",
    "] / (battery_volume / 9)\n",
    "df_r.loc[df_r[\"r_section\"] == \"Intermediate\", \"N\"] = df_r.loc[\n",
    "    df_r[\"r_section\"] == \"Intermediate\", \"N\"\n",
    "] / (battery_volume * 3 / 9)\n",
    "df_r.loc[df_r[\"r_section\"] == \"External\", \"N\"] = df_r.loc[\n",
    "    df_r[\"r_section\"] == \"External\", \"N\"\n",
    "] / (battery_volume * 5 / 9)\n",
    "fig, ax = plt.subplots(figsize=(6,4), dpi=300)\n",
    "sns.lineplot(\n",
    "    data=df_r,\n",
    "    x=\"t\",\n",
    "    y=\"N\",\n",
    "    hue=\"r_section\",\n",
    "    hue_order=data._R_SECTIONS_STRING,\n",
    "    palette=palettes[1],\n",
    ")\n",
    "ax.set_xlim(time_axis[0], time_axis[-1])\n",
    "ax.set_ylim(-10, 100)\n",
    "ax.set_xlabel(\"Time [$s$]\")\n",
    "ax.set_ylabel('Agglomerate density [cm$^{-3}$]')\n",
    "ax.legend(loc=\"upper left\")\n",
    "ax.set_title(\"$r$ sections\")\n",
    "color = '#608CA5'\n",
    "ax.vlines([0.5, 1.6, 2.7], -10, 100, color=color, linestyle=(0, (5, 5)), alpha=0.4) # 1.4\n",
    "ax.text(0.405, 66, '$($a$)$', fontsize=12, color=color, backgroundcolor='white')\n",
    "ax.text(1.5, 73.5, '$($b$)$', fontsize=12, color=color, backgroundcolor='white')\n",
    "ax.text(2.606, 80, '$($c$)$', fontsize=12, color=color, backgroundcolor='white')"
   ]
  }
 ],
 "metadata": {
  "kernelspec": {
   "display_name": "test",
   "language": "python",
   "name": "python3"
  },
  "language_info": {
   "codemirror_mode": {
    "name": "ipython",
    "version": 3
   },
   "file_extension": ".py",
   "mimetype": "text/x-python",
   "name": "python",
   "nbconvert_exporter": "python",
   "pygments_lexer": "ipython3",
   "version": "3.8.17"
  }
 },
 "nbformat": 4,
 "nbformat_minor": 2
}
