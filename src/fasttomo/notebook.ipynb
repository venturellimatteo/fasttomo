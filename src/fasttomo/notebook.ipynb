{
 "cells": [
  {
   "cell_type": "code",
   "execution_count": null,
   "metadata": {},
   "outputs": [],
   "source": [
    "import fasttomo\n",
    "\n",
    "exp_list = [\n",
    "    \"P28A_FT_H_Exp1\",\n",
    "    \"P28A_FT_H_Exp2\",\n",
    "    \"P28A_FT_H_Exp3_3\",\n",
    "    \"P28A_FT_H_Exp4_2\",\n",
    "    \"P28B_ISC_FT_H_Exp2\",\n",
    "    \"VCT5_FT_N_Exp1\",\n",
    "    \"VCT5_FT_N_Exp3\",\n",
    "    \"VCT5_FT_N_Exp4\",\n",
    "    \"VCT5_FT_N_Exp5\",\n",
    "    \"VCT5A_FT_H_Exp2\",\n",
    "    \"VCT5A_FT_H_Exp5\",\n",
    "]\n",
    "\n",
    "# I have to modify the threshold to run VCT5A_FT_H_Exp2\n",
    "# exp = exp_list[4]\n",
    "exp = \"VCT5A_FT_H_Exp4\" # \n",
    "data = fasttomo.Data(exp)\n",
    "data.render(rupture=True)"
   ]
  },
  {
   "cell_type": "code",
   "execution_count": null,
   "metadata": {},
   "outputs": [],
   "source": []
  }
 ],
 "metadata": {
  "kernelspec": {
   "display_name": "test",
   "language": "python",
   "name": "python3"
  },
  "language_info": {
   "codemirror_mode": {
    "name": "ipython",
    "version": 3
   },
   "file_extension": ".py",
   "mimetype": "text/x-python",
   "name": "python",
   "nbconvert_exporter": "python",
   "pygments_lexer": "ipython3",
   "version": "3.8.17"
  }
 },
 "nbformat": 4,
 "nbformat_minor": 2
}
