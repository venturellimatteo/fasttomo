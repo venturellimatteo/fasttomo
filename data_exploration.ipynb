{
 "cells": [
  {
   "cell_type": "markdown",
   "metadata": {},
   "source": [
    "Explore data from all the experiments of <code>July2022</code> and carry out the following analysis as a function of both <code>time</code> and <code>slice</code>:\n",
    "- *Number*, *dimension* and *shape* of the agglomerates;\n",
    "- For *how long* the agglomerates keep appearing.\n",
    "\n",
    "<code>mean</code>, <code>std</code>, <code>max</code> and <code>min</code> are computed for each of the above features."
   ]
  },
  {
   "cell_type": "code",
   "execution_count": 1,
   "metadata": {},
   "outputs": [],
   "source": [
    "import numpy as np\n",
    "import napari\n",
    "import myfunctions as mf"
   ]
  },
  {
   "cell_type": "code",
   "execution_count": 2,
   "metadata": {},
   "outputs": [],
   "source": [
    "data = mf.explore_experiment(mf.exp_list()[0])"
   ]
  },
  {
   "cell_type": "code",
   "execution_count": 4,
   "metadata": {},
   "outputs": [
    {
     "name": "stdout",
     "output_type": "stream",
     "text": [
      "feature(values=array([ 6.1125    , 17.59166667, 23.84583333, 24.5       , 26.275     ]), mean=19.665, std=9.214451059793705)\n",
      "feature(values=array([4954.74500544, 3931.28144956,  339.46812479,  296.65176843,\n",
      "        267.0312096 ]), mean=1957.8355115641828, std=23572.774178580374)\n"
     ]
    }
   ],
   "source": [
    "print(data.volume_number)\n",
    "print(data.volume_area)"
   ]
  },
  {
   "cell_type": "code",
   "execution_count": 3,
   "metadata": {},
   "outputs": [],
   "source": [
    "# data = []\n",
    "# for exp in mf.exp_list():\n",
    "#     data.append(mf.explore_experiment(exp))"
   ]
  }
 ],
 "metadata": {
  "kernelspec": {
   "display_name": "test",
   "language": "python",
   "name": "python3"
  },
  "language_info": {
   "codemirror_mode": {
    "name": "ipython",
    "version": 3
   },
   "file_extension": ".py",
   "mimetype": "text/x-python",
   "name": "python",
   "nbconvert_exporter": "python",
   "pygments_lexer": "ipython3",
   "version": "3.8.18"
  }
 },
 "nbformat": 4,
 "nbformat_minor": 2
}
