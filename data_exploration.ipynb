{
 "cells": [
  {
   "cell_type": "markdown",
   "metadata": {},
   "source": [
    "Explore data from all the experiments of <code>July2022</code>:\n",
    "- Compute the number and mean surface of the agglomerates in each slice;\n",
    "- Compute the mean of these quantities with respect to $t$ and with respect to $z$;\n",
    "- Plot the results."
   ]
  },
  {
   "cell_type": "code",
   "execution_count": 1,
   "metadata": {},
   "outputs": [],
   "source": [
    "import numpy as np\n",
    "import napari               # type: ignore\n",
    "import myfunctions as mf\n",
    "import matplotlib.pyplot as plt"
   ]
  },
  {
   "cell_type": "code",
   "execution_count": 3,
   "metadata": {},
   "outputs": [
    {
     "name": "stdout",
     "output_type": "stream",
     "text": [
      "Segmentation map saved successfully\n",
      "(21, 640, 640)\n"
     ]
    }
   ],
   "source": [
    "segmented_sequence = mf.load_segmentation_map('P28A_FT_H_Exp1', OS='Windows')\n",
    "\n",
    "print(segmented_sequence.shape)\n",
    "\n",
    "data = mf.explore_experiment(segmented_sequence)"
   ]
  },
  {
   "cell_type": "code",
   "execution_count": null,
   "metadata": {},
   "outputs": [],
   "source": [
    "fig, axes = plt.subplots(2, 2, figsize=(20, 20))\n",
    "titles = ['Agglomerates Number vs $z$', 'Agglomerates Area vs $z$', 'Agglomerates Number vs $t$', 'Agglomerates Area vs $t$']\n",
    "\n",
    "for y, i, j in zip(data, [0, 0, 1, 1], [0, 1, 0, 1]):\n",
    "    axes[i, j].plot(y)\n",
    "    axes[i, j].set_title(titles[2*i + j])\n",
    "    axes[i, j].set_xlabel('$z$' if i == 0 else '$t$')\n",
    "    axes[i, j].set_ylabel('Agglomerates Number' if j == 0 else 'Agglomerates Area')"
   ]
  },
  {
   "cell_type": "code",
   "execution_count": null,
   "metadata": {},
   "outputs": [],
   "source": []
  },
  {
   "cell_type": "markdown",
   "metadata": {},
   "source": [
    "Explore data from all the experiments of <code>July2022</code> and carry out the following analyses:\n",
    "- <code>explore_volume</code> fixes the time instant <code>t</code> and scans all slices from <code>first_slice</code> to <code>last_slice</code>. This is carried out for multiple time instants, which are given by $$t_i,\\; t_i+step,\\; ... ,\\; t_i+(n-1)*step$$ where $t_i=$<code>start_time</code> and $n=$ <code>time_steps_number</code>. The exploration results are the average number and surface of agglomerates in each slice (<code>volume_number</code> and <code>volume_area</code>, respectively). The mean, the standard deviation and the values associated to each volume are stored for both of the features.\n",
    "\n",
    "- <code>explore_slice</code> fixes the $z$ coordinate <code>z</code> and scans all time instants from <code>start_time</code> to <code>end_time</code>. This is carried out for multiple $z$ coordinates, which are given by $$s_i,\\; s_i+\\frac{s_f-s_i}{n-1},\\; ... ,\\; s_f$$ where $s_i=$ <code>first_slice</code>, $s_f=$ <code>last_slice</code> and $n=$ <code>volumes_number</code>. The exploration results are the average number and surface of agglomerates in each slice (<code>slice_number</code> and <code>slice_area</code>, respectively). The mean, the standard deviation and the values associated to each slice are stored for both of the features."
   ]
  }
 ],
 "metadata": {
  "kernelspec": {
   "display_name": "test",
   "language": "python",
   "name": "python3"
  },
  "language_info": {
   "codemirror_mode": {
    "name": "ipython",
    "version": 3
   },
   "file_extension": ".py",
   "mimetype": "text/x-python",
   "name": "python",
   "nbconvert_exporter": "python",
   "pygments_lexer": "ipython3",
   "version": "3.8.18"
  }
 },
 "nbformat": 4,
 "nbformat_minor": 2
}
