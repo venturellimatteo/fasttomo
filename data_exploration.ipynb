{
 "cells": [
  {
   "cell_type": "markdown",
   "metadata": {},
   "source": [
    "Explore data from all the experiments of <code>July2022</code> and carry out the following analyses:\n",
    "- <code>explore_volume</code> fixes the time instant <code>t</code> and scans all slices from <code>first_slice</code> to <code>last_slice</code>. This is carried out for multiple time instants, which are given by $$t_i,\\; t_i+step,\\; ... ,\\; t_i+(n-1)*step$$ where $t_i=$<code>start_time</code> and $n=$ <code>time_steps_number</code>. The exploration results are the average number and surface of agglomerates in each slice (<code>volume_number</code> and <code>volume_area</code>, respectively). The mean, the standard deviation and the values associated to each volume are stored for both of the features.\n",
    "\n",
    "- <code>explore_slice</code> fixes the $z$ coordinate <code>z</code> and scans all time instants from <code>start_time</code> to <code>end_time</code>. This is carried out for multiple $z$ coordinates, which are given by $$s_i,\\; s_i+\\frac{s_f-s_i}{n-1},\\; ... ,\\; s_f$$ where $s_i=$ <code>first_slice</code>, $s_f=$ <code>last_slice</code> and $n=$ <code>volumes_number</code>. The exploration results are the average number and surface of agglomerates in each slice (<code>slice_number</code> and <code>slice_area</code>, respectively). The mean, the standard deviation and the values associated to each slice are stored for both of the features."
   ]
  },
  {
   "cell_type": "code",
   "execution_count": 1,
   "metadata": {},
   "outputs": [],
   "source": [
    "import numpy as np\n",
    "import napari\n",
    "import myfunctions as mf"
   ]
  },
  {
   "cell_type": "code",
   "execution_count": 2,
   "metadata": {},
   "outputs": [
    {
     "name": "stderr",
     "output_type": "stream",
     "text": [
      "c:\\Users\\venturel\\AppData\\Local\\anaconda3\\envs\\test\\lib\\site-packages\\numpy\\core\\fromnumeric.py:3464: RuntimeWarning: Mean of empty slice.\n",
      "  return _methods._mean(a, axis=axis, dtype=dtype,\n",
      "c:\\Users\\venturel\\AppData\\Local\\anaconda3\\envs\\test\\lib\\site-packages\\numpy\\core\\_methods.py:192: RuntimeWarning: invalid value encountered in scalar divide\n",
      "  ret = ret.dtype.type(ret / rcount)\n"
     ]
    },
    {
     "ename": "KeyboardInterrupt",
     "evalue": "",
     "output_type": "error",
     "traceback": [
      "\u001b[1;31m---------------------------------------------------------------------------\u001b[0m",
      "\u001b[1;31mKeyboardInterrupt\u001b[0m                         Traceback (most recent call last)",
      "\u001b[1;32mc:\\Users\\venturel\\Documents\\MasterThesis\\data_exploration.ipynb Cell 3\u001b[0m line \u001b[0;36m1\n\u001b[1;32m----> <a href='vscode-notebook-cell:/c%3A/Users/venturel/Documents/MasterThesis/data_exploration.ipynb#W2sZmlsZQ%3D%3D?line=0'>1</a>\u001b[0m data \u001b[39m=\u001b[39m mf\u001b[39m.\u001b[39;49mexplore_experiment(mf\u001b[39m.\u001b[39;49mexp_list()[\u001b[39m0\u001b[39;49m])\n",
      "File \u001b[1;32mc:\\Users\\venturel\\Documents\\MasterThesis\\myfunctions.py:213\u001b[0m, in \u001b[0;36mexplore_experiment\u001b[1;34m(exp, time_steps_number, volumes_number, end_time, first_slice, last_slice, step, win)\u001b[0m\n\u001b[0;32m    209\u001b[0m \u001b[39mdef\u001b[39;00m \u001b[39mexplore_experiment\u001b[39m(exp, time_steps_number\u001b[39m=\u001b[39m\u001b[39m5\u001b[39m, volumes_number\u001b[39m=\u001b[39m\u001b[39m5\u001b[39m, end_time\u001b[39m=\u001b[39m\u001b[39m220\u001b[39m, first_slice\u001b[39m=\u001b[39m\u001b[39m20\u001b[39m, last_slice\u001b[39m=\u001b[39m\u001b[39m260\u001b[39m, step\u001b[39m=\u001b[39m\u001b[39m5\u001b[39m, win\u001b[39m=\u001b[39m\u001b[39mTrue\u001b[39;00m):\n\u001b[0;32m    211\u001b[0m     start_time \u001b[39m=\u001b[39m exp_start_time()[exp_list()\u001b[39m.\u001b[39mindex(exp)]\n\u001b[1;32m--> 213\u001b[0m     volume_number, volume_area \u001b[39m=\u001b[39m explore_volume(exp, start_time, end_time, first_slice, last_slice, time_steps_number, step, win)\n\u001b[0;32m    214\u001b[0m     slice_number, slice_area, slice_stability_time \u001b[39m=\u001b[39m explore_slice(exp, start_time, end_time, first_slice, last_slice, volumes_number, win)\n\u001b[0;32m    216\u001b[0m     \u001b[39mreturn\u001b[39;00m experiment(exp, volume_number, volume_area, slice_number, slice_area, slice_stability_time)\n",
      "File \u001b[1;32mc:\\Users\\venturel\\Documents\\MasterThesis\\myfunctions.py:147\u001b[0m, in \u001b[0;36mexplore_volume\u001b[1;34m(exp, start_time, end_time, first_slice, last_slice, time_steps_number, step, win)\u001b[0m\n\u001b[0;32m    144\u001b[0m segmented_image \u001b[39m=\u001b[39m (np\u001b[39m.\u001b[39mzeros_like(sequence))\u001b[39m.\u001b[39mastype(\u001b[39mint\u001b[39m)\n\u001b[0;32m    146\u001b[0m \u001b[39mfor\u001b[39;00m z \u001b[39min\u001b[39;00m \u001b[39mrange\u001b[39m(sequence\u001b[39m.\u001b[39mshape[\u001b[39m0\u001b[39m]):\n\u001b[1;32m--> 147\u001b[0m     segmented_image[z,:,:] \u001b[39m=\u001b[39m segment(sequence[z,:,:])\n\u001b[0;32m    148\u001b[0m new_segmented_image \u001b[39m=\u001b[39m propagate_labels(segmented_image)\n\u001b[0;32m    150\u001b[0m \u001b[39mfor\u001b[39;00m z \u001b[39min\u001b[39;00m \u001b[39mrange\u001b[39m(sequence\u001b[39m.\u001b[39mshape[\u001b[39m0\u001b[39m]):\n",
      "File \u001b[1;32mc:\\Users\\venturel\\Documents\\MasterThesis\\myfunctions.py:95\u001b[0m, in \u001b[0;36msegment\u001b[1;34m(image, n_agglomerates, smallest_area, eccentricity)\u001b[0m\n\u001b[0;32m     92\u001b[0m new_mask \u001b[39m=\u001b[39m np\u001b[39m.\u001b[39mzeros_like(mask_labeled)\n\u001b[0;32m     94\u001b[0m \u001b[39mfor\u001b[39;00m j, i \u001b[39min\u001b[39;00m \u001b[39menumerate\u001b[39m(idxs[:n_agglomerates]):\n\u001b[1;32m---> 95\u001b[0m     \u001b[39mif\u001b[39;00m isAgglomerate(rps, i, smallest_area, eccentricity):\n\u001b[0;32m     96\u001b[0m         new_mask[\u001b[39mtuple\u001b[39m(rps[i]\u001b[39m.\u001b[39mcoords\u001b[39m.\u001b[39mT)] \u001b[39m=\u001b[39m j \u001b[39m+\u001b[39m \u001b[39m1\u001b[39m\n\u001b[0;32m     97\u001b[0m \u001b[39mreturn\u001b[39;00m new_mask\n",
      "File \u001b[1;32mc:\\Users\\venturel\\Documents\\MasterThesis\\myfunctions.py:75\u001b[0m, in \u001b[0;36misAgglomerate\u001b[1;34m(rps, i, smallest_area, eccentricity, volume)\u001b[0m\n\u001b[0;32m     73\u001b[0m     \u001b[39mreturn\u001b[39;00m \u001b[39mFalse\u001b[39;00m\n\u001b[0;32m     74\u001b[0m \u001b[39mif\u001b[39;00m \u001b[39mnot\u001b[39;00m volume:\n\u001b[1;32m---> 75\u001b[0m     \u001b[39mif\u001b[39;00m rps[i]\u001b[39m.\u001b[39;49meccentricity \u001b[39m>\u001b[39m eccentricity:\n\u001b[0;32m     76\u001b[0m         \u001b[39mreturn\u001b[39;00m \u001b[39mFalse\u001b[39;00m\n\u001b[0;32m     77\u001b[0m \u001b[39mreturn\u001b[39;00m \u001b[39mTrue\u001b[39;00m\n",
      "File \u001b[1;32mc:\\Users\\venturel\\AppData\\Local\\anaconda3\\envs\\test\\lib\\site-packages\\skimage\\measure\\_regionprops.py:238\u001b[0m, in \u001b[0;36monly2d.<locals>.func2d\u001b[1;34m(self, *args, **kwargs)\u001b[0m\n\u001b[0;32m    234\u001b[0m \u001b[39mif\u001b[39;00m \u001b[39mself\u001b[39m\u001b[39m.\u001b[39m_ndim \u001b[39m>\u001b[39m \u001b[39m2\u001b[39m:\n\u001b[0;32m    235\u001b[0m     \u001b[39mraise\u001b[39;00m \u001b[39mNotImplementedError\u001b[39;00m(\n\u001b[0;32m    236\u001b[0m         \u001b[39mf\u001b[39m\u001b[39m\"\u001b[39m\u001b[39mProperty \u001b[39m\u001b[39m{\u001b[39;00mmethod\u001b[39m.\u001b[39m\u001b[39m__name__\u001b[39m\u001b[39m}\u001b[39;00m\u001b[39m is not implemented for 3D images\u001b[39m\u001b[39m\"\u001b[39m\n\u001b[0;32m    237\u001b[0m     )\n\u001b[1;32m--> 238\u001b[0m \u001b[39mreturn\u001b[39;00m method(\u001b[39mself\u001b[39;49m, \u001b[39m*\u001b[39;49margs, \u001b[39m*\u001b[39;49m\u001b[39m*\u001b[39;49mkwargs)\n",
      "File \u001b[1;32mc:\\Users\\venturel\\AppData\\Local\\anaconda3\\envs\\test\\lib\\site-packages\\skimage\\measure\\_regionprops.py:451\u001b[0m, in \u001b[0;36mRegionProperties.eccentricity\u001b[1;34m(self)\u001b[0m\n\u001b[0;32m    448\u001b[0m \u001b[39m@property\u001b[39m\n\u001b[0;32m    449\u001b[0m \u001b[39m@only2d\u001b[39m\n\u001b[0;32m    450\u001b[0m \u001b[39mdef\u001b[39;00m \u001b[39meccentricity\u001b[39m(\u001b[39mself\u001b[39m):\n\u001b[1;32m--> 451\u001b[0m     l1, l2 \u001b[39m=\u001b[39m \u001b[39mself\u001b[39;49m\u001b[39m.\u001b[39;49minertia_tensor_eigvals\n\u001b[0;32m    452\u001b[0m     \u001b[39mif\u001b[39;00m l1 \u001b[39m==\u001b[39m \u001b[39m0\u001b[39m:\n\u001b[0;32m    453\u001b[0m         \u001b[39mreturn\u001b[39;00m \u001b[39m0\u001b[39m\n",
      "File \u001b[1;32mc:\\Users\\venturel\\AppData\\Local\\anaconda3\\envs\\test\\lib\\site-packages\\skimage\\measure\\_regionprops.py:224\u001b[0m, in \u001b[0;36m_cached.<locals>.wrapper\u001b[1;34m(obj)\u001b[0m\n\u001b[0;32m    221\u001b[0m prop \u001b[39m=\u001b[39m f\u001b[39m.\u001b[39m\u001b[39m__name__\u001b[39m\n\u001b[0;32m    223\u001b[0m \u001b[39mif\u001b[39;00m \u001b[39mnot\u001b[39;00m ((prop \u001b[39min\u001b[39;00m cache) \u001b[39mand\u001b[39;00m obj\u001b[39m.\u001b[39m_cache_active):\n\u001b[1;32m--> 224\u001b[0m     cache[prop] \u001b[39m=\u001b[39m f(obj)\n\u001b[0;32m    226\u001b[0m \u001b[39mreturn\u001b[39;00m cache[prop]\n",
      "File \u001b[1;32mc:\\Users\\venturel\\AppData\\Local\\anaconda3\\envs\\test\\lib\\site-packages\\skimage\\measure\\_regionprops.py:509\u001b[0m, in \u001b[0;36mRegionProperties.inertia_tensor_eigvals\u001b[1;34m(self)\u001b[0m\n\u001b[0;32m    505\u001b[0m \u001b[39m@property\u001b[39m\n\u001b[0;32m    506\u001b[0m \u001b[39m@_cached\u001b[39m\n\u001b[0;32m    507\u001b[0m \u001b[39mdef\u001b[39;00m \u001b[39minertia_tensor_eigvals\u001b[39m(\u001b[39mself\u001b[39m):\n\u001b[0;32m    508\u001b[0m     \u001b[39mreturn\u001b[39;00m _moments\u001b[39m.\u001b[39minertia_tensor_eigvals(\u001b[39mself\u001b[39m\u001b[39m.\u001b[39mimage,\n\u001b[1;32m--> 509\u001b[0m                                            T\u001b[39m=\u001b[39m\u001b[39mself\u001b[39;49m\u001b[39m.\u001b[39;49minertia_tensor)\n",
      "File \u001b[1;32mc:\\Users\\venturel\\AppData\\Local\\anaconda3\\envs\\test\\lib\\site-packages\\skimage\\measure\\_regionprops.py:224\u001b[0m, in \u001b[0;36m_cached.<locals>.wrapper\u001b[1;34m(obj)\u001b[0m\n\u001b[0;32m    221\u001b[0m prop \u001b[39m=\u001b[39m f\u001b[39m.\u001b[39m\u001b[39m__name__\u001b[39m\n\u001b[0;32m    223\u001b[0m \u001b[39mif\u001b[39;00m \u001b[39mnot\u001b[39;00m ((prop \u001b[39min\u001b[39;00m cache) \u001b[39mand\u001b[39;00m obj\u001b[39m.\u001b[39m_cache_active):\n\u001b[1;32m--> 224\u001b[0m     cache[prop] \u001b[39m=\u001b[39m f(obj)\n\u001b[0;32m    226\u001b[0m \u001b[39mreturn\u001b[39;00m cache[prop]\n",
      "File \u001b[1;32mc:\\Users\\venturel\\AppData\\Local\\anaconda3\\envs\\test\\lib\\site-packages\\skimage\\measure\\_regionprops.py:502\u001b[0m, in \u001b[0;36mRegionProperties.inertia_tensor\u001b[1;34m(self)\u001b[0m\n\u001b[0;32m    499\u001b[0m \u001b[39m@property\u001b[39m\n\u001b[0;32m    500\u001b[0m \u001b[39m@_cached\u001b[39m\n\u001b[0;32m    501\u001b[0m \u001b[39mdef\u001b[39;00m \u001b[39minertia_tensor\u001b[39m(\u001b[39mself\u001b[39m):\n\u001b[1;32m--> 502\u001b[0m     mu \u001b[39m=\u001b[39m \u001b[39mself\u001b[39;49m\u001b[39m.\u001b[39;49mmoments_central\n\u001b[0;32m    503\u001b[0m     \u001b[39mreturn\u001b[39;00m _moments\u001b[39m.\u001b[39minertia_tensor(\u001b[39mself\u001b[39m\u001b[39m.\u001b[39mimage, mu, spacing\u001b[39m=\u001b[39m\u001b[39mself\u001b[39m\u001b[39m.\u001b[39m_spacing)\n",
      "File \u001b[1;32mc:\\Users\\venturel\\AppData\\Local\\anaconda3\\envs\\test\\lib\\site-packages\\skimage\\measure\\_regionprops.py:224\u001b[0m, in \u001b[0;36m_cached.<locals>.wrapper\u001b[1;34m(obj)\u001b[0m\n\u001b[0;32m    221\u001b[0m prop \u001b[39m=\u001b[39m f\u001b[39m.\u001b[39m\u001b[39m__name__\u001b[39m\n\u001b[0;32m    223\u001b[0m \u001b[39mif\u001b[39;00m \u001b[39mnot\u001b[39;00m ((prop \u001b[39min\u001b[39;00m cache) \u001b[39mand\u001b[39;00m obj\u001b[39m.\u001b[39m_cache_active):\n\u001b[1;32m--> 224\u001b[0m     cache[prop] \u001b[39m=\u001b[39m f(obj)\n\u001b[0;32m    226\u001b[0m \u001b[39mreturn\u001b[39;00m cache[prop]\n",
      "File \u001b[1;32mc:\\Users\\venturel\\AppData\\Local\\anaconda3\\envs\\test\\lib\\site-packages\\skimage\\measure\\_regionprops.py:584\u001b[0m, in \u001b[0;36mRegionProperties.moments_central\u001b[1;34m(self)\u001b[0m\n\u001b[0;32m    581\u001b[0m \u001b[39m@property\u001b[39m\n\u001b[0;32m    582\u001b[0m \u001b[39m@_cached\u001b[39m\n\u001b[0;32m    583\u001b[0m \u001b[39mdef\u001b[39;00m \u001b[39mmoments_central\u001b[39m(\u001b[39mself\u001b[39m):\n\u001b[1;32m--> 584\u001b[0m     mu \u001b[39m=\u001b[39m _moments\u001b[39m.\u001b[39mmoments_central(\u001b[39mself\u001b[39;49m\u001b[39m.\u001b[39;49mimage\u001b[39m.\u001b[39;49mastype(np\u001b[39m.\u001b[39;49muint8),\n\u001b[0;32m    585\u001b[0m                                   \u001b[39mself\u001b[39m\u001b[39m.\u001b[39mcentroid_local, order\u001b[39m=\u001b[39m\u001b[39m3\u001b[39m, spacing\u001b[39m=\u001b[39m\u001b[39mself\u001b[39m\u001b[39m.\u001b[39m_spacing)\n\u001b[0;32m    586\u001b[0m     \u001b[39mreturn\u001b[39;00m mu\n",
      "\u001b[1;31mKeyboardInterrupt\u001b[0m: "
     ]
    }
   ],
   "source": [
    "data = mf.explore_experiment(mf.exp_list()[0])"
   ]
  },
  {
   "cell_type": "code",
   "execution_count": 4,
   "metadata": {},
   "outputs": [
    {
     "name": "stdout",
     "output_type": "stream",
     "text": [
      "feature(values=array([ 6.1125    , 17.59166667, 23.84583333, 24.5       , 26.275     ]), mean=19.665, std=9.214451059793705)\n",
      "feature(values=array([4954.74500544, 3931.28144956,  339.46812479,  296.65176843,\n",
      "        267.0312096 ]), mean=1957.8355115641828, std=23572.774178580374)\n"
     ]
    }
   ],
   "source": [
    "print(data.volume_number)\n",
    "print(data.volume_area)\n",
    "print(data.slice_number)\n",
    "print(data.slice_area)"
   ]
  },
  {
   "cell_type": "code",
   "execution_count": 3,
   "metadata": {},
   "outputs": [],
   "source": [
    "# data = []\n",
    "# for exp in mf.exp_list():\n",
    "#     data.append(mf.explore_experiment(exp))"
   ]
  }
 ],
 "metadata": {
  "kernelspec": {
   "display_name": "test",
   "language": "python",
   "name": "python3"
  },
  "language_info": {
   "codemirror_mode": {
    "name": "ipython",
    "version": 3
   },
   "file_extension": ".py",
   "mimetype": "text/x-python",
   "name": "python",
   "nbconvert_exporter": "python",
   "pygments_lexer": "ipython3",
   "version": "3.8.18"
  }
 },
 "nbformat": 4,
 "nbformat_minor": 2
}
