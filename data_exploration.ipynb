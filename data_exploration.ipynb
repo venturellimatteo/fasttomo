{
 "cells": [
  {
   "cell_type": "markdown",
   "metadata": {},
   "source": [
    "Explore data from all the experiments of <code>July2022</code> and carry out the following analysis as a function of both <code>time</code> and <code>slice</code>:\n",
    "- *Number*, *dimension* and *shape* of the agglomerates;\n",
    "- For *how long* the agglomerates keep appearing.\n",
    "\n",
    "<code>mean</code>, <code>std</code>, <code>max</code> and <code>min</code> are computed for each of the above features."
   ]
  },
  {
   "cell_type": "code",
   "execution_count": 1,
   "metadata": {},
   "outputs": [],
   "source": [
    "import numpy as np\n",
    "import napari\n",
    "import myfunctions as mf"
   ]
  },
  {
   "cell_type": "markdown",
   "metadata": {},
   "source": [
    "Import an image sequence into napari.\n",
    "- *<code>default</code>: specify <code>time</code> and look at the whole volume*\n",
    "- *<code>volume=False</code>: specify <code>slice</code> and look at the time evolution*"
   ]
  },
  {
   "cell_type": "code",
   "execution_count": 4,
   "metadata": {},
   "outputs": [],
   "source": [
    "sequence = mf.read_sequence(exp='P28A_FT_H_Exp1', time=150, win=True)\n",
    "viewer = napari.Viewer()\n",
    "_ = viewer.add_image(sequence)"
   ]
  }
 ],
 "metadata": {
  "kernelspec": {
   "display_name": "test",
   "language": "python",
   "name": "python3"
  },
  "language_info": {
   "codemirror_mode": {
    "name": "ipython",
    "version": 3
   },
   "file_extension": ".py",
   "mimetype": "text/x-python",
   "name": "python",
   "nbconvert_exporter": "python",
   "pygments_lexer": "ipython3",
   "version": "3.8.17"
  }
 },
 "nbformat": 4,
 "nbformat_minor": 2
}
