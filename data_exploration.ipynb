{
 "cells": [
  {
   "cell_type": "code",
   "execution_count": 1,
   "metadata": {},
   "outputs": [],
   "source": [
    "import numpy as np\n",
    "from skimage.io import imread\n",
    "import napari\n",
    "import glob"
   ]
  },
  {
   "cell_type": "code",
   "execution_count": 2,
   "metadata": {},
   "outputs": [],
   "source": [
    "def read_sequence(exp, time=0, slice=0, volume=True, win=False):\n",
    "    if win:\n",
    "        if volume:\n",
    "            path = 'Z:/Reconstructions/' + exp + '/entry' + str(time).zfill(4) + '_no_extpag_db0100_vol/'\n",
    "        else:\n",
    "            path = 'Z:/Reconstructions/' + exp + '/slice ' + str(slice) + '/'\n",
    "    else:\n",
    "        if volume:\n",
    "            path = '../MasterThesisData/' + exp + '/entry' + str(time).zfill(4) + '_no_extpag_db0100_vol/'\n",
    "        else:\n",
    "            path = '../MasterThesisData/' + exp + '/slice ' + str(slice) + '/'\n",
    "        \n",
    "    image = imread(path+'entry' + str(time).zfill(4) + '_no_extpag_db0100_vol_' + str(slice).zfill(6) + '.tiff')\n",
    "    files_number = len(glob.glob1(path,\"*.tiff\"))\n",
    "    sequence = np.zeros((files_number,image.shape[0],image.shape[1]))\n",
    "\n",
    "    for i in range(files_number):\n",
    "        if volume:\n",
    "            image = imread(path+'entry'+str(time).zfill(4)+'_no_extpag_db0100_vol_'+str(i).zfill(6)+'.tiff')\n",
    "        else:\n",
    "            image = imread(path+'entry'+str(i).zfill(4)+'_no_extpag_db0100_vol_'+str(slice).zfill(6)+'.tiff')\n",
    "        sequence[i,:,:] = image\n",
    "    return sequence"
   ]
  },
  {
   "cell_type": "code",
   "execution_count": 3,
   "metadata": {},
   "outputs": [],
   "source": [
    "sequence = read_sequence('P28A_FT_H_Exp1', slice=150, volume=False)\n",
    "viewer = napari.Viewer()\n",
    "_ = viewer.add_image(sequence)"
   ]
  }
 ],
 "metadata": {
  "kernelspec": {
   "display_name": "test",
   "language": "python",
   "name": "python3"
  },
  "language_info": {
   "codemirror_mode": {
    "name": "ipython",
    "version": 3
   },
   "file_extension": ".py",
   "mimetype": "text/x-python",
   "name": "python",
   "nbconvert_exporter": "python",
   "pygments_lexer": "ipython3",
   "version": "3.8.17"
  }
 },
 "nbformat": 4,
 "nbformat_minor": 2
}
