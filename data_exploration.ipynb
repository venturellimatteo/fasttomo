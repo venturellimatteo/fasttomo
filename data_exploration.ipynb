{
 "cells": [
  {
   "cell_type": "markdown",
   "metadata": {},
   "source": [
    "Explore data from all the experiments of <code>July2022</code> and carry out the following analysis as a function of both <code>time</code> and <code>slice</code>:\n",
    "- *Number*, *dimension* and *shape* of the agglomerates;\n",
    "- For *how long* the agglomerates keep appearing.\n",
    "\n",
    "<code>mean</code>, <code>std</code>, <code>max</code> and <code>min</code> are computed for each of the above features."
   ]
  },
  {
   "cell_type": "code",
   "execution_count": 3,
   "metadata": {},
   "outputs": [],
   "source": [
    "import numpy as np\n",
    "import napari\n",
    "import myfunctions as mf"
   ]
  },
  {
   "cell_type": "code",
   "execution_count": null,
   "metadata": {},
   "outputs": [],
   "source": [
    "data = []\n",
    "for exp in mf.exp_list():\n",
    "    data.append(mf.explore_experiment(exp))"
   ]
  }
 ],
 "metadata": {
  "kernelspec": {
   "display_name": "test",
   "language": "python",
   "name": "python3"
  },
  "language_info": {
   "codemirror_mode": {
    "name": "ipython",
    "version": 3
   },
   "file_extension": ".py",
   "mimetype": "text/x-python",
   "name": "python",
   "nbconvert_exporter": "python",
   "pygments_lexer": "ipython3",
   "version": "3.8.17"
  }
 },
 "nbformat": 4,
 "nbformat_minor": 2
}
