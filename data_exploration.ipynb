{
 "cells": [
  {
   "cell_type": "markdown",
   "metadata": {},
   "source": [
    "Explore data from all the experiments of <code>July2022</code> and carry out the following analyses:\n",
    "- <code>explore_volume</code> fixes the time instant <code>t</code> and scans all slices from <code>first_slice</code> to <code>last_slice</code>. This is carried out for multiple time instants, which are given by $$t_i,\\; t_i+step,\\; ... ,\\; t_i+(n-1)*step$$ where $t_i=$<code>start_time</code> and $n=$ <code>time_steps_number</code>. The exploration results are the average number and surface of agglomerates in each slice (<code>volume_number</code> and <code>volume_area</code>, respectively). The mean, the standard deviation and the values associated to each volume are stored for both of the features.\n",
    "\n",
    "- <code>explore_slice</code> fixes the $z$ coordinate <code>z</code> and scans all time instants from <code>start_time</code> to <code>end_time</code>. This is carried out for multiple $z$ coordinates, which are given by $$s_i,\\; s_i+\\frac{s_f-s_i}{n-1},\\; ... ,\\; s_f$$ where $s_i=$ <code>first_slice</code>, $s_f=$ <code>last_slice</code> and $n=$ <code>volumes_number</code>. The exploration results are the average number and surface of agglomerates in each slice (<code>slice_number</code> and <code>slice_area</code>, respectively). The mean, the standard deviation and the values associated to each slice are stored for both of the features."
   ]
  },
  {
   "cell_type": "code",
   "execution_count": 1,
   "metadata": {},
   "outputs": [],
   "source": [
    "import numpy as np\n",
    "import napari\n",
    "import myfunctions as mf"
   ]
  },
  {
   "cell_type": "code",
   "execution_count": 2,
   "metadata": {},
   "outputs": [],
   "source": [
    "data = mf.explore_experiment(mf.exp_list()[0])"
   ]
  },
  {
   "cell_type": "code",
   "execution_count": 4,
   "metadata": {},
   "outputs": [
    {
     "name": "stdout",
     "output_type": "stream",
     "text": [
      "feature(values=array([ 6.1125    , 17.59166667, 23.84583333, 24.5       , 26.275     ]), mean=19.665, std=9.214451059793705)\n",
      "feature(values=array([4954.74500544, 3931.28144956,  339.46812479,  296.65176843,\n",
      "        267.0312096 ]), mean=1957.8355115641828, std=23572.774178580374)\n"
     ]
    }
   ],
   "source": [
    "print(data.volume_number)\n",
    "print(data.volume_area)"
   ]
  },
  {
   "cell_type": "code",
   "execution_count": 3,
   "metadata": {},
   "outputs": [],
   "source": [
    "# data = []\n",
    "# for exp in mf.exp_list():\n",
    "#     data.append(mf.explore_experiment(exp))"
   ]
  }
 ],
 "metadata": {
  "kernelspec": {
   "display_name": "test",
   "language": "python",
   "name": "python3"
  },
  "language_info": {
   "codemirror_mode": {
    "name": "ipython",
    "version": 3
   },
   "file_extension": ".py",
   "mimetype": "text/x-python",
   "name": "python",
   "nbconvert_exporter": "python",
   "pygments_lexer": "ipython3",
   "version": "3.8.17"
  }
 },
 "nbformat": 4,
 "nbformat_minor": 2
}
